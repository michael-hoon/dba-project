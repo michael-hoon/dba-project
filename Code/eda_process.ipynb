{
 "cells": [
  {
   "cell_type": "markdown",
   "metadata": {},
   "source": [
    "# Importing Libraries"
   ]
  },
  {
   "cell_type": "code",
   "execution_count": 1,
   "metadata": {
    "execution": {
     "iopub.execute_input": "2024-04-16T08:09:45.799035Z",
     "iopub.status.busy": "2024-04-16T08:09:45.798516Z",
     "iopub.status.idle": "2024-04-16T08:09:47.712164Z",
     "shell.execute_reply": "2024-04-16T08:09:47.711623Z"
    }
   },
   "outputs": [],
   "source": [
    "# libraries for automating the data analysis process\n",
    "\n",
    "import os \n",
    "from glob import glob\n",
    "\n",
    "# libraries for data analysis\n",
    "\n",
    "import pandas as pd\n",
    "import matplotlib.pyplot as plt\n",
    "import seaborn as sns"
   ]
  },
  {
   "cell_type": "markdown",
   "metadata": {},
   "source": [
    "# Defining Folder Variables"
   ]
  },
  {
   "cell_type": "code",
   "execution_count": 2,
   "metadata": {
    "execution": {
     "iopub.execute_input": "2024-04-16T08:09:47.715886Z",
     "iopub.status.busy": "2024-04-16T08:09:47.715363Z",
     "iopub.status.idle": "2024-04-16T08:09:47.719932Z",
     "shell.execute_reply": "2024-04-16T08:09:47.719394Z"
    }
   },
   "outputs": [],
   "source": [
    "# Set relative paths for different folders\n",
    "MAIN_FOLDER = os.path.abspath(os.path.join(os.getcwd(), \"..\"))\n",
    "\n",
    "CODE_FOLDER = os.path.join(MAIN_FOLDER, \"Code\")\n",
    "\n",
    "PROFILE_FOLDER = os.path.join(CODE_FOLDER, \"ProfileReports\")\n",
    "\n",
    "DATA_FOLDER = os.path.join(MAIN_FOLDER, \"Data\")\n",
    "\n",
    "RAW_SHEETS_FOLDER = os.path.join(DATA_FOLDER, \"Raw_Sheets\")\n",
    "\n",
    "CLEANED_SHEETS_FOLDER = os.path.join(DATA_FOLDER, \"Cleaned_Sheets\")\n"
   ]
  },
  {
   "cell_type": "markdown",
   "metadata": {},
   "source": [
    "# Defining Sheet Variable"
   ]
  },
  {
   "cell_type": "code",
   "execution_count": 3,
   "metadata": {
    "execution": {
     "iopub.execute_input": "2024-04-16T08:09:47.722591Z",
     "iopub.status.busy": "2024-04-16T08:09:47.722057Z",
     "iopub.status.idle": "2024-04-16T08:09:47.725788Z",
     "shell.execute_reply": "2024-04-16T08:09:47.725245Z"
    }
   },
   "outputs": [],
   "source": [
    "SAVE_TO_CSV = os.path.join(CLEANED_SHEETS_FOLDER, \"cleaned_sheet.csv\")"
   ]
  },
  {
   "cell_type": "markdown",
   "metadata": {},
   "source": [
    "# Loading Data"
   ]
  },
  {
   "cell_type": "code",
   "execution_count": 4,
   "metadata": {
    "execution": {
     "iopub.execute_input": "2024-04-16T08:09:47.727908Z",
     "iopub.status.busy": "2024-04-16T08:09:47.727908Z",
     "iopub.status.idle": "2024-04-16T08:09:50.309865Z",
     "shell.execute_reply": "2024-04-16T08:09:50.309865Z"
    }
   },
   "outputs": [
    {
     "data": {
      "text/html": [
       "<div>\n",
       "<style scoped>\n",
       "    .dataframe tbody tr th:only-of-type {\n",
       "        vertical-align: middle;\n",
       "    }\n",
       "\n",
       "    .dataframe tbody tr th {\n",
       "        vertical-align: top;\n",
       "    }\n",
       "\n",
       "    .dataframe thead th {\n",
       "        text-align: right;\n",
       "    }\n",
       "</style>\n",
       "<table border=\"1\" class=\"dataframe\">\n",
       "  <thead>\n",
       "    <tr style=\"text-align: right;\">\n",
       "      <th></th>\n",
       "      <th>OrderNumber</th>\n",
       "      <th>CUSTID</th>\n",
       "      <th>JOBTYPE</th>\n",
       "      <th>Department</th>\n",
       "      <th>FROMLOCSTR</th>\n",
       "      <th>TOLOCSTR</th>\n",
       "      <th>STARTTM</th>\n",
       "      <th>ENDTM</th>\n",
       "      <th>TripDuration</th>\n",
       "      <th>CTCOMPLETEDT</th>\n",
       "      <th>DriverId</th>\n",
       "      <th>PrimeMoverId</th>\n",
       "      <th>TrailerId</th>\n",
       "      <th>JOINED DATE</th>\n",
       "      <th>RESIGNED DATE</th>\n",
       "      <th>RACE</th>\n",
       "      <th>Team</th>\n",
       "      <th>Status</th>\n",
       "      <th>AGE_Years</th>\n",
       "      <th>Seniority</th>\n",
       "    </tr>\n",
       "  </thead>\n",
       "  <tbody>\n",
       "    <tr>\n",
       "      <th>0</th>\n",
       "      <td>TL9008453</td>\n",
       "      <td>00-RE001</td>\n",
       "      <td>LOCAL</td>\n",
       "      <td>CHIEN</td>\n",
       "      <td>JI DRUM</td>\n",
       "      <td>1 SERAYA AVE</td>\n",
       "      <td>2021-01-07 08:00:00</td>\n",
       "      <td>2021-01-07 08:30:00</td>\n",
       "      <td>0.5</td>\n",
       "      <td>2021-01-07</td>\n",
       "      <td>2</td>\n",
       "      <td>215</td>\n",
       "      <td>1538.0</td>\n",
       "      <td>2007-06-07</td>\n",
       "      <td>2021-02-23</td>\n",
       "      <td>CHINESE</td>\n",
       "      <td>CHIEN LI</td>\n",
       "      <td>16.0</td>\n",
       "      <td>53.58</td>\n",
       "      <td>13.72</td>\n",
       "    </tr>\n",
       "    <tr>\n",
       "      <th>1</th>\n",
       "      <td>TL9008453</td>\n",
       "      <td>00-RE001</td>\n",
       "      <td>LOCAL</td>\n",
       "      <td>CHIEN</td>\n",
       "      <td>JI DRUM</td>\n",
       "      <td>1 SERAYA AVE</td>\n",
       "      <td>2021-01-07 10:30:00</td>\n",
       "      <td>2021-01-07 11:00:00</td>\n",
       "      <td>0.5</td>\n",
       "      <td>2021-01-07</td>\n",
       "      <td>2</td>\n",
       "      <td>215</td>\n",
       "      <td>972.0</td>\n",
       "      <td>2007-06-07</td>\n",
       "      <td>2021-02-23</td>\n",
       "      <td>CHINESE</td>\n",
       "      <td>CHIEN LI</td>\n",
       "      <td>16.0</td>\n",
       "      <td>53.58</td>\n",
       "      <td>13.72</td>\n",
       "    </tr>\n",
       "    <tr>\n",
       "      <th>2</th>\n",
       "      <td>TL9009105</td>\n",
       "      <td>00-RE001</td>\n",
       "      <td>LOCAL</td>\n",
       "      <td>CHIEN</td>\n",
       "      <td>JI DRUM</td>\n",
       "      <td>1 SERAYA AVE</td>\n",
       "      <td>2021-01-27 08:00:00</td>\n",
       "      <td>2021-01-27 08:30:00</td>\n",
       "      <td>0.5</td>\n",
       "      <td>2021-01-27</td>\n",
       "      <td>2</td>\n",
       "      <td>215</td>\n",
       "      <td>972.0</td>\n",
       "      <td>2007-06-07</td>\n",
       "      <td>2021-02-23</td>\n",
       "      <td>CHINESE</td>\n",
       "      <td>CHIEN LI</td>\n",
       "      <td>6.0</td>\n",
       "      <td>53.58</td>\n",
       "      <td>13.72</td>\n",
       "    </tr>\n",
       "    <tr>\n",
       "      <th>3</th>\n",
       "      <td>TL9009105</td>\n",
       "      <td>00-RE001</td>\n",
       "      <td>LOCAL</td>\n",
       "      <td>CHIEN</td>\n",
       "      <td>JI DRUM</td>\n",
       "      <td>1 SERAYA AVE</td>\n",
       "      <td>2021-01-27 10:30:00</td>\n",
       "      <td>2021-01-27 11:00:00</td>\n",
       "      <td>0.5</td>\n",
       "      <td>2021-01-27</td>\n",
       "      <td>2</td>\n",
       "      <td>215</td>\n",
       "      <td>1538.0</td>\n",
       "      <td>2007-06-07</td>\n",
       "      <td>2021-02-23</td>\n",
       "      <td>CHINESE</td>\n",
       "      <td>CHIEN LI</td>\n",
       "      <td>6.0</td>\n",
       "      <td>53.58</td>\n",
       "      <td>13.72</td>\n",
       "    </tr>\n",
       "    <tr>\n",
       "      <th>4</th>\n",
       "      <td>TL9008550</td>\n",
       "      <td>00-RE001</td>\n",
       "      <td>LOCAL</td>\n",
       "      <td>CHIEN</td>\n",
       "      <td>JI DRUM</td>\n",
       "      <td>1 SERAYA AVE</td>\n",
       "      <td>2021-01-11 08:00:00</td>\n",
       "      <td>2021-01-11 08:30:00</td>\n",
       "      <td>0.5</td>\n",
       "      <td>2021-01-11</td>\n",
       "      <td>2</td>\n",
       "      <td>215</td>\n",
       "      <td>1538.0</td>\n",
       "      <td>2007-06-07</td>\n",
       "      <td>2021-02-23</td>\n",
       "      <td>CHINESE</td>\n",
       "      <td>CHIEN LI</td>\n",
       "      <td>13.0</td>\n",
       "      <td>53.58</td>\n",
       "      <td>13.72</td>\n",
       "    </tr>\n",
       "    <tr>\n",
       "      <th>...</th>\n",
       "      <td>...</td>\n",
       "      <td>...</td>\n",
       "      <td>...</td>\n",
       "      <td>...</td>\n",
       "      <td>...</td>\n",
       "      <td>...</td>\n",
       "      <td>...</td>\n",
       "      <td>...</td>\n",
       "      <td>...</td>\n",
       "      <td>...</td>\n",
       "      <td>...</td>\n",
       "      <td>...</td>\n",
       "      <td>...</td>\n",
       "      <td>...</td>\n",
       "      <td>...</td>\n",
       "      <td>...</td>\n",
       "      <td>...</td>\n",
       "      <td>...</td>\n",
       "      <td>...</td>\n",
       "      <td>...</td>\n",
       "    </tr>\n",
       "    <tr>\n",
       "      <th>1081769</th>\n",
       "      <td>XI7007593</td>\n",
       "      <td>00-RE114</td>\n",
       "      <td>IMPORT</td>\n",
       "      <td>XINHUA</td>\n",
       "      <td>31GUL CR</td>\n",
       "      <td>14 PENJ RD</td>\n",
       "      <td>2023-12-12 08:30:00</td>\n",
       "      <td>2023-12-12 09:30:00</td>\n",
       "      <td>1.0</td>\n",
       "      <td>2023-12-12</td>\n",
       "      <td>169</td>\n",
       "      <td>296</td>\n",
       "      <td>1771.0</td>\n",
       "      <td>2007-12-01</td>\n",
       "      <td>2023-12-31</td>\n",
       "      <td>CHINESE</td>\n",
       "      <td>Team 1</td>\n",
       "      <td>13.0</td>\n",
       "      <td>55.33</td>\n",
       "      <td>16.08</td>\n",
       "    </tr>\n",
       "    <tr>\n",
       "      <th>1081770</th>\n",
       "      <td>XI7007593</td>\n",
       "      <td>00-RE114</td>\n",
       "      <td>IMPORT</td>\n",
       "      <td>XINHUA</td>\n",
       "      <td>14 PENJ RD</td>\n",
       "      <td>EKY2</td>\n",
       "      <td>2023-12-12 09:30:00</td>\n",
       "      <td>2023-12-12 10:00:00</td>\n",
       "      <td>0.5</td>\n",
       "      <td>2023-12-12</td>\n",
       "      <td>169</td>\n",
       "      <td>296</td>\n",
       "      <td>1771.0</td>\n",
       "      <td>2007-12-01</td>\n",
       "      <td>2023-12-31</td>\n",
       "      <td>CHINESE</td>\n",
       "      <td>Team 1</td>\n",
       "      <td>13.0</td>\n",
       "      <td>55.33</td>\n",
       "      <td>16.08</td>\n",
       "    </tr>\n",
       "    <tr>\n",
       "      <th>1081771</th>\n",
       "      <td>XI7007610</td>\n",
       "      <td>00-RE114</td>\n",
       "      <td>IMPORT</td>\n",
       "      <td>XINHUA</td>\n",
       "      <td>PSA/PPT</td>\n",
       "      <td>PTC ISL (G)</td>\n",
       "      <td>2023-12-12 09:00:00</td>\n",
       "      <td>2023-12-12 10:00:00</td>\n",
       "      <td>1.0</td>\n",
       "      <td>2023-12-12</td>\n",
       "      <td>379</td>\n",
       "      <td>338</td>\n",
       "      <td>1499.0</td>\n",
       "      <td>2014-11-01</td>\n",
       "      <td>2023-12-31</td>\n",
       "      <td>MALAY</td>\n",
       "      <td>Team 1</td>\n",
       "      <td>9.0</td>\n",
       "      <td>55.08</td>\n",
       "      <td>9.16</td>\n",
       "    </tr>\n",
       "    <tr>\n",
       "      <th>1081772</th>\n",
       "      <td>XI7007610</td>\n",
       "      <td>00-RE114</td>\n",
       "      <td>IMPORT</td>\n",
       "      <td>XINHUA</td>\n",
       "      <td>PTC ISL (G)</td>\n",
       "      <td>CWT47JLNBUROH</td>\n",
       "      <td>2023-12-13 11:00:00</td>\n",
       "      <td>2023-12-13 12:00:00</td>\n",
       "      <td>1.0</td>\n",
       "      <td>2023-12-13</td>\n",
       "      <td>356</td>\n",
       "      <td>336</td>\n",
       "      <td>1934.0</td>\n",
       "      <td>2012-08-24</td>\n",
       "      <td>2023-12-31</td>\n",
       "      <td>MALAY</td>\n",
       "      <td>Team 1</td>\n",
       "      <td>8.0</td>\n",
       "      <td>37.42</td>\n",
       "      <td>11.35</td>\n",
       "    </tr>\n",
       "    <tr>\n",
       "      <th>1081773</th>\n",
       "      <td>XI7007622</td>\n",
       "      <td>00-RE114</td>\n",
       "      <td>IMPORT</td>\n",
       "      <td>XINHUA</td>\n",
       "      <td>PSA/PPT</td>\n",
       "      <td>PTC ISL (G)</td>\n",
       "      <td>2023-12-21 07:30:00</td>\n",
       "      <td>2023-12-21 08:30:00</td>\n",
       "      <td>1.0</td>\n",
       "      <td>2023-12-21</td>\n",
       "      <td>169</td>\n",
       "      <td>296</td>\n",
       "      <td>1265.0</td>\n",
       "      <td>2007-12-01</td>\n",
       "      <td>2023-12-31</td>\n",
       "      <td>CHINESE</td>\n",
       "      <td>Team 1</td>\n",
       "      <td>8.0</td>\n",
       "      <td>55.33</td>\n",
       "      <td>16.08</td>\n",
       "    </tr>\n",
       "  </tbody>\n",
       "</table>\n",
       "<p>1081774 rows × 20 columns</p>\n",
       "</div>"
      ],
      "text/plain": [
       "        OrderNumber    CUSTID JOBTYPE Department   FROMLOCSTR       TOLOCSTR  \\\n",
       "0         TL9008453  00-RE001   LOCAL      CHIEN      JI DRUM   1 SERAYA AVE   \n",
       "1         TL9008453  00-RE001   LOCAL      CHIEN      JI DRUM   1 SERAYA AVE   \n",
       "2         TL9009105  00-RE001   LOCAL      CHIEN      JI DRUM   1 SERAYA AVE   \n",
       "3         TL9009105  00-RE001   LOCAL      CHIEN      JI DRUM   1 SERAYA AVE   \n",
       "4         TL9008550  00-RE001   LOCAL      CHIEN      JI DRUM   1 SERAYA AVE   \n",
       "...             ...       ...     ...        ...          ...            ...   \n",
       "1081769   XI7007593  00-RE114  IMPORT     XINHUA     31GUL CR     14 PENJ RD   \n",
       "1081770   XI7007593  00-RE114  IMPORT     XINHUA   14 PENJ RD           EKY2   \n",
       "1081771   XI7007610  00-RE114  IMPORT     XINHUA      PSA/PPT    PTC ISL (G)   \n",
       "1081772   XI7007610  00-RE114  IMPORT     XINHUA  PTC ISL (G)  CWT47JLNBUROH   \n",
       "1081773   XI7007622  00-RE114  IMPORT     XINHUA      PSA/PPT    PTC ISL (G)   \n",
       "\n",
       "                     STARTTM                ENDTM  TripDuration CTCOMPLETEDT  \\\n",
       "0        2021-01-07 08:00:00  2021-01-07 08:30:00           0.5   2021-01-07   \n",
       "1        2021-01-07 10:30:00  2021-01-07 11:00:00           0.5   2021-01-07   \n",
       "2        2021-01-27 08:00:00  2021-01-27 08:30:00           0.5   2021-01-27   \n",
       "3        2021-01-27 10:30:00  2021-01-27 11:00:00           0.5   2021-01-27   \n",
       "4        2021-01-11 08:00:00  2021-01-11 08:30:00           0.5   2021-01-11   \n",
       "...                      ...                  ...           ...          ...   \n",
       "1081769  2023-12-12 08:30:00  2023-12-12 09:30:00           1.0   2023-12-12   \n",
       "1081770  2023-12-12 09:30:00  2023-12-12 10:00:00           0.5   2023-12-12   \n",
       "1081771  2023-12-12 09:00:00  2023-12-12 10:00:00           1.0   2023-12-12   \n",
       "1081772  2023-12-13 11:00:00  2023-12-13 12:00:00           1.0   2023-12-13   \n",
       "1081773  2023-12-21 07:30:00  2023-12-21 08:30:00           1.0   2023-12-21   \n",
       "\n",
       "         DriverId  PrimeMoverId  TrailerId JOINED DATE RESIGNED DATE     RACE  \\\n",
       "0               2           215     1538.0  2007-06-07    2021-02-23  CHINESE   \n",
       "1               2           215      972.0  2007-06-07    2021-02-23  CHINESE   \n",
       "2               2           215      972.0  2007-06-07    2021-02-23  CHINESE   \n",
       "3               2           215     1538.0  2007-06-07    2021-02-23  CHINESE   \n",
       "4               2           215     1538.0  2007-06-07    2021-02-23  CHINESE   \n",
       "...           ...           ...        ...         ...           ...      ...   \n",
       "1081769       169           296     1771.0  2007-12-01    2023-12-31  CHINESE   \n",
       "1081770       169           296     1771.0  2007-12-01    2023-12-31  CHINESE   \n",
       "1081771       379           338     1499.0  2014-11-01    2023-12-31    MALAY   \n",
       "1081772       356           336     1934.0  2012-08-24    2023-12-31    MALAY   \n",
       "1081773       169           296     1265.0  2007-12-01    2023-12-31  CHINESE   \n",
       "\n",
       "             Team  Status  AGE_Years  Seniority  \n",
       "0        CHIEN LI    16.0      53.58      13.72  \n",
       "1        CHIEN LI    16.0      53.58      13.72  \n",
       "2        CHIEN LI     6.0      53.58      13.72  \n",
       "3        CHIEN LI     6.0      53.58      13.72  \n",
       "4        CHIEN LI    13.0      53.58      13.72  \n",
       "...           ...     ...        ...        ...  \n",
       "1081769    Team 1    13.0      55.33      16.08  \n",
       "1081770    Team 1    13.0      55.33      16.08  \n",
       "1081771    Team 1     9.0      55.08       9.16  \n",
       "1081772    Team 1     8.0      37.42      11.35  \n",
       "1081773    Team 1     8.0      55.33      16.08  \n",
       "\n",
       "[1081774 rows x 20 columns]"
      ]
     },
     "execution_count": 4,
     "metadata": {},
     "output_type": "execute_result"
    }
   ],
   "source": [
    "final_df = pd.read_csv(SAVE_TO_CSV)\n",
    "final_df.head(-10)"
   ]
  },
  {
   "cell_type": "markdown",
   "metadata": {},
   "source": [
    "# Exploratory Data Analysis (EDA)"
   ]
  },
  {
   "cell_type": "markdown",
   "metadata": {},
   "source": [
    "## Delivery Route Analysis "
   ]
  },
  {
   "cell_type": "markdown",
   "metadata": {},
   "source": [
    "### Number of Unique 1-1 FROM and TO Location Combinations"
   ]
  },
  {
   "cell_type": "code",
   "execution_count": 5,
   "metadata": {
    "execution": {
     "iopub.execute_input": "2024-04-16T08:09:50.355852Z",
     "iopub.status.busy": "2024-04-16T08:09:50.355852Z",
     "iopub.status.idle": "2024-04-16T08:09:50.506851Z",
     "shell.execute_reply": "2024-04-16T08:09:50.506851Z"
    }
   },
   "outputs": [
    {
     "name": "stdout",
     "output_type": "stream",
     "text": [
      "8023\n"
     ]
    }
   ],
   "source": [
    "unique_trip_count = final_df.groupby(['FROMLOCSTR', 'TOLOCSTR']).size().count()\n",
    "print(unique_trip_count)"
   ]
  },
  {
   "cell_type": "markdown",
   "metadata": {},
   "source": [
    "### Number of Unique FROM Locations"
   ]
  },
  {
   "cell_type": "code",
   "execution_count": 6,
   "metadata": {
    "execution": {
     "iopub.execute_input": "2024-04-16T08:09:50.509851Z",
     "iopub.status.busy": "2024-04-16T08:09:50.509851Z",
     "iopub.status.idle": "2024-04-16T08:09:50.557390Z",
     "shell.execute_reply": "2024-04-16T08:09:50.557390Z"
    }
   },
   "outputs": [
    {
     "data": {
      "text/plain": [
       "487"
      ]
     },
     "execution_count": 6,
     "metadata": {},
     "output_type": "execute_result"
    }
   ],
   "source": [
    "final_df['FROMLOCSTR'].nunique()"
   ]
  },
  {
   "cell_type": "markdown",
   "metadata": {},
   "source": [
    "### Number of Unique TO Locations"
   ]
  },
  {
   "cell_type": "code",
   "execution_count": 7,
   "metadata": {
    "execution": {
     "iopub.execute_input": "2024-04-16T08:09:50.560386Z",
     "iopub.status.busy": "2024-04-16T08:09:50.559387Z",
     "iopub.status.idle": "2024-04-16T08:09:50.613386Z",
     "shell.execute_reply": "2024-04-16T08:09:50.613386Z"
    }
   },
   "outputs": [
    {
     "data": {
      "text/plain": [
       "497"
      ]
     },
     "execution_count": 7,
     "metadata": {},
     "output_type": "execute_result"
    }
   ],
   "source": [
    "final_df['TOLOCSTR'].nunique()"
   ]
  },
  {
   "cell_type": "markdown",
   "metadata": {},
   "source": [
    "# Anonymise Department Names"
   ]
  },
  {
   "cell_type": "code",
   "execution_count": 8,
   "metadata": {
    "execution": {
     "iopub.execute_input": "2024-04-16T08:09:50.616387Z",
     "iopub.status.busy": "2024-04-16T08:09:50.616387Z",
     "iopub.status.idle": "2024-04-16T08:09:51.057470Z",
     "shell.execute_reply": "2024-04-16T08:09:51.057470Z"
    }
   },
   "outputs": [
    {
     "ename": "NameError",
     "evalue": "name 'final_df_2' is not defined",
     "output_type": "error",
     "traceback": [
      "\u001b[1;31m---------------------------------------------------------------------------\u001b[0m",
      "\u001b[1;31mNameError\u001b[0m                                 Traceback (most recent call last)",
      "Cell \u001b[1;32mIn[8], line 1\u001b[0m\n\u001b[1;32m----> 1\u001b[0m \u001b[43mfinal_df_2\u001b[49m[\u001b[38;5;124m'\u001b[39m\u001b[38;5;124mDepartment\u001b[39m\u001b[38;5;124m'\u001b[39m]\u001b[38;5;241m.\u001b[39mreplace(\u001b[38;5;124m'\u001b[39m\u001b[38;5;124mCHIEN\u001b[39m\u001b[38;5;124m'\u001b[39m, \u001b[38;5;124m'\u001b[39m\u001b[38;5;124mTeam A\u001b[39m\u001b[38;5;124m'\u001b[39m, inplace\u001b[38;5;241m=\u001b[39m\u001b[38;5;28;01mTrue\u001b[39;00m)\n\u001b[0;32m      2\u001b[0m final_df_2[\u001b[38;5;124m'\u001b[39m\u001b[38;5;124mDepartment\u001b[39m\u001b[38;5;124m'\u001b[39m]\u001b[38;5;241m.\u001b[39mreplace(\u001b[38;5;124m'\u001b[39m\u001b[38;5;124mXINHUA\u001b[39m\u001b[38;5;124m'\u001b[39m, \u001b[38;5;124m'\u001b[39m\u001b[38;5;124mTeam B\u001b[39m\u001b[38;5;124m'\u001b[39m, inplace\u001b[38;5;241m=\u001b[39m\u001b[38;5;28;01mTrue\u001b[39;00m)\n\u001b[0;32m      3\u001b[0m final_df_2[\u001b[38;5;124m'\u001b[39m\u001b[38;5;124mDepartment\u001b[39m\u001b[38;5;124m'\u001b[39m]\u001b[38;5;241m.\u001b[39mreplace(\u001b[38;5;124m'\u001b[39m\u001b[38;5;124mMAIN\u001b[39m\u001b[38;5;124m'\u001b[39m, \u001b[38;5;124m'\u001b[39m\u001b[38;5;124mTeam C\u001b[39m\u001b[38;5;124m'\u001b[39m, inplace\u001b[38;5;241m=\u001b[39m\u001b[38;5;28;01mTrue\u001b[39;00m)\n",
      "\u001b[1;31mNameError\u001b[0m: name 'final_df_2' is not defined"
     ]
    }
   ],
   "source": [
    "final_df_2['Department'].replace('CHIEN', 'Team A', inplace=True)\n",
    "final_df_2['Department'].replace('XINHUA', 'Team B', inplace=True)\n",
    "final_df_2['Department'].replace('MAIN', 'Team C', inplace=True)\n",
    "final_df_2['Department'].replace('EXPRESS', 'Team D', inplace=True)"
   ]
  },
  {
   "cell_type": "markdown",
   "metadata": {},
   "source": [
    "## Data Visualisation"
   ]
  },
  {
   "cell_type": "markdown",
   "metadata": {},
   "source": [
    "### Boxplot of TripDuration"
   ]
  },
  {
   "cell_type": "code",
   "execution_count": 9,
   "metadata": {
    "execution": {
     "iopub.execute_input": "2024-04-16T08:09:51.060454Z",
     "iopub.status.busy": "2024-04-16T08:09:51.059452Z",
     "iopub.status.idle": "2024-04-16T08:09:51.261620Z",
     "shell.execute_reply": "2024-04-16T08:09:51.261620Z"
    }
   },
   "outputs": [
    {
     "data": {
      "text/html": [
       "<div>\n",
       "<style scoped>\n",
       "    .dataframe tbody tr th:only-of-type {\n",
       "        vertical-align: middle;\n",
       "    }\n",
       "\n",
       "    .dataframe tbody tr th {\n",
       "        vertical-align: top;\n",
       "    }\n",
       "\n",
       "    .dataframe thead th {\n",
       "        text-align: right;\n",
       "    }\n",
       "</style>\n",
       "<table border=\"1\" class=\"dataframe\">\n",
       "  <thead>\n",
       "    <tr style=\"text-align: right;\">\n",
       "      <th></th>\n",
       "      <th>OrderNumber</th>\n",
       "      <th>CUSTID</th>\n",
       "      <th>JOBTYPE</th>\n",
       "      <th>Department</th>\n",
       "      <th>FROMLOCSTR</th>\n",
       "      <th>TOLOCSTR</th>\n",
       "      <th>STARTTM</th>\n",
       "      <th>ENDTM</th>\n",
       "      <th>TripDuration</th>\n",
       "      <th>CTCOMPLETEDT</th>\n",
       "      <th>DriverId</th>\n",
       "      <th>PrimeMoverId</th>\n",
       "      <th>TrailerId</th>\n",
       "      <th>JOINED DATE</th>\n",
       "      <th>RESIGNED DATE</th>\n",
       "      <th>RACE</th>\n",
       "      <th>Team</th>\n",
       "      <th>Status</th>\n",
       "      <th>AGE_Years</th>\n",
       "      <th>Seniority</th>\n",
       "    </tr>\n",
       "  </thead>\n",
       "  <tbody>\n",
       "    <tr>\n",
       "      <th>0</th>\n",
       "      <td>TL9008453</td>\n",
       "      <td>00-RE001</td>\n",
       "      <td>LOCAL</td>\n",
       "      <td>CHIEN</td>\n",
       "      <td>JI DRUM</td>\n",
       "      <td>1 SERAYA AVE</td>\n",
       "      <td>2021-01-07 08:00:00</td>\n",
       "      <td>2021-01-07 08:30:00</td>\n",
       "      <td>0.500000</td>\n",
       "      <td>2021-01-07</td>\n",
       "      <td>2</td>\n",
       "      <td>215</td>\n",
       "      <td>1538.0</td>\n",
       "      <td>2007-06-07</td>\n",
       "      <td>2021-02-23</td>\n",
       "      <td>CHINESE</td>\n",
       "      <td>CHIEN LI</td>\n",
       "      <td>16.0</td>\n",
       "      <td>53.58</td>\n",
       "      <td>13.72</td>\n",
       "    </tr>\n",
       "    <tr>\n",
       "      <th>1</th>\n",
       "      <td>TL9008453</td>\n",
       "      <td>00-RE001</td>\n",
       "      <td>LOCAL</td>\n",
       "      <td>CHIEN</td>\n",
       "      <td>JI DRUM</td>\n",
       "      <td>1 SERAYA AVE</td>\n",
       "      <td>2021-01-07 10:30:00</td>\n",
       "      <td>2021-01-07 11:00:00</td>\n",
       "      <td>0.500000</td>\n",
       "      <td>2021-01-07</td>\n",
       "      <td>2</td>\n",
       "      <td>215</td>\n",
       "      <td>972.0</td>\n",
       "      <td>2007-06-07</td>\n",
       "      <td>2021-02-23</td>\n",
       "      <td>CHINESE</td>\n",
       "      <td>CHIEN LI</td>\n",
       "      <td>16.0</td>\n",
       "      <td>53.58</td>\n",
       "      <td>13.72</td>\n",
       "    </tr>\n",
       "    <tr>\n",
       "      <th>2</th>\n",
       "      <td>TL9009105</td>\n",
       "      <td>00-RE001</td>\n",
       "      <td>LOCAL</td>\n",
       "      <td>CHIEN</td>\n",
       "      <td>JI DRUM</td>\n",
       "      <td>1 SERAYA AVE</td>\n",
       "      <td>2021-01-27 08:00:00</td>\n",
       "      <td>2021-01-27 08:30:00</td>\n",
       "      <td>0.500000</td>\n",
       "      <td>2021-01-27</td>\n",
       "      <td>2</td>\n",
       "      <td>215</td>\n",
       "      <td>972.0</td>\n",
       "      <td>2007-06-07</td>\n",
       "      <td>2021-02-23</td>\n",
       "      <td>CHINESE</td>\n",
       "      <td>CHIEN LI</td>\n",
       "      <td>6.0</td>\n",
       "      <td>53.58</td>\n",
       "      <td>13.72</td>\n",
       "    </tr>\n",
       "    <tr>\n",
       "      <th>3</th>\n",
       "      <td>TL9009105</td>\n",
       "      <td>00-RE001</td>\n",
       "      <td>LOCAL</td>\n",
       "      <td>CHIEN</td>\n",
       "      <td>JI DRUM</td>\n",
       "      <td>1 SERAYA AVE</td>\n",
       "      <td>2021-01-27 10:30:00</td>\n",
       "      <td>2021-01-27 11:00:00</td>\n",
       "      <td>0.500000</td>\n",
       "      <td>2021-01-27</td>\n",
       "      <td>2</td>\n",
       "      <td>215</td>\n",
       "      <td>1538.0</td>\n",
       "      <td>2007-06-07</td>\n",
       "      <td>2021-02-23</td>\n",
       "      <td>CHINESE</td>\n",
       "      <td>CHIEN LI</td>\n",
       "      <td>6.0</td>\n",
       "      <td>53.58</td>\n",
       "      <td>13.72</td>\n",
       "    </tr>\n",
       "    <tr>\n",
       "      <th>4</th>\n",
       "      <td>TL9008550</td>\n",
       "      <td>00-RE001</td>\n",
       "      <td>LOCAL</td>\n",
       "      <td>CHIEN</td>\n",
       "      <td>JI DRUM</td>\n",
       "      <td>1 SERAYA AVE</td>\n",
       "      <td>2021-01-11 08:00:00</td>\n",
       "      <td>2021-01-11 08:30:00</td>\n",
       "      <td>0.500000</td>\n",
       "      <td>2021-01-11</td>\n",
       "      <td>2</td>\n",
       "      <td>215</td>\n",
       "      <td>1538.0</td>\n",
       "      <td>2007-06-07</td>\n",
       "      <td>2021-02-23</td>\n",
       "      <td>CHINESE</td>\n",
       "      <td>CHIEN LI</td>\n",
       "      <td>13.0</td>\n",
       "      <td>53.58</td>\n",
       "      <td>13.72</td>\n",
       "    </tr>\n",
       "    <tr>\n",
       "      <th>...</th>\n",
       "      <td>...</td>\n",
       "      <td>...</td>\n",
       "      <td>...</td>\n",
       "      <td>...</td>\n",
       "      <td>...</td>\n",
       "      <td>...</td>\n",
       "      <td>...</td>\n",
       "      <td>...</td>\n",
       "      <td>...</td>\n",
       "      <td>...</td>\n",
       "      <td>...</td>\n",
       "      <td>...</td>\n",
       "      <td>...</td>\n",
       "      <td>...</td>\n",
       "      <td>...</td>\n",
       "      <td>...</td>\n",
       "      <td>...</td>\n",
       "      <td>...</td>\n",
       "      <td>...</td>\n",
       "      <td>...</td>\n",
       "    </tr>\n",
       "    <tr>\n",
       "      <th>1081779</th>\n",
       "      <td>TE8037442</td>\n",
       "      <td>00-RA186</td>\n",
       "      <td>EXPORT</td>\n",
       "      <td>MAIN</td>\n",
       "      <td>PTC48(G)</td>\n",
       "      <td>42PANDAN1</td>\n",
       "      <td>2023-12-06 09:50:00</td>\n",
       "      <td>2023-12-06 10:00:00</td>\n",
       "      <td>0.166667</td>\n",
       "      <td>2023-12-06</td>\n",
       "      <td>220</td>\n",
       "      <td>222</td>\n",
       "      <td>1772.0</td>\n",
       "      <td>2008-03-17</td>\n",
       "      <td>2023-12-31</td>\n",
       "      <td>CHINESE</td>\n",
       "      <td>FCL</td>\n",
       "      <td>34.0</td>\n",
       "      <td>51.33</td>\n",
       "      <td>15.79</td>\n",
       "    </tr>\n",
       "    <tr>\n",
       "      <th>1081780</th>\n",
       "      <td>TL9050450</td>\n",
       "      <td>00-RA186</td>\n",
       "      <td>LOCAL</td>\n",
       "      <td>CHIEN</td>\n",
       "      <td>COGENT TANK 15</td>\n",
       "      <td>48DRUMMING</td>\n",
       "      <td>2023-12-04 10:30:00</td>\n",
       "      <td>2023-12-04 12:00:00</td>\n",
       "      <td>1.500000</td>\n",
       "      <td>2023-12-04</td>\n",
       "      <td>37</td>\n",
       "      <td>145</td>\n",
       "      <td>119.0</td>\n",
       "      <td>2004-06-25</td>\n",
       "      <td>2023-12-31</td>\n",
       "      <td>CHINESE</td>\n",
       "      <td>CHIEN LI</td>\n",
       "      <td>8.0</td>\n",
       "      <td>68.25</td>\n",
       "      <td>19.52</td>\n",
       "    </tr>\n",
       "    <tr>\n",
       "      <th>1081781</th>\n",
       "      <td>TL9050450</td>\n",
       "      <td>00-RA186</td>\n",
       "      <td>LOCAL</td>\n",
       "      <td>CHIEN</td>\n",
       "      <td>48DRUMMING</td>\n",
       "      <td>STOLT NEL</td>\n",
       "      <td>2023-12-06 05:39:00</td>\n",
       "      <td>2023-12-06 05:59:00</td>\n",
       "      <td>0.333333</td>\n",
       "      <td>2023-12-06</td>\n",
       "      <td>302</td>\n",
       "      <td>394</td>\n",
       "      <td>119.0</td>\n",
       "      <td>2008-08-22</td>\n",
       "      <td>2023-05-10</td>\n",
       "      <td>CHINESE</td>\n",
       "      <td>CHIEN LI</td>\n",
       "      <td>21.0</td>\n",
       "      <td>39.08</td>\n",
       "      <td>14.71</td>\n",
       "    </tr>\n",
       "    <tr>\n",
       "      <th>1081782</th>\n",
       "      <td>TE8037521</td>\n",
       "      <td>00-RA186</td>\n",
       "      <td>EXPORT</td>\n",
       "      <td>MAIN</td>\n",
       "      <td>42PANDAN1</td>\n",
       "      <td>PSA/PPT</td>\n",
       "      <td>2023-12-13 09:30:00</td>\n",
       "      <td>2023-12-13 10:30:00</td>\n",
       "      <td>1.000000</td>\n",
       "      <td>2023-12-13</td>\n",
       "      <td>110</td>\n",
       "      <td>424</td>\n",
       "      <td>1937.0</td>\n",
       "      <td>2000-11-20</td>\n",
       "      <td>2022-10-02</td>\n",
       "      <td>CHINESE</td>\n",
       "      <td>FCL</td>\n",
       "      <td>8.0</td>\n",
       "      <td>58.92</td>\n",
       "      <td>21.86</td>\n",
       "    </tr>\n",
       "    <tr>\n",
       "      <th>1081783</th>\n",
       "      <td>XE7047519</td>\n",
       "      <td>00-RP036</td>\n",
       "      <td>EXPORT</td>\n",
       "      <td>XINHUA</td>\n",
       "      <td>CONT CONN</td>\n",
       "      <td>PTC MER-GROUND</td>\n",
       "      <td>2023-12-29 00:00:00</td>\n",
       "      <td>2023-12-29 00:00:00</td>\n",
       "      <td>0.000000</td>\n",
       "      <td>2023-12-29</td>\n",
       "      <td>0</td>\n",
       "      <td>1001</td>\n",
       "      <td>NaN</td>\n",
       "      <td>NaN</td>\n",
       "      <td>2023-12-31</td>\n",
       "      <td>NaN</td>\n",
       "      <td>NaN</td>\n",
       "      <td>NaN</td>\n",
       "      <td>NaN</td>\n",
       "      <td>NaN</td>\n",
       "    </tr>\n",
       "  </tbody>\n",
       "</table>\n",
       "<p>1081780 rows × 20 columns</p>\n",
       "</div>"
      ],
      "text/plain": [
       "        OrderNumber    CUSTID JOBTYPE Department      FROMLOCSTR  \\\n",
       "0         TL9008453  00-RE001   LOCAL      CHIEN         JI DRUM   \n",
       "1         TL9008453  00-RE001   LOCAL      CHIEN         JI DRUM   \n",
       "2         TL9009105  00-RE001   LOCAL      CHIEN         JI DRUM   \n",
       "3         TL9009105  00-RE001   LOCAL      CHIEN         JI DRUM   \n",
       "4         TL9008550  00-RE001   LOCAL      CHIEN         JI DRUM   \n",
       "...             ...       ...     ...        ...             ...   \n",
       "1081779   TE8037442  00-RA186  EXPORT       MAIN        PTC48(G)   \n",
       "1081780   TL9050450  00-RA186   LOCAL      CHIEN  COGENT TANK 15   \n",
       "1081781   TL9050450  00-RA186   LOCAL      CHIEN      48DRUMMING   \n",
       "1081782   TE8037521  00-RA186  EXPORT       MAIN       42PANDAN1   \n",
       "1081783   XE7047519  00-RP036  EXPORT     XINHUA       CONT CONN   \n",
       "\n",
       "               TOLOCSTR              STARTTM                ENDTM  \\\n",
       "0          1 SERAYA AVE  2021-01-07 08:00:00  2021-01-07 08:30:00   \n",
       "1          1 SERAYA AVE  2021-01-07 10:30:00  2021-01-07 11:00:00   \n",
       "2          1 SERAYA AVE  2021-01-27 08:00:00  2021-01-27 08:30:00   \n",
       "3          1 SERAYA AVE  2021-01-27 10:30:00  2021-01-27 11:00:00   \n",
       "4          1 SERAYA AVE  2021-01-11 08:00:00  2021-01-11 08:30:00   \n",
       "...                 ...                  ...                  ...   \n",
       "1081779       42PANDAN1  2023-12-06 09:50:00  2023-12-06 10:00:00   \n",
       "1081780      48DRUMMING  2023-12-04 10:30:00  2023-12-04 12:00:00   \n",
       "1081781       STOLT NEL  2023-12-06 05:39:00  2023-12-06 05:59:00   \n",
       "1081782         PSA/PPT  2023-12-13 09:30:00  2023-12-13 10:30:00   \n",
       "1081783  PTC MER-GROUND  2023-12-29 00:00:00  2023-12-29 00:00:00   \n",
       "\n",
       "         TripDuration CTCOMPLETEDT  DriverId  PrimeMoverId  TrailerId  \\\n",
       "0            0.500000   2021-01-07         2           215     1538.0   \n",
       "1            0.500000   2021-01-07         2           215      972.0   \n",
       "2            0.500000   2021-01-27         2           215      972.0   \n",
       "3            0.500000   2021-01-27         2           215     1538.0   \n",
       "4            0.500000   2021-01-11         2           215     1538.0   \n",
       "...               ...          ...       ...           ...        ...   \n",
       "1081779      0.166667   2023-12-06       220           222     1772.0   \n",
       "1081780      1.500000   2023-12-04        37           145      119.0   \n",
       "1081781      0.333333   2023-12-06       302           394      119.0   \n",
       "1081782      1.000000   2023-12-13       110           424     1937.0   \n",
       "1081783      0.000000   2023-12-29         0          1001        NaN   \n",
       "\n",
       "        JOINED DATE RESIGNED DATE     RACE      Team  Status  AGE_Years  \\\n",
       "0        2007-06-07    2021-02-23  CHINESE  CHIEN LI    16.0      53.58   \n",
       "1        2007-06-07    2021-02-23  CHINESE  CHIEN LI    16.0      53.58   \n",
       "2        2007-06-07    2021-02-23  CHINESE  CHIEN LI     6.0      53.58   \n",
       "3        2007-06-07    2021-02-23  CHINESE  CHIEN LI     6.0      53.58   \n",
       "4        2007-06-07    2021-02-23  CHINESE  CHIEN LI    13.0      53.58   \n",
       "...             ...           ...      ...       ...     ...        ...   \n",
       "1081779  2008-03-17    2023-12-31  CHINESE       FCL    34.0      51.33   \n",
       "1081780  2004-06-25    2023-12-31  CHINESE  CHIEN LI     8.0      68.25   \n",
       "1081781  2008-08-22    2023-05-10  CHINESE  CHIEN LI    21.0      39.08   \n",
       "1081782  2000-11-20    2022-10-02  CHINESE       FCL     8.0      58.92   \n",
       "1081783         NaN    2023-12-31      NaN       NaN     NaN        NaN   \n",
       "\n",
       "         Seniority  \n",
       "0            13.72  \n",
       "1            13.72  \n",
       "2            13.72  \n",
       "3            13.72  \n",
       "4            13.72  \n",
       "...            ...  \n",
       "1081779      15.79  \n",
       "1081780      19.52  \n",
       "1081781      14.71  \n",
       "1081782      21.86  \n",
       "1081783        NaN  \n",
       "\n",
       "[1081780 rows x 20 columns]"
      ]
     },
     "execution_count": 9,
     "metadata": {},
     "output_type": "execute_result"
    }
   ],
   "source": [
    "final_df_2 = final_df.drop(final_df[final_df['TripDuration'] > 500].index)\n",
    "\n",
    "final_df_2"
   ]
  },
  {
   "cell_type": "code",
   "execution_count": 10,
   "metadata": {
    "execution": {
     "iopub.execute_input": "2024-04-16T08:09:51.264612Z",
     "iopub.status.busy": "2024-04-16T08:09:51.263612Z",
     "iopub.status.idle": "2024-04-16T08:09:51.733159Z",
     "shell.execute_reply": "2024-04-16T08:09:51.733159Z"
    }
   },
   "outputs": [
    {
     "data": {
      "image/png": "[encoded data removed]",
      "text/plain": [
       "<Figure size 640x480 with 1 Axes>"
      ]
     },
     "metadata": {},
     "output_type": "display_data"
    }
   ],
   "source": [
    "# extract year from date \n",
    "\n",
    "final_df_2['CTCOMPLETEDT'] = pd.to_datetime(final_df_2['CTCOMPLETEDT'])\n",
    "\n",
    "final_df_2['Year'] = final_df_2['CTCOMPLETEDT'].dt.year\n",
    "final_df_2['Month'] = final_df_2['CTCOMPLETEDT'].dt.month\n",
    "\n",
    "# plot boxplots for each year\n",
    "\n",
    "sns.boxplot(x='Year', y='TripDuration', data=final_df_2)\n",
    "\n",
    "plt.title('Trip Duration by Year')\n",
    "plt.xlabel('Year')\n",
    "plt.ylabel('Trip Duration (hours)')\n",
    "plt.show()"
   ]
  },
  {
   "cell_type": "markdown",
   "metadata": {},
   "source": [
    "### Boxplot of Age"
   ]
  },
  {
   "cell_type": "code",
   "execution_count": 11,
   "metadata": {
    "execution": {
     "iopub.execute_input": "2024-04-16T08:09:51.736146Z",
     "iopub.status.busy": "2024-04-16T08:09:51.736146Z",
     "iopub.status.idle": "2024-04-16T08:09:51.860970Z",
     "shell.execute_reply": "2024-04-16T08:09:51.860432Z"
    }
   },
   "outputs": [
    {
     "data": {
      "image/png": "[encoded data removed]",
      "text/plain": [
       "<Figure size 640x480 with 1 Axes>"
      ]
     },
     "metadata": {},
     "output_type": "display_data"
    }
   ],
   "source": [
    "sns.boxplot(data=final_df['AGE_Years'], palette='flare')\n",
    "\n",
    "plt.title('Distribution of Driver Age')\n",
    "plt.xlabel('Age (years)')\n",
    "plt.ylabel('Value')\n",
    "plt.show()"
   ]
  },
  {
   "cell_type": "markdown",
   "metadata": {},
   "source": [
    "### Boxplot of Status"
   ]
  },
  {
   "cell_type": "code",
   "execution_count": 12,
   "metadata": {
    "execution": {
     "iopub.execute_input": "2024-04-16T08:09:51.863674Z",
     "iopub.status.busy": "2024-04-16T08:09:51.863136Z",
     "iopub.status.idle": "2024-04-16T08:09:52.165628Z",
     "shell.execute_reply": "2024-04-16T08:09:52.165628Z"
    }
   },
   "outputs": [
    {
     "data": {
      "image/png": "[encoded data removed]",
      "text/plain": [
       "<Figure size 640x480 with 1 Axes>"
      ]
     },
     "metadata": {},
     "output_type": "display_data"
    }
   ],
   "source": [
    "sns.boxplot(x='Year', y='Status', data=final_df_2, palette='YlGnBu')\n",
    "\n",
    "plt.title('Number of Trips Distribution')\n",
    "plt.xlabel('Year')\n",
    "plt.ylabel('Trip Counts')\n",
    "plt.show()"
   ]
  },
  {
   "cell_type": "markdown",
   "metadata": {},
   "source": [
    "### Boxplot of Seniority"
   ]
  },
  {
   "cell_type": "code",
   "execution_count": 13,
   "metadata": {
    "execution": {
     "iopub.execute_input": "2024-04-16T08:09:52.169582Z",
     "iopub.status.busy": "2024-04-16T08:09:52.169047Z",
     "iopub.status.idle": "2024-04-16T08:09:52.367576Z",
     "shell.execute_reply": "2024-04-16T08:09:52.367034Z"
    }
   },
   "outputs": [
    {
     "ename": "ValueError",
     "evalue": "Could not interpret input 'Year'",
     "output_type": "error",
     "traceback": [
      "\u001b[1;31m---------------------------------------------------------------------------\u001b[0m",
      "\u001b[1;31mValueError\u001b[0m                                Traceback (most recent call last)",
      "Cell \u001b[1;32mIn[13], line 1\u001b[0m\n\u001b[1;32m----> 1\u001b[0m \u001b[43msns\u001b[49m\u001b[38;5;241;43m.\u001b[39;49m\u001b[43mboxplot\u001b[49m\u001b[43m(\u001b[49m\u001b[43mx\u001b[49m\u001b[38;5;241;43m=\u001b[39;49m\u001b[38;5;124;43m'\u001b[39;49m\u001b[38;5;124;43mYear\u001b[39;49m\u001b[38;5;124;43m'\u001b[39;49m\u001b[43m,\u001b[49m\u001b[43m \u001b[49m\u001b[43my\u001b[49m\u001b[38;5;241;43m=\u001b[39;49m\u001b[38;5;124;43m'\u001b[39;49m\u001b[38;5;124;43mSeniority\u001b[39;49m\u001b[38;5;124;43m'\u001b[39;49m\u001b[43m,\u001b[49m\u001b[43m \u001b[49m\u001b[43mdata\u001b[49m\u001b[38;5;241;43m=\u001b[39;49m\u001b[43mfinal_df\u001b[49m\u001b[43m,\u001b[49m\u001b[43m \u001b[49m\u001b[43mpalette\u001b[49m\u001b[38;5;241;43m=\u001b[39;49m\u001b[38;5;124;43m'\u001b[39;49m\u001b[38;5;124;43mflare\u001b[39;49m\u001b[38;5;124;43m'\u001b[39;49m\u001b[43m)\u001b[49m\n\u001b[0;32m      3\u001b[0m plt\u001b[38;5;241m.\u001b[39mtitle(\u001b[38;5;124m'\u001b[39m\u001b[38;5;124mSeniority Distribution\u001b[39m\u001b[38;5;124m'\u001b[39m)\n\u001b[0;32m      4\u001b[0m plt\u001b[38;5;241m.\u001b[39mxlabel(\u001b[38;5;124m'\u001b[39m\u001b[38;5;124mSeniority (years)\u001b[39m\u001b[38;5;124m'\u001b[39m)\n",
      "File \u001b[1;32mC:\\DBA_Test\\Code\\sutd_eda\\Lib\\site-packages\\seaborn\\categorical.py:2231\u001b[0m, in \u001b[0;36mboxplot\u001b[1;34m(data, x, y, hue, order, hue_order, orient, color, palette, saturation, width, dodge, fliersize, linewidth, whis, ax, **kwargs)\u001b[0m\n\u001b[0;32m   2224\u001b[0m \u001b[38;5;28;01mdef\u001b[39;00m \u001b[38;5;21mboxplot\u001b[39m(\n\u001b[0;32m   2225\u001b[0m     data\u001b[38;5;241m=\u001b[39m\u001b[38;5;28;01mNone\u001b[39;00m, \u001b[38;5;241m*\u001b[39m, x\u001b[38;5;241m=\u001b[39m\u001b[38;5;28;01mNone\u001b[39;00m, y\u001b[38;5;241m=\u001b[39m\u001b[38;5;28;01mNone\u001b[39;00m, hue\u001b[38;5;241m=\u001b[39m\u001b[38;5;28;01mNone\u001b[39;00m, order\u001b[38;5;241m=\u001b[39m\u001b[38;5;28;01mNone\u001b[39;00m, hue_order\u001b[38;5;241m=\u001b[39m\u001b[38;5;28;01mNone\u001b[39;00m,\n\u001b[0;32m   2226\u001b[0m     orient\u001b[38;5;241m=\u001b[39m\u001b[38;5;28;01mNone\u001b[39;00m, color\u001b[38;5;241m=\u001b[39m\u001b[38;5;28;01mNone\u001b[39;00m, palette\u001b[38;5;241m=\u001b[39m\u001b[38;5;28;01mNone\u001b[39;00m, saturation\u001b[38;5;241m=\u001b[39m\u001b[38;5;241m.75\u001b[39m, width\u001b[38;5;241m=\u001b[39m\u001b[38;5;241m.8\u001b[39m,\n\u001b[0;32m   2227\u001b[0m     dodge\u001b[38;5;241m=\u001b[39m\u001b[38;5;28;01mTrue\u001b[39;00m, fliersize\u001b[38;5;241m=\u001b[39m\u001b[38;5;241m5\u001b[39m, linewidth\u001b[38;5;241m=\u001b[39m\u001b[38;5;28;01mNone\u001b[39;00m, whis\u001b[38;5;241m=\u001b[39m\u001b[38;5;241m1.5\u001b[39m, ax\u001b[38;5;241m=\u001b[39m\u001b[38;5;28;01mNone\u001b[39;00m,\n\u001b[0;32m   2228\u001b[0m     \u001b[38;5;241m*\u001b[39m\u001b[38;5;241m*\u001b[39mkwargs\n\u001b[0;32m   2229\u001b[0m ):\n\u001b[1;32m-> 2231\u001b[0m     plotter \u001b[38;5;241m=\u001b[39m \u001b[43m_BoxPlotter\u001b[49m\u001b[43m(\u001b[49m\u001b[43mx\u001b[49m\u001b[43m,\u001b[49m\u001b[43m \u001b[49m\u001b[43my\u001b[49m\u001b[43m,\u001b[49m\u001b[43m \u001b[49m\u001b[43mhue\u001b[49m\u001b[43m,\u001b[49m\u001b[43m \u001b[49m\u001b[43mdata\u001b[49m\u001b[43m,\u001b[49m\u001b[43m \u001b[49m\u001b[43morder\u001b[49m\u001b[43m,\u001b[49m\u001b[43m \u001b[49m\u001b[43mhue_order\u001b[49m\u001b[43m,\u001b[49m\n\u001b[0;32m   2232\u001b[0m \u001b[43m                          \u001b[49m\u001b[43morient\u001b[49m\u001b[43m,\u001b[49m\u001b[43m \u001b[49m\u001b[43mcolor\u001b[49m\u001b[43m,\u001b[49m\u001b[43m \u001b[49m\u001b[43mpalette\u001b[49m\u001b[43m,\u001b[49m\u001b[43m \u001b[49m\u001b[43msaturation\u001b[49m\u001b[43m,\u001b[49m\n\u001b[0;32m   2233\u001b[0m \u001b[43m                          \u001b[49m\u001b[43mwidth\u001b[49m\u001b[43m,\u001b[49m\u001b[43m \u001b[49m\u001b[43mdodge\u001b[49m\u001b[43m,\u001b[49m\u001b[43m \u001b[49m\u001b[43mfliersize\u001b[49m\u001b[43m,\u001b[49m\u001b[43m \u001b[49m\u001b[43mlinewidth\u001b[49m\u001b[43m)\u001b[49m\n\u001b[0;32m   2235\u001b[0m     \u001b[38;5;28;01mif\u001b[39;00m ax \u001b[38;5;129;01mis\u001b[39;00m \u001b[38;5;28;01mNone\u001b[39;00m:\n\u001b[0;32m   2236\u001b[0m         ax \u001b[38;5;241m=\u001b[39m plt\u001b[38;5;241m.\u001b[39mgca()\n",
      "File \u001b[1;32mC:\\DBA_Test\\Code\\sutd_eda\\Lib\\site-packages\\seaborn\\categorical.py:785\u001b[0m, in \u001b[0;36m_BoxPlotter.__init__\u001b[1;34m(self, x, y, hue, data, order, hue_order, orient, color, palette, saturation, width, dodge, fliersize, linewidth)\u001b[0m\n\u001b[0;32m    781\u001b[0m \u001b[38;5;28;01mdef\u001b[39;00m \u001b[38;5;21m__init__\u001b[39m(\u001b[38;5;28mself\u001b[39m, x, y, hue, data, order, hue_order,\n\u001b[0;32m    782\u001b[0m              orient, color, palette, saturation,\n\u001b[0;32m    783\u001b[0m              width, dodge, fliersize, linewidth):\n\u001b[1;32m--> 785\u001b[0m     \u001b[38;5;28;43mself\u001b[39;49m\u001b[38;5;241;43m.\u001b[39;49m\u001b[43mestablish_variables\u001b[49m\u001b[43m(\u001b[49m\u001b[43mx\u001b[49m\u001b[43m,\u001b[49m\u001b[43m \u001b[49m\u001b[43my\u001b[49m\u001b[43m,\u001b[49m\u001b[43m \u001b[49m\u001b[43mhue\u001b[49m\u001b[43m,\u001b[49m\u001b[43m \u001b[49m\u001b[43mdata\u001b[49m\u001b[43m,\u001b[49m\u001b[43m \u001b[49m\u001b[43morient\u001b[49m\u001b[43m,\u001b[49m\u001b[43m \u001b[49m\u001b[43morder\u001b[49m\u001b[43m,\u001b[49m\u001b[43m \u001b[49m\u001b[43mhue_order\u001b[49m\u001b[43m)\u001b[49m\n\u001b[0;32m    786\u001b[0m     \u001b[38;5;28mself\u001b[39m\u001b[38;5;241m.\u001b[39mestablish_colors(color, palette, saturation)\n\u001b[0;32m    788\u001b[0m     \u001b[38;5;28mself\u001b[39m\u001b[38;5;241m.\u001b[39mdodge \u001b[38;5;241m=\u001b[39m dodge\n",
      "File \u001b[1;32mC:\\DBA_Test\\Code\\sutd_eda\\Lib\\site-packages\\seaborn\\categorical.py:541\u001b[0m, in \u001b[0;36m_CategoricalPlotter.establish_variables\u001b[1;34m(self, x, y, hue, data, orient, order, hue_order, units)\u001b[0m\n\u001b[0;32m    539\u001b[0m     \u001b[38;5;28;01mif\u001b[39;00m \u001b[38;5;28misinstance\u001b[39m(var, \u001b[38;5;28mstr\u001b[39m):\n\u001b[0;32m    540\u001b[0m         err \u001b[38;5;241m=\u001b[39m \u001b[38;5;124mf\u001b[39m\u001b[38;5;124m\"\u001b[39m\u001b[38;5;124mCould not interpret input \u001b[39m\u001b[38;5;124m'\u001b[39m\u001b[38;5;132;01m{\u001b[39;00mvar\u001b[38;5;132;01m}\u001b[39;00m\u001b[38;5;124m'\u001b[39m\u001b[38;5;124m\"\u001b[39m\n\u001b[1;32m--> 541\u001b[0m         \u001b[38;5;28;01mraise\u001b[39;00m \u001b[38;5;167;01mValueError\u001b[39;00m(err)\n\u001b[0;32m    543\u001b[0m \u001b[38;5;66;03m# Figure out the plotting orientation\u001b[39;00m\n\u001b[0;32m    544\u001b[0m orient \u001b[38;5;241m=\u001b[39m infer_orient(\n\u001b[0;32m    545\u001b[0m     x, y, orient, require_numeric\u001b[38;5;241m=\u001b[39m\u001b[38;5;28mself\u001b[39m\u001b[38;5;241m.\u001b[39mrequire_numeric\n\u001b[0;32m    546\u001b[0m )\n",
      "\u001b[1;31mValueError\u001b[0m: Could not interpret input 'Year'"
     ]
    }
   ],
   "source": [
    "sns.boxplot(x='Year', y='Seniority', data=final_df, palette='flare')\n",
    "\n",
    "plt.title('Seniority Distribution')\n",
    "plt.xlabel('Seniority (years)')\n",
    "plt.ylabel('Value')\n",
    "plt.show()"
   ]
  },
  {
   "cell_type": "markdown",
   "metadata": {},
   "source": [
    "### Count plot of JOBTYPE"
   ]
  },
  {
   "cell_type": "code",
   "execution_count": 14,
   "metadata": {
    "execution": {
     "iopub.execute_input": "2024-04-16T08:09:52.371387Z",
     "iopub.status.busy": "2024-04-16T08:09:52.371344Z",
     "iopub.status.idle": "2024-04-16T08:09:53.081238Z",
     "shell.execute_reply": "2024-04-16T08:09:53.081238Z"
    }
   },
   "outputs": [
    {
     "data": {
      "image/png": "[encoded data removed]",
      "text/plain": [
       "<Figure size 640x480 with 1 Axes>"
      ]
     },
     "metadata": {},
     "output_type": "display_data"
    }
   ],
   "source": [
    "# to see year-on-year total number of trips taken by each job type\n",
    "\n",
    "final_df['CTCOMPLETEDT'] = pd.to_datetime(final_df['CTCOMPLETEDT'])\n",
    "final_df['Year'] = final_df['CTCOMPLETEDT'].dt.year\n",
    "\n",
    "sns.countplot(data=final_df, x='Year', hue='JOBTYPE', palette='muted')\n",
    "\n",
    "plt.title('Counts of Job Type by Year')\n",
    "plt.xlabel('Year')\n",
    "plt.ylabel('Trips Taken')\n",
    "plt.legend(title='JOBTYPE')\n",
    "plt.show()"
   ]
  },
  {
   "cell_type": "markdown",
   "metadata": {},
   "source": [
    "### Countplot of Department"
   ]
  },
  {
   "cell_type": "code",
   "execution_count": 15,
   "metadata": {
    "execution": {
     "iopub.execute_input": "2024-04-16T08:09:53.085183Z",
     "iopub.status.busy": "2024-04-16T08:09:53.085183Z",
     "iopub.status.idle": "2024-04-16T08:09:53.866206Z",
     "shell.execute_reply": "2024-04-16T08:09:53.865696Z"
    }
   },
   "outputs": [
    {
     "data": {
      "image/png": "[encoded data removed]",
      "text/plain": [
       "<Figure size 640x480 with 1 Axes>"
      ]
     },
     "metadata": {},
     "output_type": "display_data"
    }
   ],
   "source": [
    "# to see year-on-year total number of trips taken by each department\n",
    "final_df_2['CTCOMPLETEDT'] = pd.to_datetime(final_df_2['CTCOMPLETEDT'])\n",
    "\n",
    "final_df_2['Year'] = final_df_2['CTCOMPLETEDT'].dt.year\n",
    "final_df_2['Month'] = final_df_2['CTCOMPLETEDT'].dt.month\n",
    "\n",
    "ax = sns.countplot(data=final_df_2, x='Year', hue='Department', palette=['#9071CE', '#70BBFF', '#E669B9'])\n",
    "\n",
    "plt.title('Counts of Department by Year')\n",
    "plt.xlabel('Year')\n",
    "plt.ylabel('Trips Taken')\n",
    "plt.legend(title='Department')\n",
    "sns.move_legend(ax, \"upper left\", bbox_to_anchor=(1, 1))\n",
    "plt.show()"
   ]
  },
  {
   "cell_type": "markdown",
   "metadata": {},
   "source": [
    "### Countplot of Race"
   ]
  },
  {
   "cell_type": "code",
   "execution_count": 16,
   "metadata": {
    "execution": {
     "iopub.execute_input": "2024-04-16T08:09:53.868252Z",
     "iopub.status.busy": "2024-04-16T08:09:53.868252Z",
     "iopub.status.idle": "2024-04-16T08:09:54.791029Z",
     "shell.execute_reply": "2024-04-16T08:09:54.791029Z"
    }
   },
   "outputs": [
    {
     "data": {
      "image/png": "[encoded data removed]",
      "text/plain": [
       "<Figure size 640x480 with 1 Axes>"
      ]
     },
     "metadata": {},
     "output_type": "display_data"
    }
   ],
   "source": [
    "# to see year-on-year total number of trips taken by each Race\n",
    "\n",
    "ax = sns.countplot(data=final_df, x='Year', hue='RACE', palette='flare')\n",
    "\n",
    "plt.title('Counts of Race by Year')\n",
    "plt.xlabel('Year')\n",
    "plt.ylabel('Trips Taken')\n",
    "plt.legend(title='Race')\n",
    "sns.move_legend(ax, \"upper left\", bbox_to_anchor=(1, 1))\n",
    "plt.show()"
   ]
  },
  {
   "cell_type": "markdown",
   "metadata": {},
   "source": [
    "### Countplot of Team"
   ]
  },
  {
   "cell_type": "code",
   "execution_count": 17,
   "metadata": {
    "execution": {
     "iopub.execute_input": "2024-04-16T08:09:54.794023Z",
     "iopub.status.busy": "2024-04-16T08:09:54.794023Z",
     "iopub.status.idle": "2024-04-16T08:09:56.109163Z",
     "shell.execute_reply": "2024-04-16T08:09:56.109163Z"
    }
   },
   "outputs": [
    {
     "name": "stderr",
     "output_type": "stream",
     "text": [
      "C:\\DBA_Test\\Code\\sutd_eda\\Lib\\site-packages\\IPython\\core\\pylabtools.py:152: UserWarning: Glyph 128 (\\x80) missing from current font.\n",
      "  fig.canvas.print_figure(bytes_io, **kw)\n",
      "C:\\DBA_Test\\Code\\sutd_eda\\Lib\\site-packages\\IPython\\core\\pylabtools.py:152: UserWarning: Glyph 147 (\\x93) missing from current font.\n",
      "  fig.canvas.print_figure(bytes_io, **kw)\n"
     ]
    },
    {
     "data": {
      "image/png": "[encoded data removed]",
      "text/plain": [
       "<Figure size 640x480 with 1 Axes>"
      ]
     },
     "metadata": {},
     "output_type": "display_data"
    }
   ],
   "source": [
    "ax = sns.countplot(data=final_df, x='Year', hue='Team')\n",
    "\n",
    "plt.title('Counts of Team by Year')\n",
    "plt.xlabel('Year')\n",
    "plt.ylabel('Trips Taken')\n",
    "plt.legend(title='Team')\n",
    "sns.move_legend(ax, \"upper left\", bbox_to_anchor=(1, 1))\n",
    "plt.show()"
   ]
  },
  {
   "cell_type": "markdown",
   "metadata": {},
   "source": [
    "# Statistical Analysis\n",
    "\n",
    "The detailed statistical summary of each variable can be found in the automated y-data profiling html file, and is placed in the Project Report for easier reference. \n",
    "\n",
    "Analysis of \"Status\" values is in time_series notebook."
   ]
  }
 ],
 "metadata": {
  "kernelspec": {
   "display_name": "ydata",
   "language": "python",
   "name": "python3"
  },
  "language_info": {
   "codemirror_mode": {
    "name": "ipython",
    "version": 3
   },
   "file_extension": ".py",
   "mimetype": "text/x-python",
   "name": "python",
   "nbconvert_exporter": "python",
   "pygments_lexer": "ipython3",
   "version": "3.12.1"
  }
 },
 "nbformat": 4,
 "nbformat_minor": 2
}
