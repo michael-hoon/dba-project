{
 "cells": [
  {
   "cell_type": "markdown",
   "metadata": {},
   "source": [
    "# Importing Libraries"
   ]
  },
  {
   "cell_type": "code",
   "execution_count": 1,
   "metadata": {
    "execution": {
     "iopub.execute_input": "2024-04-16T08:03:57.165832Z",
     "iopub.status.busy": "2024-04-16T08:03:57.164830Z",
     "iopub.status.idle": "2024-04-16T08:04:04.914615Z",
     "shell.execute_reply": "2024-04-16T08:04:04.913572Z"
    }
   },
   "outputs": [
    {
     "name": "stderr",
     "output_type": "stream",
     "text": [
      "C:\\DBA_Test\\Code\\sutd_eda\\Lib\\site-packages\\tqdm\\auto.py:21: TqdmWarning: IProgress not found. Please update jupyter and ipywidgets. See https://ipywidgets.readthedocs.io/en/stable/user_install.html\n",
      "  from .autonotebook import tqdm as notebook_tqdm\n"
     ]
    }
   ],
   "source": [
    "# libraries for automating the data analysis process\n",
    "\n",
    "import os \n",
    "import io \n",
    "import sys\n",
    "import msoffcrypto\n",
    "from glob import glob\n",
    "\n",
    "# library for parallel processing\n",
    "# from concurrent.futures import ThreadPoolExecutor\n",
    "\n",
    "# libraries for data analysis\n",
    "\n",
    "import pandas as pd\n",
    "import numpy as np\n",
    "\n",
    "# libraries for automatic EDA\n",
    "\n",
    "from ydata_profiling import ProfileReport"
   ]
  },
  {
   "cell_type": "markdown",
   "metadata": {},
   "source": [
    "# Defining Folder Variables"
   ]
  },
  {
   "cell_type": "code",
   "execution_count": 2,
   "metadata": {
    "execution": {
     "iopub.execute_input": "2024-04-16T08:04:04.918408Z",
     "iopub.status.busy": "2024-04-16T08:04:04.917880Z",
     "iopub.status.idle": "2024-04-16T08:04:04.922225Z",
     "shell.execute_reply": "2024-04-16T08:04:04.921687Z"
    }
   },
   "outputs": [],
   "source": [
    "FILE_PASSWORD = '29012024'\n",
    "\n",
    "# Set relative paths for different folders\n",
    "MAIN_FOLDER = os.path.abspath(os.path.join(os.getcwd(), \"..\"))\n",
    "\n",
    "CODE_FOLDER = os.path.join(MAIN_FOLDER, \"Code\")\n",
    "\n",
    "PROFILE_FOLDER = os.path.join(CODE_FOLDER, \"ProfileReports\")\n",
    "\n",
    "DATA_FOLDER = os.path.join(MAIN_FOLDER, \"Data\")\n",
    "\n",
    "RAW_SHEETS_FOLDER = os.path.join(DATA_FOLDER, \"Raw_Sheets\")\n",
    "\n",
    "CLEANED_SHEETS_FOLDER = os.path.join(DATA_FOLDER, \"Cleaned_Sheets\")\n"
   ]
  },
  {
   "cell_type": "markdown",
   "metadata": {},
   "source": [
    "# Automatic Excel (.xlsx) parsing and loading"
   ]
  },
  {
   "cell_type": "markdown",
   "metadata": {},
   "source": [
    "### Parallel Processing will not work with batch scripts"
   ]
  },
  {
   "cell_type": "code",
   "execution_count": 3,
   "metadata": {
    "execution": {
     "iopub.execute_input": "2024-04-16T08:04:04.925412Z",
     "iopub.status.busy": "2024-04-16T08:04:04.924889Z",
     "iopub.status.idle": "2024-04-16T08:04:04.928716Z",
     "shell.execute_reply": "2024-04-16T08:04:04.928183Z"
    }
   },
   "outputs": [],
   "source": [
    "# def load_decrypt_excel(file_path):\n",
    "#     \"\"\"\n",
    "#     Load and decrypt the Excel file using the given password.\n",
    "#     Returns a decrypted workbook object.\n",
    "#     FILE_PASSWORD is a global variable defined via bash script.\n",
    "#     \"\"\"\n",
    "#     decrypted_workbook = io.BytesIO()\n",
    "#     with open(file_path, 'rb') as file:\n",
    "#         office_file = msoffcrypto.OfficeFile(file)\n",
    "#         office_file.load_key(password=FILE_PASSWORD)\n",
    "#         office_file.decrypt(decrypted_workbook)\n",
    "#     return decrypted_workbook\n",
    "\n",
    "# def separate_excel_to_csv(file_path):\n",
    "#     \"\"\"\n",
    "#     Separate each sheet of the Excel file into individual CSV files.\n",
    "#     \"\"\"\n",
    "#     decrypted_workbook = load_decrypt_excel(file_path)\n",
    "#     df = pd.read_excel(decrypted_workbook, sheet_name=None)\n",
    "#     for sheet, data in df.items():\n",
    "#         csv_file_path = os.path.join(RAW_SHEETS_FOLDER, f\"{sheet}.csv\")\n",
    "#         data.to_csv(csv_file_path, index=False)\n",
    "\n",
    "# # Find all Excel files in the Data folder and its subdirectories\n",
    "# excel_files = [file for file in glob(os.path.join(DATA_FOLDER, \"**\", \"*.xlsx\"), recursive=True)]\n",
    "\n",
    "# # Parallelize processing using ThreadPoolExecutor, cuts down run time by half (tested)\n",
    "# with ThreadPoolExecutor() as executor:\n",
    "#     executor.map(separate_excel_to_csv, excel_files)"
   ]
  },
  {
   "cell_type": "code",
   "execution_count": 4,
   "metadata": {
    "execution": {
     "iopub.execute_input": "2024-04-16T08:04:04.931364Z",
     "iopub.status.busy": "2024-04-16T08:04:04.930840Z",
     "iopub.status.idle": "2024-04-16T08:08:09.315261Z",
     "shell.execute_reply": "2024-04-16T08:08:09.315261Z"
    }
   },
   "outputs": [],
   "source": [
    "def load_decrypt_excel(file_path):\n",
    "    \"\"\"\n",
    "    Load and decrypt the Excel file using the given password.\n",
    "    Returns a decrypted workbook object.\n",
    "    FILE_PASSWORD is a global variable defined via bash script.\n",
    "    \"\"\"\n",
    "    decrypted_workbook = io.BytesIO()\n",
    "    with open(file_path, 'rb') as file:\n",
    "        office_file = msoffcrypto.OfficeFile(file)\n",
    "        office_file.load_key(password=FILE_PASSWORD)\n",
    "        office_file.decrypt(decrypted_workbook)\n",
    "    return decrypted_workbook\n",
    "\n",
    "def separate_excel_to_csv(file_path):\n",
    "    \"\"\"\n",
    "    Separate each sheet of the Excel file into individual CSV files.\n",
    "    \"\"\"\n",
    "    decrypted_workbook = load_decrypt_excel(file_path)\n",
    "    df = pd.read_excel(decrypted_workbook, sheet_name=None)\n",
    "    for sheet, data in df.items():\n",
    "        csv_file_path = os.path.join(RAW_SHEETS_FOLDER, f\"{sheet}.csv\")\n",
    "        data.to_csv(csv_file_path, index=False)\n",
    "\n",
    "# Find all Excel files in the Data folder and its subdirectories\n",
    "excel_files = [file for file in glob(os.path.join(DATA_FOLDER, \"**\", \"*.xlsx\"), recursive=True)]\n",
    "\n",
    "# Iterate over each Excel file sequentially\n",
    "for excel_file in excel_files:\n",
    "    separate_excel_to_csv(excel_file)"
   ]
  },
  {
   "cell_type": "markdown",
   "metadata": {},
   "source": [
    "# Defining Sheets Variables"
   ]
  },
  {
   "cell_type": "code",
   "execution_count": 5,
   "metadata": {
    "execution": {
     "iopub.execute_input": "2024-04-16T08:08:09.319253Z",
     "iopub.status.busy": "2024-04-16T08:08:09.319253Z",
     "iopub.status.idle": "2024-04-16T08:08:09.324086Z",
     "shell.execute_reply": "2024-04-16T08:08:09.324086Z"
    }
   },
   "outputs": [],
   "source": [
    "# List all files in the Raw_Sheets folder\n",
    "all_files = os.listdir(RAW_SHEETS_FOLDER)\n",
    "\n",
    "# Filter only files that match the year naming convention (20XX.csv)\n",
    "year_files = [file for file in all_files if file.startswith(\"20\") and file.endswith(\".csv\")]\n",
    "\n",
    "# Create variables for each year file, works with any number of years in the excel data\n",
    "for year_file in year_files:\n",
    "    year = year_file.split(\".\")[0]\n",
    "    file_path = os.path.join(RAW_SHEETS_FOLDER, year_file)\n",
    "    variable_name = f\"FILEPATH_{year}\"\n",
    "    globals()[variable_name] = file_path\n",
    "\n",
    "FILEPATH_PM = os.path.join(RAW_SHEETS_FOLDER, \"No. of PM Available Daily.csv\")\n",
    "\n",
    "FILEPATH_DRIVER_DATA = os.path.join(RAW_SHEETS_FOLDER, \"Drivers Data.csv\")\n",
    "\n",
    "SAVE_TO_CSV = os.path.join(CLEANED_SHEETS_FOLDER, \"cleaned_sheet.csv\")\n",
    "\n",
    "SAVE_TO_HTML = os.path.join(PROFILE_FOLDER, \"ydata_eda.html\")"
   ]
  },
  {
   "cell_type": "markdown",
   "metadata": {},
   "source": [
    "# Loading CSV files"
   ]
  },
  {
   "cell_type": "code",
   "execution_count": 6,
   "metadata": {
    "execution": {
     "iopub.execute_input": "2024-04-16T08:08:09.327082Z",
     "iopub.status.busy": "2024-04-16T08:08:09.327082Z",
     "iopub.status.idle": "2024-04-16T08:08:11.847177Z",
     "shell.execute_reply": "2024-04-16T08:08:11.847177Z"
    }
   },
   "outputs": [
    {
     "name": "stderr",
     "output_type": "stream",
     "text": [
      "C:\\Users\\micha\\AppData\\Local\\Temp\\ipykernel_18000\\3979976781.py:3: DtypeWarning: Columns (17) have mixed types. Specify dtype option on import or set low_memory=False.\n",
      "  unmerged_2021 = pd.read_csv(FILEPATH_2021, encoding='utf-8')\n"
     ]
    },
    {
     "name": "stderr",
     "output_type": "stream",
     "text": [
      "C:\\Users\\micha\\AppData\\Local\\Temp\\ipykernel_18000\\3979976781.py:5: DtypeWarning: Columns (14,16) have mixed types. Specify dtype option on import or set low_memory=False.\n",
      "  unmerged_2022 = pd.read_csv(FILEPATH_2022, encoding='utf-8')\n"
     ]
    },
    {
     "name": "stderr",
     "output_type": "stream",
     "text": [
      "C:\\Users\\micha\\AppData\\Local\\Temp\\ipykernel_18000\\3979976781.py:7: DtypeWarning: Columns (3,5,6,14) have mixed types. Specify dtype option on import or set low_memory=False.\n",
      "  unmerged_2023 = pd.read_csv(FILEPATH_2023, encoding='utf-8')\n"
     ]
    }
   ],
   "source": [
    "# each year's filepaths are a variable in the global namespace\n",
    "\n",
    "unmerged_2021 = pd.read_csv(FILEPATH_2021, encoding='utf-8')\n",
    "\n",
    "unmerged_2022 = pd.read_csv(FILEPATH_2022, encoding='utf-8')\n",
    "\n",
    "unmerged_2023 = pd.read_csv(FILEPATH_2023, encoding='utf-8')\n",
    "\n",
    "unmerged_pm = pd.read_csv(FILEPATH_PM, encoding='ISO-8859-1')\n",
    "\n",
    "unmerged_driver = pd.read_csv(FILEPATH_DRIVER_DATA, encoding='utf-8')"
   ]
  },
  {
   "cell_type": "markdown",
   "metadata": {},
   "source": [
    "# Cleaning DateTime Entries"
   ]
  },
  {
   "cell_type": "code",
   "execution_count": 7,
   "metadata": {
    "execution": {
     "iopub.execute_input": "2024-04-16T08:08:11.849170Z",
     "iopub.status.busy": "2024-04-16T08:08:11.849170Z",
     "iopub.status.idle": "2024-04-16T08:08:12.913727Z",
     "shell.execute_reply": "2024-04-16T08:08:12.913727Z"
    }
   },
   "outputs": [],
   "source": [
    "unmerged_2021['STARTTM'] = pd.to_datetime(unmerged_2021['STARTTM'], format='%Y-%m-%d %H:%M:%S')\n",
    "unmerged_2021['ENDTM'] = pd.to_datetime(unmerged_2021['ENDTM'], format='%Y-%m-%d %H:%M:%S')\n",
    "\n",
    "unmerged_2022['STARTTM'] = pd.to_datetime(unmerged_2022['STARTTM'])\n",
    "unmerged_2022['ENDTM'] = pd.to_datetime(unmerged_2022['ENDTM'])\n",
    "\n",
    "unmerged_2023['STARTTM'] = pd.to_datetime(unmerged_2023['STARTTM'])\n",
    "unmerged_2023['ENDTM'] = pd.to_datetime(unmerged_2023['ENDTM'])\n",
    "\n",
    "unmerged_pm['Date'] = pd.to_datetime(unmerged_pm['Date'])"
   ]
  },
  {
   "cell_type": "markdown",
   "metadata": {},
   "source": [
    "# Merging all Years"
   ]
  },
  {
   "cell_type": "code",
   "execution_count": 8,
   "metadata": {
    "execution": {
     "iopub.execute_input": "2024-04-16T08:08:12.917727Z",
     "iopub.status.busy": "2024-04-16T08:08:12.916724Z",
     "iopub.status.idle": "2024-04-16T08:08:13.019671Z",
     "shell.execute_reply": "2024-04-16T08:08:13.019671Z"
    }
   },
   "outputs": [
    {
     "data": {
      "text/html": [
       "<div>\n",
       "<style scoped>\n",
       "    .dataframe tbody tr th:only-of-type {\n",
       "        vertical-align: middle;\n",
       "    }\n",
       "\n",
       "    .dataframe tbody tr th {\n",
       "        vertical-align: top;\n",
       "    }\n",
       "\n",
       "    .dataframe thead th {\n",
       "        text-align: right;\n",
       "    }\n",
       "</style>\n",
       "<table border=\"1\" class=\"dataframe\">\n",
       "  <thead>\n",
       "    <tr style=\"text-align: right;\">\n",
       "      <th></th>\n",
       "      <th>OrderNumber</th>\n",
       "      <th>CUSTID</th>\n",
       "      <th>JOBTYPE</th>\n",
       "      <th>TypeOfTrip</th>\n",
       "      <th>CNTRSIZE</th>\n",
       "      <th>CNTRTYPE</th>\n",
       "      <th>LOAD_STATUS_CONT</th>\n",
       "      <th>Department</th>\n",
       "      <th>FROMLOCSTR</th>\n",
       "      <th>TOLOCSTR</th>\n",
       "      <th>STARTTM</th>\n",
       "      <th>ENDTM</th>\n",
       "      <th>TripDuration</th>\n",
       "      <th>CTCOMPLETEDT</th>\n",
       "      <th>DriverId</th>\n",
       "      <th>PrimeMoverId</th>\n",
       "      <th>TrailerId</th>\n",
       "      <th>Status</th>\n",
       "    </tr>\n",
       "  </thead>\n",
       "  <tbody>\n",
       "    <tr>\n",
       "      <th>0</th>\n",
       "      <td>TL9008453</td>\n",
       "      <td>00-RE001</td>\n",
       "      <td>LOCAL</td>\n",
       "      <td>Single Mount</td>\n",
       "      <td>20</td>\n",
       "      <td>TK</td>\n",
       "      <td>EMPTY</td>\n",
       "      <td>CHIEN</td>\n",
       "      <td>JI DRUM</td>\n",
       "      <td>1 SERAYA AVE</td>\n",
       "      <td>2021-01-07 08:00:00</td>\n",
       "      <td>2021-01-07 08:30:00</td>\n",
       "      <td>30.0</td>\n",
       "      <td>2021-01-07</td>\n",
       "      <td>2.0</td>\n",
       "      <td>215</td>\n",
       "      <td>1538.0</td>\n",
       "      <td>NaN</td>\n",
       "    </tr>\n",
       "    <tr>\n",
       "      <th>1</th>\n",
       "      <td>TL9008453</td>\n",
       "      <td>00-RE001</td>\n",
       "      <td>LOCAL</td>\n",
       "      <td>Single Mount</td>\n",
       "      <td>20</td>\n",
       "      <td>TK</td>\n",
       "      <td>EMPTY</td>\n",
       "      <td>CHIEN</td>\n",
       "      <td>JI DRUM</td>\n",
       "      <td>1 SERAYA AVE</td>\n",
       "      <td>2021-01-07 10:30:00</td>\n",
       "      <td>2021-01-07 11:00:00</td>\n",
       "      <td>30.0</td>\n",
       "      <td>2021-01-07</td>\n",
       "      <td>2.0</td>\n",
       "      <td>215</td>\n",
       "      <td>972.0</td>\n",
       "      <td>NaN</td>\n",
       "    </tr>\n",
       "    <tr>\n",
       "      <th>2</th>\n",
       "      <td>TL9009105</td>\n",
       "      <td>00-RE001</td>\n",
       "      <td>LOCAL</td>\n",
       "      <td>Single Mount</td>\n",
       "      <td>20</td>\n",
       "      <td>TK</td>\n",
       "      <td>EMPTY</td>\n",
       "      <td>CHIEN</td>\n",
       "      <td>JI DRUM</td>\n",
       "      <td>1 SERAYA AVE</td>\n",
       "      <td>2021-01-27 08:00:00</td>\n",
       "      <td>2021-01-27 08:30:00</td>\n",
       "      <td>30.0</td>\n",
       "      <td>2021-01-27</td>\n",
       "      <td>2.0</td>\n",
       "      <td>215</td>\n",
       "      <td>972.0</td>\n",
       "      <td>NaN</td>\n",
       "    </tr>\n",
       "    <tr>\n",
       "      <th>3</th>\n",
       "      <td>TL9009105</td>\n",
       "      <td>00-RE001</td>\n",
       "      <td>LOCAL</td>\n",
       "      <td>Single Mount</td>\n",
       "      <td>20</td>\n",
       "      <td>TK</td>\n",
       "      <td>EMPTY</td>\n",
       "      <td>CHIEN</td>\n",
       "      <td>JI DRUM</td>\n",
       "      <td>1 SERAYA AVE</td>\n",
       "      <td>2021-01-27 10:30:00</td>\n",
       "      <td>2021-01-27 11:00:00</td>\n",
       "      <td>30.0</td>\n",
       "      <td>2021-01-27</td>\n",
       "      <td>2.0</td>\n",
       "      <td>215</td>\n",
       "      <td>1538.0</td>\n",
       "      <td>NaN</td>\n",
       "    </tr>\n",
       "    <tr>\n",
       "      <th>4</th>\n",
       "      <td>TL9008550</td>\n",
       "      <td>00-RE001</td>\n",
       "      <td>LOCAL</td>\n",
       "      <td>Single Mount</td>\n",
       "      <td>20</td>\n",
       "      <td>TK</td>\n",
       "      <td>EMPTY</td>\n",
       "      <td>CHIEN</td>\n",
       "      <td>JI DRUM</td>\n",
       "      <td>1 SERAYA AVE</td>\n",
       "      <td>2021-01-11 08:00:00</td>\n",
       "      <td>2021-01-11 08:30:00</td>\n",
       "      <td>30.0</td>\n",
       "      <td>2021-01-11</td>\n",
       "      <td>2.0</td>\n",
       "      <td>215</td>\n",
       "      <td>1538.0</td>\n",
       "      <td>NaN</td>\n",
       "    </tr>\n",
       "    <tr>\n",
       "      <th>...</th>\n",
       "      <td>...</td>\n",
       "      <td>...</td>\n",
       "      <td>...</td>\n",
       "      <td>...</td>\n",
       "      <td>...</td>\n",
       "      <td>...</td>\n",
       "      <td>...</td>\n",
       "      <td>...</td>\n",
       "      <td>...</td>\n",
       "      <td>...</td>\n",
       "      <td>...</td>\n",
       "      <td>...</td>\n",
       "      <td>...</td>\n",
       "      <td>...</td>\n",
       "      <td>...</td>\n",
       "      <td>...</td>\n",
       "      <td>...</td>\n",
       "      <td>...</td>\n",
       "    </tr>\n",
       "    <tr>\n",
       "      <th>1299945</th>\n",
       "      <td>IWT</td>\n",
       "      <td>DUMMY</td>\n",
       "      <td>NONTRUCKING</td>\n",
       "      <td>NaN</td>\n",
       "      <td>0</td>\n",
       "      <td>NaN</td>\n",
       "      <td>NaN</td>\n",
       "      <td>IWT</td>\n",
       "      <td>42PTC</td>\n",
       "      <td>42PTC</td>\n",
       "      <td>2023-12-31 08:00:00</td>\n",
       "      <td>2023-12-31 17:00:00</td>\n",
       "      <td>NaN</td>\n",
       "      <td>2023-12-31</td>\n",
       "      <td>519.0</td>\n",
       "      <td>184</td>\n",
       "      <td>NaN</td>\n",
       "      <td>SHIFTING</td>\n",
       "    </tr>\n",
       "    <tr>\n",
       "      <th>1299946</th>\n",
       "      <td>IWT</td>\n",
       "      <td>DUMMY</td>\n",
       "      <td>NONTRUCKING</td>\n",
       "      <td>NaN</td>\n",
       "      <td>0</td>\n",
       "      <td>NaN</td>\n",
       "      <td>NaN</td>\n",
       "      <td>IWT</td>\n",
       "      <td>42PTC</td>\n",
       "      <td>42PTC</td>\n",
       "      <td>2023-12-31 08:00:00</td>\n",
       "      <td>2023-12-31 17:00:00</td>\n",
       "      <td>NaN</td>\n",
       "      <td>2023-12-31</td>\n",
       "      <td>570.0</td>\n",
       "      <td>103</td>\n",
       "      <td>NaN</td>\n",
       "      <td>SHIFTING</td>\n",
       "    </tr>\n",
       "    <tr>\n",
       "      <th>1299947</th>\n",
       "      <td>NONTRUCKINGJOB</td>\n",
       "      <td>DUMMY</td>\n",
       "      <td>NONTRUCKING</td>\n",
       "      <td>NaN</td>\n",
       "      <td>0</td>\n",
       "      <td>NaN</td>\n",
       "      <td>NaN</td>\n",
       "      <td>CHIEN</td>\n",
       "      <td>HB-CCK</td>\n",
       "      <td>HB-CCK</td>\n",
       "      <td>2023-12-31 08:30:00</td>\n",
       "      <td>2023-12-31 17:30:00</td>\n",
       "      <td>NaN</td>\n",
       "      <td>2023-12-31</td>\n",
       "      <td>580.0</td>\n",
       "      <td>220</td>\n",
       "      <td>NaN</td>\n",
       "      <td>OFF</td>\n",
       "    </tr>\n",
       "    <tr>\n",
       "      <th>1299948</th>\n",
       "      <td>NONTRUCKINGJOB</td>\n",
       "      <td>DUMMY</td>\n",
       "      <td>NONTRUCKING</td>\n",
       "      <td>NaN</td>\n",
       "      <td>0</td>\n",
       "      <td>NaN</td>\n",
       "      <td>NaN</td>\n",
       "      <td>CHIEN</td>\n",
       "      <td>HB-48P</td>\n",
       "      <td>HB-48P</td>\n",
       "      <td>2023-12-31 08:30:00</td>\n",
       "      <td>2023-12-31 17:30:00</td>\n",
       "      <td>NaN</td>\n",
       "      <td>2023-12-31</td>\n",
       "      <td>580.0</td>\n",
       "      <td>220</td>\n",
       "      <td>NaN</td>\n",
       "      <td>OFF</td>\n",
       "    </tr>\n",
       "    <tr>\n",
       "      <th>1299949</th>\n",
       "      <td>NONTRUCKINGJOB</td>\n",
       "      <td>DUMMY</td>\n",
       "      <td>NONTRUCKING</td>\n",
       "      <td>NaN</td>\n",
       "      <td>0</td>\n",
       "      <td>NaN</td>\n",
       "      <td>NaN</td>\n",
       "      <td>CHIEN</td>\n",
       "      <td>HB-48P</td>\n",
       "      <td>HB-48P</td>\n",
       "      <td>2023-12-31 08:30:00</td>\n",
       "      <td>2023-12-31 17:30:00</td>\n",
       "      <td>NaN</td>\n",
       "      <td>2023-12-31</td>\n",
       "      <td>582.0</td>\n",
       "      <td>423</td>\n",
       "      <td>NaN</td>\n",
       "      <td>OFF</td>\n",
       "    </tr>\n",
       "  </tbody>\n",
       "</table>\n",
       "<p>1299950 rows × 18 columns</p>\n",
       "</div>"
      ],
      "text/plain": [
       "            OrderNumber    CUSTID      JOBTYPE    TypeOfTrip  CNTRSIZE  \\\n",
       "0             TL9008453  00-RE001        LOCAL  Single Mount        20   \n",
       "1             TL9008453  00-RE001        LOCAL  Single Mount        20   \n",
       "2             TL9009105  00-RE001        LOCAL  Single Mount        20   \n",
       "3             TL9009105  00-RE001        LOCAL  Single Mount        20   \n",
       "4             TL9008550  00-RE001        LOCAL  Single Mount        20   \n",
       "...                 ...       ...          ...           ...       ...   \n",
       "1299945             IWT     DUMMY  NONTRUCKING           NaN         0   \n",
       "1299946             IWT     DUMMY  NONTRUCKING           NaN         0   \n",
       "1299947  NONTRUCKINGJOB     DUMMY  NONTRUCKING           NaN         0   \n",
       "1299948  NONTRUCKINGJOB     DUMMY  NONTRUCKING           NaN         0   \n",
       "1299949  NONTRUCKINGJOB     DUMMY  NONTRUCKING           NaN         0   \n",
       "\n",
       "        CNTRTYPE LOAD_STATUS_CONT Department FROMLOCSTR      TOLOCSTR  \\\n",
       "0             TK            EMPTY      CHIEN    JI DRUM  1 SERAYA AVE   \n",
       "1             TK            EMPTY      CHIEN    JI DRUM  1 SERAYA AVE   \n",
       "2             TK            EMPTY      CHIEN    JI DRUM  1 SERAYA AVE   \n",
       "3             TK            EMPTY      CHIEN    JI DRUM  1 SERAYA AVE   \n",
       "4             TK            EMPTY      CHIEN    JI DRUM  1 SERAYA AVE   \n",
       "...          ...              ...        ...        ...           ...   \n",
       "1299945      NaN              NaN        IWT      42PTC         42PTC   \n",
       "1299946      NaN              NaN        IWT      42PTC         42PTC   \n",
       "1299947      NaN              NaN      CHIEN     HB-CCK        HB-CCK   \n",
       "1299948      NaN              NaN      CHIEN     HB-48P        HB-48P   \n",
       "1299949      NaN              NaN      CHIEN     HB-48P        HB-48P   \n",
       "\n",
       "                    STARTTM               ENDTM  TripDuration CTCOMPLETEDT  \\\n",
       "0       2021-01-07 08:00:00 2021-01-07 08:30:00          30.0   2021-01-07   \n",
       "1       2021-01-07 10:30:00 2021-01-07 11:00:00          30.0   2021-01-07   \n",
       "2       2021-01-27 08:00:00 2021-01-27 08:30:00          30.0   2021-01-27   \n",
       "3       2021-01-27 10:30:00 2021-01-27 11:00:00          30.0   2021-01-27   \n",
       "4       2021-01-11 08:00:00 2021-01-11 08:30:00          30.0   2021-01-11   \n",
       "...                     ...                 ...           ...          ...   \n",
       "1299945 2023-12-31 08:00:00 2023-12-31 17:00:00           NaN   2023-12-31   \n",
       "1299946 2023-12-31 08:00:00 2023-12-31 17:00:00           NaN   2023-12-31   \n",
       "1299947 2023-12-31 08:30:00 2023-12-31 17:30:00           NaN   2023-12-31   \n",
       "1299948 2023-12-31 08:30:00 2023-12-31 17:30:00           NaN   2023-12-31   \n",
       "1299949 2023-12-31 08:30:00 2023-12-31 17:30:00           NaN   2023-12-31   \n",
       "\n",
       "         DriverId PrimeMoverId  TrailerId    Status  \n",
       "0             2.0          215     1538.0       NaN  \n",
       "1             2.0          215      972.0       NaN  \n",
       "2             2.0          215      972.0       NaN  \n",
       "3             2.0          215     1538.0       NaN  \n",
       "4             2.0          215     1538.0       NaN  \n",
       "...           ...          ...        ...       ...  \n",
       "1299945     519.0          184        NaN  SHIFTING  \n",
       "1299946     570.0          103        NaN  SHIFTING  \n",
       "1299947     580.0          220        NaN       OFF  \n",
       "1299948     580.0          220        NaN       OFF  \n",
       "1299949     582.0          423        NaN       OFF  \n",
       "\n",
       "[1299950 rows x 18 columns]"
      ]
     },
     "execution_count": 8,
     "metadata": {},
     "output_type": "execute_result"
    }
   ],
   "source": [
    "merged_years = pd.concat([unmerged_2021, unmerged_2022, unmerged_2023], ignore_index=True)\n",
    "\n",
    "merged_years.head(-10)"
   ]
  },
  {
   "cell_type": "markdown",
   "metadata": {},
   "source": [
    "# Data Cleaning"
   ]
  },
  {
   "cell_type": "markdown",
   "metadata": {},
   "source": [
    "## Dropping Non-Trucking Jobs"
   ]
  },
  {
   "cell_type": "code",
   "execution_count": 9,
   "metadata": {
    "execution": {
     "iopub.execute_input": "2024-04-16T08:08:13.023681Z",
     "iopub.status.busy": "2024-04-16T08:08:13.022681Z",
     "iopub.status.idle": "2024-04-16T08:08:13.404619Z",
     "shell.execute_reply": "2024-04-16T08:08:13.404619Z"
    }
   },
   "outputs": [],
   "source": [
    "merged_years = merged_years[merged_years['JOBTYPE'] != 'NONTRUCKING']"
   ]
  },
  {
   "cell_type": "markdown",
   "metadata": {},
   "source": [
    "## Cleaning PrimeMover IDs"
   ]
  },
  {
   "cell_type": "markdown",
   "metadata": {},
   "source": [
    "### Replacing Non-numeric IDs (Years Sheet)"
   ]
  },
  {
   "cell_type": "code",
   "execution_count": 10,
   "metadata": {
    "execution": {
     "iopub.execute_input": "2024-04-16T08:08:13.407620Z",
     "iopub.status.busy": "2024-04-16T08:08:13.407620Z",
     "iopub.status.idle": "2024-04-16T08:08:13.867462Z",
     "shell.execute_reply": "2024-04-16T08:08:13.867462Z"
    }
   },
   "outputs": [],
   "source": [
    "merged_years['PrimeMoverId'] = merged_years['PrimeMoverId'].replace('JACKSON', 1000)\n",
    "\n",
    "merged_years['PrimeMoverId'] = merged_years['PrimeMoverId'].replace('XHSUBCON', 1001)\n",
    "\n",
    "merged_years['PrimeMoverId'] = merged_years['PrimeMoverId'].replace('PTCLSUBCON', 1002)\n",
    "\n",
    "merged_years['PrimeMoverId'] = merged_years['PrimeMoverId'].fillna(0).astype('int64')"
   ]
  },
  {
   "cell_type": "markdown",
   "metadata": {},
   "source": [
    "### Replacing Non-numeric IDs (PM Sheet)"
   ]
  },
  {
   "cell_type": "code",
   "execution_count": 11,
   "metadata": {
    "execution": {
     "iopub.execute_input": "2024-04-16T08:08:13.871456Z",
     "iopub.status.busy": "2024-04-16T08:08:13.870456Z",
     "iopub.status.idle": "2024-04-16T08:08:13.877457Z",
     "shell.execute_reply": "2024-04-16T08:08:13.877457Z"
    }
   },
   "outputs": [],
   "source": [
    "unmerged_pm['PrimeMoverId'] = unmerged_pm['PrimeMoverId'].fillna(0).astype('int64')"
   ]
  },
  {
   "cell_type": "markdown",
   "metadata": {},
   "source": [
    "### Dropping Duplicated Prime Mover IDs from Asset Sheet"
   ]
  },
  {
   "cell_type": "code",
   "execution_count": 12,
   "metadata": {
    "execution": {
     "iopub.execute_input": "2024-04-16T08:08:13.881457Z",
     "iopub.status.busy": "2024-04-16T08:08:13.880455Z",
     "iopub.status.idle": "2024-04-16T08:08:13.917016Z",
     "shell.execute_reply": "2024-04-16T08:08:13.917016Z"
    }
   },
   "outputs": [],
   "source": [
    "# # for each day and each PM ID, there should only be one unique entry\n",
    "# unmerged_pm_dropped = unmerged_pm.drop_duplicates(subset=['PrimeMoverId', 'Date'], keep='first')\n",
    "\n",
    "unmerged_pm_dropped = unmerged_pm[~((unmerged_pm[['Date', 'PrimeMoverId']].duplicated(keep='first')) & (unmerged_pm['Status'].isin(['NOINPUT', 'SUNDAY/HOLIDAY'])))]"
   ]
  },
  {
   "cell_type": "code",
   "execution_count": 13,
   "metadata": {
    "execution": {
     "iopub.execute_input": "2024-04-16T08:08:13.921015Z",
     "iopub.status.busy": "2024-04-16T08:08:13.920017Z",
     "iopub.status.idle": "2024-04-16T08:08:13.934971Z",
     "shell.execute_reply": "2024-04-16T08:08:13.934971Z"
    }
   },
   "outputs": [
    {
     "data": {
      "text/plain": [
       "array(['21', '17', 'SUNDAY/HOLIDAY', '26', 'SPARE', '13', 'OFF', '8',\n",
       "       'WORKSHOP', '15', 'SHIFTING', '16', '10', '12', 'MEDICAL LEAVE',\n",
       "       '14', '44', '6', '5', '22', '3', '9', '7', 'OTHER', '18', '23',\n",
       "       '1', '4', 'ON LEAVE', '2', '11', 'URGENT LEAVE', '20', 'NOINPUT',\n",
       "       '33', '28', '25', '43', '24', '30', '19', '50', '32', '60', '41',\n",
       "       '27', '46', '29', '38', '36', '45', '42', '35', '48', '31', '34',\n",
       "       '37', '51', '53', '49', '47', '39', '40', '52', '55', '59', '65',\n",
       "       '54', '57', '56', '58', '64', '62'], dtype=object)"
      ]
     },
     "execution_count": 13,
     "metadata": {},
     "output_type": "execute_result"
    }
   ],
   "source": [
    "unmerged_pm_dropped['Status'].unique()"
   ]
  },
  {
   "cell_type": "markdown",
   "metadata": {},
   "source": [
    "### Checking Unique Prime Mover IDs"
   ]
  },
  {
   "cell_type": "code",
   "execution_count": 14,
   "metadata": {
    "execution": {
     "iopub.execute_input": "2024-04-16T08:08:13.938970Z",
     "iopub.status.busy": "2024-04-16T08:08:13.937970Z",
     "iopub.status.idle": "2024-04-16T08:08:13.953479Z",
     "shell.execute_reply": "2024-04-16T08:08:13.953479Z"
    }
   },
   "outputs": [
    {
     "data": {
      "text/plain": [
       "array([ 215,  259,  218,  145,  186,  225,  219,  143,  241,   22,  250,\n",
       "        101,  232,  223,  187,  234,  309,  295,  305,  319,  317,  320,\n",
       "        360,    1,  355,  103,  346,  364,  344,  363,  304,  316,  338,\n",
       "        296,  139,  236,  217,  214,  188,  265,  351,   88,   69,  246,\n",
       "        211,  237,  245,  201,  253,  220,  248,  233,  263,  252,  294,\n",
       "        254,  221,  258,  240,  257,   64,  235,  204,   87,  144,   85,\n",
       "        310,  332,  333,  342,  376,  347,  370,  341,  336,   13,  354,\n",
       "        345,  365,  343,  362,  140,  340,   10,  297,  315,  374,  318,\n",
       "        311,  298,  337,  307,  369,  313,  303,  339,  300,  334,  308,\n",
       "        366,  306,  367,  312,  314,  299,  302,  373,  301,   98,   92,\n",
       "        100,  107,  327,    2,  329,  359,  322,  325,  141,  323,  330,\n",
       "        357,  321,  356,  324,  358,  350,  326,  331,  183,  194,  249,\n",
       "        222,  260,  256,  266,  185,  231,  224,  228,  247,  255,  212,\n",
       "         81,  239, 1000,  348,   17, 1001,   99,  192,  384,  381,  389,\n",
       "        388,  385,  386,  378,  238,  387,  379,  382,  380,  391,  383,\n",
       "        229,  392,  402,  401,  398,  397,  399,  403,  405,  270,  404,\n",
       "        408,  406,  407,  409,  393,  396,  410,  395,  394,  411,  412,\n",
       "        400,  271,  416,  268,  375,  417,  262,  226,  371,  184,  162,\n",
       "        420,  421,  419,  418,  328,  424,  444,  450,  448,  425,  426,\n",
       "       1002,  465,  423,  274,  275,  427,  475,  477,  480,  481,  292,\n",
       "        484,  482,  483,  163], dtype=int64)"
      ]
     },
     "execution_count": 14,
     "metadata": {},
     "output_type": "execute_result"
    }
   ],
   "source": [
    "merged_years['PrimeMoverId'].unique()"
   ]
  },
  {
   "cell_type": "markdown",
   "metadata": {},
   "source": [
    "### Number of Unique Prime Movers"
   ]
  },
  {
   "cell_type": "code",
   "execution_count": 15,
   "metadata": {
    "execution": {
     "iopub.execute_input": "2024-04-16T08:08:13.957471Z",
     "iopub.status.busy": "2024-04-16T08:08:13.956475Z",
     "iopub.status.idle": "2024-04-16T08:08:13.969196Z",
     "shell.execute_reply": "2024-04-16T08:08:13.969196Z"
    }
   },
   "outputs": [
    {
     "data": {
      "text/plain": [
       "224"
      ]
     },
     "execution_count": 15,
     "metadata": {},
     "output_type": "execute_result"
    }
   ],
   "source": [
    "merged_years['PrimeMoverId'].nunique()"
   ]
  },
  {
   "cell_type": "markdown",
   "metadata": {},
   "source": [
    "### Sorted Array for Easier Visualisation (Years Sheet)"
   ]
  },
  {
   "cell_type": "code",
   "execution_count": 16,
   "metadata": {
    "execution": {
     "iopub.execute_input": "2024-04-16T08:08:13.972144Z",
     "iopub.status.busy": "2024-04-16T08:08:13.972144Z",
     "iopub.status.idle": "2024-04-16T08:08:13.985177Z",
     "shell.execute_reply": "2024-04-16T08:08:13.985177Z"
    }
   },
   "outputs": [
    {
     "name": "stdout",
     "output_type": "stream",
     "text": [
      "[   1    2   10   13   17   22   64   69   81   85   87   88   92   98\n",
      "   99  100  101  103  107  139  140  141  143  144  145  162  163  183\n",
      "  184  185  186  187  188  192  194  201  204  211  212  214  215  217\n",
      "  218  219  220  221  222  223  224  225  226  228  229  231  232  233\n",
      "  234  235  236  237  238  239  240  241  245  246  247  248  249  250\n",
      "  252  253  254  255  256  257  258  259  260  262  263  265  266  268\n",
      "  270  271  274  275  292  294  295  296  297  298  299  300  301  302\n",
      "  303  304  305  306  307  308  309  310  311  312  313  314  315  316\n",
      "  317  318  319  320  321  322  323  324  325  326  327  328  329  330\n",
      "  331  332  333  334  336  337  338  339  340  341  342  343  344  345\n",
      "  346  347  348  350  351  354  355  356  357  358  359  360  362  363\n",
      "  364  365  366  367  369  370  371  373  374  375  376  378  379  380\n",
      "  381  382  383  384  385  386  387  388  389  391  392  393  394  395\n",
      "  396  397  398  399  400  401  402  403  404  405  406  407  408  409\n",
      "  410  411  412  416  417  418  419  420  421  423  424  425  426  427\n",
      "  444  448  450  465  475  477  480  481  482  483  484 1000 1001 1002]\n"
     ]
    }
   ],
   "source": [
    "pm_total_year = merged_years['PrimeMoverId'].unique()\n",
    "pm_total_year.sort()\n",
    "print(pm_total_year)"
   ]
  },
  {
   "cell_type": "markdown",
   "metadata": {},
   "source": [
    "### Sorted Array for Easier Visualisation (PM Sheet)"
   ]
  },
  {
   "cell_type": "code",
   "execution_count": 17,
   "metadata": {
    "execution": {
     "iopub.execute_input": "2024-04-16T08:08:13.988159Z",
     "iopub.status.busy": "2024-04-16T08:08:13.988159Z",
     "iopub.status.idle": "2024-04-16T08:08:13.993096Z",
     "shell.execute_reply": "2024-04-16T08:08:13.993096Z"
    }
   },
   "outputs": [
    {
     "name": "stdout",
     "output_type": "stream",
     "text": [
      "[  0   1   2  10  13  17  22  81  87  88  92  97  99 100 101 102 103 111\n",
      " 141 143 144 145 162 163 183 184 185 186 187 188 190 192 201 204 208 211\n",
      " 212 213 214 215 217 218 219 220 221 222 223 224 225 226 231 232 233 234\n",
      " 235 236 237 238 239 240 241 245 246 247 248 249 250 252 253 254 255 256\n",
      " 257 258 259 260 263 265 266 268 269 270 271 273 274 275 276 289 292 293\n",
      " 294 295 296 297 298 299 300 301 302 303 304 305 306 307 308 309 310 311\n",
      " 312 314 315 316 317 318 319 320 321 322 323 324 326 327 328 329 330 331\n",
      " 332 333 334 336 337 338 339 340 341 342 344 345 346 347 354 355 356 357\n",
      " 358 359 360 363 364 365 366 367 369 370 374 376 378 379 380 381 382 383\n",
      " 384 385 386 387 392 393 394 395 396 397 398 399 403 404 405 406 407 418\n",
      " 419 420 421 422 423 424 425 426 427 428 444 448 450 465 480 481 482 483\n",
      " 484]\n"
     ]
    }
   ],
   "source": [
    "pm_total = unmerged_pm_dropped['PrimeMoverId'].unique()\n",
    "pm_total.sort()\n",
    "print(pm_total)"
   ]
  },
  {
   "cell_type": "markdown",
   "metadata": {},
   "source": [
    "### Number of Unique Prime Movers in PM Sheet"
   ]
  },
  {
   "cell_type": "code",
   "execution_count": 18,
   "metadata": {
    "execution": {
     "iopub.execute_input": "2024-04-16T08:08:13.996091Z",
     "iopub.status.busy": "2024-04-16T08:08:13.995091Z",
     "iopub.status.idle": "2024-04-16T08:08:14.000792Z",
     "shell.execute_reply": "2024-04-16T08:08:14.000792Z"
    }
   },
   "outputs": [
    {
     "data": {
      "text/plain": [
       "199"
      ]
     },
     "execution_count": 18,
     "metadata": {},
     "output_type": "execute_result"
    }
   ],
   "source": [
    "unmerged_pm_dropped['PrimeMoverId'].nunique()"
   ]
  },
  {
   "cell_type": "markdown",
   "metadata": {},
   "source": [
    "### Identifying Prime Mover IDs in Years Sheet that are not in PM Sheet"
   ]
  },
  {
   "cell_type": "code",
   "execution_count": 19,
   "metadata": {
    "execution": {
     "iopub.execute_input": "2024-04-16T08:08:14.003787Z",
     "iopub.status.busy": "2024-04-16T08:08:14.003787Z",
     "iopub.status.idle": "2024-04-16T08:08:14.007560Z",
     "shell.execute_reply": "2024-04-16T08:08:14.007560Z"
    }
   },
   "outputs": [
    {
     "name": "stdout",
     "output_type": "stream",
     "text": [
      "[  64   69   85   98  107  139  140  194  228  229  262  313  325  343\n",
      "  348  350  351  362  371  373  375  388  389  391  400  401  402  408\n",
      "  409  410  411  412  416  417  475  477 1000 1001 1002]\n"
     ]
    }
   ],
   "source": [
    "main_pm_list = np.setdiff1d(pm_total_year, pm_total)\n",
    "print(main_pm_list)"
   ]
  },
  {
   "cell_type": "markdown",
   "metadata": {},
   "source": [
    "## Cleaning Driver ID"
   ]
  },
  {
   "cell_type": "markdown",
   "metadata": {},
   "source": [
    "### Converting Non-numeric to numeric Data"
   ]
  },
  {
   "cell_type": "code",
   "execution_count": 20,
   "metadata": {
    "execution": {
     "iopub.execute_input": "2024-04-16T08:08:14.010550Z",
     "iopub.status.busy": "2024-04-16T08:08:14.009549Z",
     "iopub.status.idle": "2024-04-16T08:08:14.029565Z",
     "shell.execute_reply": "2024-04-16T08:08:14.029565Z"
    }
   },
   "outputs": [],
   "source": [
    "merged_years['DriverId'] = merged_years['DriverId'].fillna(0).astype('int64')"
   ]
  },
  {
   "cell_type": "markdown",
   "metadata": {},
   "source": [
    "### Checking for duplicate driver IDs in Asset Sheet"
   ]
  },
  {
   "cell_type": "code",
   "execution_count": 21,
   "metadata": {
    "execution": {
     "iopub.execute_input": "2024-04-16T08:08:14.033560Z",
     "iopub.status.busy": "2024-04-16T08:08:14.033560Z",
     "iopub.status.idle": "2024-04-16T08:08:14.037736Z",
     "shell.execute_reply": "2024-04-16T08:08:14.037201Z"
    }
   },
   "outputs": [],
   "source": [
    "unmerged_driver.drop_duplicates(subset='Driverid', keep='first', inplace=True)"
   ]
  },
  {
   "cell_type": "markdown",
   "metadata": {},
   "source": [
    "### Show Unique Driver IDs (Years Sheet)"
   ]
  },
  {
   "cell_type": "code",
   "execution_count": 22,
   "metadata": {
    "execution": {
     "iopub.execute_input": "2024-04-16T08:08:14.039713Z",
     "iopub.status.busy": "2024-04-16T08:08:14.039713Z",
     "iopub.status.idle": "2024-04-16T08:08:14.051573Z",
     "shell.execute_reply": "2024-04-16T08:08:14.051573Z"
    }
   },
   "outputs": [
    {
     "data": {
      "text/plain": [
       "array([  2,  29,  33,  37,  41,  51,  60,  67,  70,  72,  74,  75,  76,\n",
       "        78,  82,  88, 104, 106, 108, 110, 113, 128, 139, 151, 152, 167,\n",
       "       169, 171, 182, 185, 190, 201, 206, 208, 211, 227, 231, 250, 251,\n",
       "       256, 260, 262, 264, 267, 272, 279, 282, 286, 287, 288, 291, 293,\n",
       "       294, 295, 296, 305, 310, 311, 314, 323, 326, 334, 339, 563, 341,\n",
       "       346, 349, 553, 355, 356, 360, 361, 362, 363, 367, 370, 372, 376,\n",
       "       378, 379, 381, 384, 386, 394, 398, 400, 402, 403, 405, 407, 409,\n",
       "       419, 427, 431, 433, 434, 437, 438, 445, 446, 447, 375, 396, 382,\n",
       "       358, 345, 330, 318, 389, 432, 415, 444, 337, 422, 148, 277, 220,\n",
       "       303, 255,  94,  62, 301, 176, 523, 213,  99, 302,  83,  66,  36,\n",
       "        28,   0, 449, 450, 235, 222, 452, 453, 455,   4, 456, 454, 458,\n",
       "       460, 461, 462, 172, 463, 474, 476, 475, 477, 478, 479, 486, 487,\n",
       "       488, 489, 490, 491, 274, 421, 496, 492,  98, 499, 497, 498, 493,\n",
       "       495, 494, 505, 503, 502, 504, 507, 506, 509, 511, 508, 197, 524,\n",
       "       525, 520, 570, 571, 572, 573, 575, 576, 579, 580, 577, 582, 583,\n",
       "       588, 587, 586, 589, 591, 592, 594], dtype=int64)"
      ]
     },
     "execution_count": 22,
     "metadata": {},
     "output_type": "execute_result"
    }
   ],
   "source": [
    "merged_years['DriverId'].unique()"
   ]
  },
  {
   "cell_type": "markdown",
   "metadata": {},
   "source": [
    "### Show Unique Driver IDs (Drivers Sheet)"
   ]
  },
  {
   "cell_type": "code",
   "execution_count": 23,
   "metadata": {
    "execution": {
     "iopub.execute_input": "2024-04-16T08:08:14.054573Z",
     "iopub.status.busy": "2024-04-16T08:08:14.054573Z",
     "iopub.status.idle": "2024-04-16T08:08:14.059570Z",
     "shell.execute_reply": "2024-04-16T08:08:14.059570Z"
    }
   },
   "outputs": [
    {
     "data": {
      "text/plain": [
       "array([197, 455, 346,  60, 367, 448, 317, 148, 381, 323, 400, 297, 447,\n",
       "       362, 377, 502, 419,  59, 389, 375, 314,  37, 295, 431,  98, 384,\n",
       "       486, 262, 305, 227, 172, 361, 597, 326, 524, 405, 497, 573, 104,\n",
       "       287, 211, 522, 571,  83, 411, 595, 151,  82, 222, 402, 255, 308,\n",
       "       293, 505, 105, 461, 575, 398, 479, 394, 242, 264, 277, 476, 572,\n",
       "       507, 496, 587, 449,  72, 563, 139,  79, 220,  66, 592, 493, 110,\n",
       "       294, 376, 495, 518, 474, 257,  48, 260, 339, 274, 149, 429, 247,\n",
       "       386, 506, 250, 191, 348, 388, 358,  28, 437, 363, 462, 360, 312,\n",
       "       583, 477, 517, 525, 303, 306, 407, 584, 244,  89,  44, 167, 169,\n",
       "       382, 579, 433, 450,  33, 120, 299, 370, 516, 324, 498, 452, 454,\n",
       "       272, 296, 582, 586, 345, 288, 337, 409, 445, 523, 509, 379, 185,\n",
       "        94, 310,  62, 499, 427, 456, 309, 152,  93, 313, 494,  35, 330,\n",
       "       318, 267, 446, 213,  78, 438, 588, 176, 475, 341, 508, 304,  70,\n",
       "       259, 190,  29, 334, 488, 504,  75, 434, 235, 520, 503,  36, 421,\n",
       "       329, 114, 415, 383, 208, 577, 492, 378, 349,  76, 396, 460,   4,\n",
       "       307, 458, 301,  67, 171,  41, 355, 519, 128, 372, 282, 251, 256,\n",
       "       489, 113, 332, 589, 422, 594,   2, 580, 183, 311, 201, 553, 500,\n",
       "       279, 432, 416, 591, 511, 463, 356, 298, 570, 444, 439, 302, 453,\n",
       "       403, 182, 231, 510, 286,  74, 487, 206, 576, 490, 478, 108, 291,\n",
       "       106,  99,  51, 491,  88], dtype=int64)"
      ]
     },
     "execution_count": 23,
     "metadata": {},
     "output_type": "execute_result"
    }
   ],
   "source": [
    "unmerged_driver['Driverid'].unique()"
   ]
  },
  {
   "cell_type": "markdown",
   "metadata": {},
   "source": [
    "# Merging Sheets"
   ]
  },
  {
   "cell_type": "markdown",
   "metadata": {},
   "source": [
    "## Join by Driver ID"
   ]
  },
  {
   "cell_type": "code",
   "execution_count": 24,
   "metadata": {
    "execution": {
     "iopub.execute_input": "2024-04-16T08:08:14.062572Z",
     "iopub.status.busy": "2024-04-16T08:08:14.061571Z",
     "iopub.status.idle": "2024-04-16T08:08:15.559131Z",
     "shell.execute_reply": "2024-04-16T08:08:15.559131Z"
    }
   },
   "outputs": [
    {
     "data": {
      "text/html": [
       "<div>\n",
       "<style scoped>\n",
       "    .dataframe tbody tr th:only-of-type {\n",
       "        vertical-align: middle;\n",
       "    }\n",
       "\n",
       "    .dataframe tbody tr th {\n",
       "        vertical-align: top;\n",
       "    }\n",
       "\n",
       "    .dataframe thead th {\n",
       "        text-align: right;\n",
       "    }\n",
       "</style>\n",
       "<table border=\"1\" class=\"dataframe\">\n",
       "  <thead>\n",
       "    <tr style=\"text-align: right;\">\n",
       "      <th></th>\n",
       "      <th>OrderNumber</th>\n",
       "      <th>CUSTID</th>\n",
       "      <th>JOBTYPE</th>\n",
       "      <th>TypeOfTrip</th>\n",
       "      <th>CNTRSIZE</th>\n",
       "      <th>CNTRTYPE</th>\n",
       "      <th>LOAD_STATUS_CONT</th>\n",
       "      <th>Department</th>\n",
       "      <th>FROMLOCSTR</th>\n",
       "      <th>TOLOCSTR</th>\n",
       "      <th>...</th>\n",
       "      <th>TrailerId</th>\n",
       "      <th>Status</th>\n",
       "      <th>Driverid</th>\n",
       "      <th>JOB CODE</th>\n",
       "      <th>JOINED DATE</th>\n",
       "      <th>RESIGNED DATE</th>\n",
       "      <th>AGE</th>\n",
       "      <th>RACE</th>\n",
       "      <th>GENDER</th>\n",
       "      <th>ACTIVE</th>\n",
       "    </tr>\n",
       "  </thead>\n",
       "  <tbody>\n",
       "    <tr>\n",
       "      <th>0</th>\n",
       "      <td>TL9008453</td>\n",
       "      <td>00-RE001</td>\n",
       "      <td>LOCAL</td>\n",
       "      <td>Single Mount</td>\n",
       "      <td>20</td>\n",
       "      <td>TK</td>\n",
       "      <td>EMPTY</td>\n",
       "      <td>CHIEN</td>\n",
       "      <td>JI DRUM</td>\n",
       "      <td>1 SERAYA AVE</td>\n",
       "      <td>...</td>\n",
       "      <td>1538.0</td>\n",
       "      <td>NaN</td>\n",
       "      <td>2.0</td>\n",
       "      <td>PRIME MOVER DRIVER</td>\n",
       "      <td>2007-06-07</td>\n",
       "      <td>2021-02-23</td>\n",
       "      <td>53 yy:07 mm</td>\n",
       "      <td>CHINESE</td>\n",
       "      <td>MALE</td>\n",
       "      <td>0.0</td>\n",
       "    </tr>\n",
       "    <tr>\n",
       "      <th>1</th>\n",
       "      <td>TL9008453</td>\n",
       "      <td>00-RE001</td>\n",
       "      <td>LOCAL</td>\n",
       "      <td>Single Mount</td>\n",
       "      <td>20</td>\n",
       "      <td>TK</td>\n",
       "      <td>EMPTY</td>\n",
       "      <td>CHIEN</td>\n",
       "      <td>JI DRUM</td>\n",
       "      <td>1 SERAYA AVE</td>\n",
       "      <td>...</td>\n",
       "      <td>972.0</td>\n",
       "      <td>NaN</td>\n",
       "      <td>2.0</td>\n",
       "      <td>PRIME MOVER DRIVER</td>\n",
       "      <td>2007-06-07</td>\n",
       "      <td>2021-02-23</td>\n",
       "      <td>53 yy:07 mm</td>\n",
       "      <td>CHINESE</td>\n",
       "      <td>MALE</td>\n",
       "      <td>0.0</td>\n",
       "    </tr>\n",
       "    <tr>\n",
       "      <th>2</th>\n",
       "      <td>TL9009105</td>\n",
       "      <td>00-RE001</td>\n",
       "      <td>LOCAL</td>\n",
       "      <td>Single Mount</td>\n",
       "      <td>20</td>\n",
       "      <td>TK</td>\n",
       "      <td>EMPTY</td>\n",
       "      <td>CHIEN</td>\n",
       "      <td>JI DRUM</td>\n",
       "      <td>1 SERAYA AVE</td>\n",
       "      <td>...</td>\n",
       "      <td>972.0</td>\n",
       "      <td>NaN</td>\n",
       "      <td>2.0</td>\n",
       "      <td>PRIME MOVER DRIVER</td>\n",
       "      <td>2007-06-07</td>\n",
       "      <td>2021-02-23</td>\n",
       "      <td>53 yy:07 mm</td>\n",
       "      <td>CHINESE</td>\n",
       "      <td>MALE</td>\n",
       "      <td>0.0</td>\n",
       "    </tr>\n",
       "    <tr>\n",
       "      <th>3</th>\n",
       "      <td>TL9009105</td>\n",
       "      <td>00-RE001</td>\n",
       "      <td>LOCAL</td>\n",
       "      <td>Single Mount</td>\n",
       "      <td>20</td>\n",
       "      <td>TK</td>\n",
       "      <td>EMPTY</td>\n",
       "      <td>CHIEN</td>\n",
       "      <td>JI DRUM</td>\n",
       "      <td>1 SERAYA AVE</td>\n",
       "      <td>...</td>\n",
       "      <td>1538.0</td>\n",
       "      <td>NaN</td>\n",
       "      <td>2.0</td>\n",
       "      <td>PRIME MOVER DRIVER</td>\n",
       "      <td>2007-06-07</td>\n",
       "      <td>2021-02-23</td>\n",
       "      <td>53 yy:07 mm</td>\n",
       "      <td>CHINESE</td>\n",
       "      <td>MALE</td>\n",
       "      <td>0.0</td>\n",
       "    </tr>\n",
       "    <tr>\n",
       "      <th>4</th>\n",
       "      <td>TL9008550</td>\n",
       "      <td>00-RE001</td>\n",
       "      <td>LOCAL</td>\n",
       "      <td>Single Mount</td>\n",
       "      <td>20</td>\n",
       "      <td>TK</td>\n",
       "      <td>EMPTY</td>\n",
       "      <td>CHIEN</td>\n",
       "      <td>JI DRUM</td>\n",
       "      <td>1 SERAYA AVE</td>\n",
       "      <td>...</td>\n",
       "      <td>1538.0</td>\n",
       "      <td>NaN</td>\n",
       "      <td>2.0</td>\n",
       "      <td>PRIME MOVER DRIVER</td>\n",
       "      <td>2007-06-07</td>\n",
       "      <td>2021-02-23</td>\n",
       "      <td>53 yy:07 mm</td>\n",
       "      <td>CHINESE</td>\n",
       "      <td>MALE</td>\n",
       "      <td>0.0</td>\n",
       "    </tr>\n",
       "    <tr>\n",
       "      <th>...</th>\n",
       "      <td>...</td>\n",
       "      <td>...</td>\n",
       "      <td>...</td>\n",
       "      <td>...</td>\n",
       "      <td>...</td>\n",
       "      <td>...</td>\n",
       "      <td>...</td>\n",
       "      <td>...</td>\n",
       "      <td>...</td>\n",
       "      <td>...</td>\n",
       "      <td>...</td>\n",
       "      <td>...</td>\n",
       "      <td>...</td>\n",
       "      <td>...</td>\n",
       "      <td>...</td>\n",
       "      <td>...</td>\n",
       "      <td>...</td>\n",
       "      <td>...</td>\n",
       "      <td>...</td>\n",
       "      <td>...</td>\n",
       "      <td>...</td>\n",
       "    </tr>\n",
       "    <tr>\n",
       "      <th>1222388</th>\n",
       "      <td>XI7007610</td>\n",
       "      <td>00-RE114</td>\n",
       "      <td>IMPORT</td>\n",
       "      <td>Single Mount</td>\n",
       "      <td>20</td>\n",
       "      <td>GP</td>\n",
       "      <td>EMPTY</td>\n",
       "      <td>XINHUA</td>\n",
       "      <td>PTC ISL (G)</td>\n",
       "      <td>CWT47JLNBUROH</td>\n",
       "      <td>...</td>\n",
       "      <td>1934.0</td>\n",
       "      <td>NaN</td>\n",
       "      <td>356.0</td>\n",
       "      <td>PRIME MOVER DRIVER</td>\n",
       "      <td>2012-08-24</td>\n",
       "      <td>NaN</td>\n",
       "      <td>37 yy:05 mm</td>\n",
       "      <td>MALAY</td>\n",
       "      <td>MALE</td>\n",
       "      <td>1.0</td>\n",
       "    </tr>\n",
       "    <tr>\n",
       "      <th>1222389</th>\n",
       "      <td>XI7007622</td>\n",
       "      <td>00-RE114</td>\n",
       "      <td>IMPORT</td>\n",
       "      <td>Single Mount</td>\n",
       "      <td>20</td>\n",
       "      <td>GP</td>\n",
       "      <td>LOADED</td>\n",
       "      <td>XINHUA</td>\n",
       "      <td>PSA/PPT</td>\n",
       "      <td>PTC ISL (G)</td>\n",
       "      <td>...</td>\n",
       "      <td>1265.0</td>\n",
       "      <td>NaN</td>\n",
       "      <td>169.0</td>\n",
       "      <td>PRIME MOVER DRIVER</td>\n",
       "      <td>2007-12-01</td>\n",
       "      <td>NaN</td>\n",
       "      <td>55 yy:04 mm</td>\n",
       "      <td>CHINESE</td>\n",
       "      <td>MALE</td>\n",
       "      <td>1.0</td>\n",
       "    </tr>\n",
       "    <tr>\n",
       "      <th>1222390</th>\n",
       "      <td>XI7007622</td>\n",
       "      <td>00-RE114</td>\n",
       "      <td>IMPORT</td>\n",
       "      <td>Double Mount</td>\n",
       "      <td>20</td>\n",
       "      <td>GP</td>\n",
       "      <td>EMPTY</td>\n",
       "      <td>XINHUA</td>\n",
       "      <td>PTC ISL (G)</td>\n",
       "      <td>WINGSENG</td>\n",
       "      <td>...</td>\n",
       "      <td>895.0</td>\n",
       "      <td>NaN</td>\n",
       "      <td>415.0</td>\n",
       "      <td>PRIME MOVER DRIVER</td>\n",
       "      <td>2017-08-14</td>\n",
       "      <td>NaN</td>\n",
       "      <td>31 yy:10 mm</td>\n",
       "      <td>MALAY</td>\n",
       "      <td>MALE</td>\n",
       "      <td>1.0</td>\n",
       "    </tr>\n",
       "    <tr>\n",
       "      <th>1222391</th>\n",
       "      <td>XI7007620</td>\n",
       "      <td>00-RE114</td>\n",
       "      <td>IMPORT</td>\n",
       "      <td>Single Mount</td>\n",
       "      <td>20</td>\n",
       "      <td>TK</td>\n",
       "      <td>LOADED</td>\n",
       "      <td>XINHUA</td>\n",
       "      <td>PSA/BT/KT</td>\n",
       "      <td>2 SERAYA P</td>\n",
       "      <td>...</td>\n",
       "      <td>1800.0</td>\n",
       "      <td>NaN</td>\n",
       "      <td>398.0</td>\n",
       "      <td>PRIME MOVER DRIVER</td>\n",
       "      <td>2015-11-02</td>\n",
       "      <td>NaN</td>\n",
       "      <td>40 yy:09 mm</td>\n",
       "      <td>CHINESE</td>\n",
       "      <td>MALE</td>\n",
       "      <td>1.0</td>\n",
       "    </tr>\n",
       "    <tr>\n",
       "      <th>1222392</th>\n",
       "      <td>XI7007620</td>\n",
       "      <td>00-RE114</td>\n",
       "      <td>IMPORT</td>\n",
       "      <td>Single Mount</td>\n",
       "      <td>20</td>\n",
       "      <td>TK</td>\n",
       "      <td>EMPTY</td>\n",
       "      <td>XINHUA</td>\n",
       "      <td>2 SERAYA P</td>\n",
       "      <td>31 GUL CRE</td>\n",
       "      <td>...</td>\n",
       "      <td>1800.0</td>\n",
       "      <td>NaN</td>\n",
       "      <td>169.0</td>\n",
       "      <td>PRIME MOVER DRIVER</td>\n",
       "      <td>2007-12-01</td>\n",
       "      <td>NaN</td>\n",
       "      <td>55 yy:04 mm</td>\n",
       "      <td>CHINESE</td>\n",
       "      <td>MALE</td>\n",
       "      <td>1.0</td>\n",
       "    </tr>\n",
       "  </tbody>\n",
       "</table>\n",
       "<p>1222393 rows × 26 columns</p>\n",
       "</div>"
      ],
      "text/plain": [
       "        OrderNumber    CUSTID JOBTYPE    TypeOfTrip  CNTRSIZE CNTRTYPE  \\\n",
       "0         TL9008453  00-RE001   LOCAL  Single Mount        20       TK   \n",
       "1         TL9008453  00-RE001   LOCAL  Single Mount        20       TK   \n",
       "2         TL9009105  00-RE001   LOCAL  Single Mount        20       TK   \n",
       "3         TL9009105  00-RE001   LOCAL  Single Mount        20       TK   \n",
       "4         TL9008550  00-RE001   LOCAL  Single Mount        20       TK   \n",
       "...             ...       ...     ...           ...       ...      ...   \n",
       "1222388   XI7007610  00-RE114  IMPORT  Single Mount        20       GP   \n",
       "1222389   XI7007622  00-RE114  IMPORT  Single Mount        20       GP   \n",
       "1222390   XI7007622  00-RE114  IMPORT  Double Mount        20       GP   \n",
       "1222391   XI7007620  00-RE114  IMPORT  Single Mount        20       TK   \n",
       "1222392   XI7007620  00-RE114  IMPORT  Single Mount        20       TK   \n",
       "\n",
       "        LOAD_STATUS_CONT Department   FROMLOCSTR       TOLOCSTR  ...  \\\n",
       "0                  EMPTY      CHIEN      JI DRUM   1 SERAYA AVE  ...   \n",
       "1                  EMPTY      CHIEN      JI DRUM   1 SERAYA AVE  ...   \n",
       "2                  EMPTY      CHIEN      JI DRUM   1 SERAYA AVE  ...   \n",
       "3                  EMPTY      CHIEN      JI DRUM   1 SERAYA AVE  ...   \n",
       "4                  EMPTY      CHIEN      JI DRUM   1 SERAYA AVE  ...   \n",
       "...                  ...        ...          ...            ...  ...   \n",
       "1222388            EMPTY     XINHUA  PTC ISL (G)  CWT47JLNBUROH  ...   \n",
       "1222389           LOADED     XINHUA      PSA/PPT    PTC ISL (G)  ...   \n",
       "1222390            EMPTY     XINHUA  PTC ISL (G)       WINGSENG  ...   \n",
       "1222391           LOADED     XINHUA    PSA/BT/KT     2 SERAYA P  ...   \n",
       "1222392            EMPTY     XINHUA   2 SERAYA P     31 GUL CRE  ...   \n",
       "\n",
       "        TrailerId Status  Driverid            JOB CODE  JOINED DATE  \\\n",
       "0          1538.0    NaN       2.0  PRIME MOVER DRIVER   2007-06-07   \n",
       "1           972.0    NaN       2.0  PRIME MOVER DRIVER   2007-06-07   \n",
       "2           972.0    NaN       2.0  PRIME MOVER DRIVER   2007-06-07   \n",
       "3          1538.0    NaN       2.0  PRIME MOVER DRIVER   2007-06-07   \n",
       "4          1538.0    NaN       2.0  PRIME MOVER DRIVER   2007-06-07   \n",
       "...           ...    ...       ...                 ...          ...   \n",
       "1222388    1934.0    NaN     356.0  PRIME MOVER DRIVER   2012-08-24   \n",
       "1222389    1265.0    NaN     169.0  PRIME MOVER DRIVER   2007-12-01   \n",
       "1222390     895.0    NaN     415.0  PRIME MOVER DRIVER   2017-08-14   \n",
       "1222391    1800.0    NaN     398.0  PRIME MOVER DRIVER   2015-11-02   \n",
       "1222392    1800.0    NaN     169.0  PRIME MOVER DRIVER   2007-12-01   \n",
       "\n",
       "         RESIGNED DATE          AGE     RACE  GENDER ACTIVE  \n",
       "0           2021-02-23  53 yy:07 mm  CHINESE    MALE    0.0  \n",
       "1           2021-02-23  53 yy:07 mm  CHINESE    MALE    0.0  \n",
       "2           2021-02-23  53 yy:07 mm  CHINESE    MALE    0.0  \n",
       "3           2021-02-23  53 yy:07 mm  CHINESE    MALE    0.0  \n",
       "4           2021-02-23  53 yy:07 mm  CHINESE    MALE    0.0  \n",
       "...                ...          ...      ...     ...    ...  \n",
       "1222388            NaN  37 yy:05 mm    MALAY    MALE    1.0  \n",
       "1222389            NaN  55 yy:04 mm  CHINESE    MALE    1.0  \n",
       "1222390            NaN  31 yy:10 mm    MALAY    MALE    1.0  \n",
       "1222391            NaN  40 yy:09 mm  CHINESE    MALE    1.0  \n",
       "1222392            NaN  55 yy:04 mm  CHINESE    MALE    1.0  \n",
       "\n",
       "[1222393 rows x 26 columns]"
      ]
     },
     "execution_count": 24,
     "metadata": {},
     "output_type": "execute_result"
    }
   ],
   "source": [
    "# validate many to one relationship, left join\n",
    "\n",
    "merged_years_driver = pd.merge(merged_years, unmerged_driver, left_on='DriverId', right_on='Driverid', how='left', validate='m:1')\n",
    "\n",
    "merged_years_driver.head(-10)"
   ]
  },
  {
   "cell_type": "markdown",
   "metadata": {},
   "source": [
    "## Cleaning CTCOMPLETEDT format"
   ]
  },
  {
   "cell_type": "code",
   "execution_count": 25,
   "metadata": {
    "execution": {
     "iopub.execute_input": "2024-04-16T08:08:15.562130Z",
     "iopub.status.busy": "2024-04-16T08:08:15.562130Z",
     "iopub.status.idle": "2024-04-16T08:08:15.674027Z",
     "shell.execute_reply": "2024-04-16T08:08:15.674027Z"
    }
   },
   "outputs": [],
   "source": [
    "merged_years_driver['CTCOMPLETEDT'] = pd.to_datetime(merged_years_driver['CTCOMPLETEDT'], format='mixed', dayfirst=True)"
   ]
  },
  {
   "cell_type": "markdown",
   "metadata": {},
   "source": [
    "## Join by Prime Mover ID"
   ]
  },
  {
   "cell_type": "code",
   "execution_count": 26,
   "metadata": {
    "execution": {
     "iopub.execute_input": "2024-04-16T08:08:15.677028Z",
     "iopub.status.busy": "2024-04-16T08:08:15.677028Z",
     "iopub.status.idle": "2024-04-16T08:08:16.779918Z",
     "shell.execute_reply": "2024-04-16T08:08:16.779918Z"
    }
   },
   "outputs": [],
   "source": [
    "# validate many to one relationship, left join\n",
    "\n",
    "merged_total = pd.merge(merged_years_driver, unmerged_pm_dropped, left_on=[merged_years_driver['PrimeMoverId'], merged_years_driver['CTCOMPLETEDT'].dt.date], right_on=[unmerged_pm_dropped['PrimeMoverId'], unmerged_pm_dropped['Date'].dt.date], validate='m:1', how='left')"
   ]
  },
  {
   "cell_type": "markdown",
   "metadata": {},
   "source": [
    "## Dropping Intermediate Columns"
   ]
  },
  {
   "cell_type": "code",
   "execution_count": 27,
   "metadata": {
    "execution": {
     "iopub.execute_input": "2024-04-16T08:08:16.783923Z",
     "iopub.status.busy": "2024-04-16T08:08:16.782918Z",
     "iopub.status.idle": "2024-04-16T08:08:18.131288Z",
     "shell.execute_reply": "2024-04-16T08:08:18.130601Z"
    }
   },
   "outputs": [
    {
     "data": {
      "text/html": [
       "<div>\n",
       "<style scoped>\n",
       "    .dataframe tbody tr th:only-of-type {\n",
       "        vertical-align: middle;\n",
       "    }\n",
       "\n",
       "    .dataframe tbody tr th {\n",
       "        vertical-align: top;\n",
       "    }\n",
       "\n",
       "    .dataframe thead th {\n",
       "        text-align: right;\n",
       "    }\n",
       "</style>\n",
       "<table border=\"1\" class=\"dataframe\">\n",
       "  <thead>\n",
       "    <tr style=\"text-align: right;\">\n",
       "      <th></th>\n",
       "      <th>OrderNumber</th>\n",
       "      <th>CUSTID</th>\n",
       "      <th>JOBTYPE</th>\n",
       "      <th>TypeOfTrip</th>\n",
       "      <th>CNTRSIZE</th>\n",
       "      <th>CNTRTYPE</th>\n",
       "      <th>LOAD_STATUS_CONT</th>\n",
       "      <th>Department</th>\n",
       "      <th>FROMLOCSTR</th>\n",
       "      <th>TOLOCSTR</th>\n",
       "      <th>...</th>\n",
       "      <th>JOINED DATE</th>\n",
       "      <th>RESIGNED DATE</th>\n",
       "      <th>AGE</th>\n",
       "      <th>RACE</th>\n",
       "      <th>GENDER</th>\n",
       "      <th>ACTIVE</th>\n",
       "      <th>Date</th>\n",
       "      <th>TOWHDDEPT</th>\n",
       "      <th>Team</th>\n",
       "      <th>Status_y</th>\n",
       "    </tr>\n",
       "  </thead>\n",
       "  <tbody>\n",
       "    <tr>\n",
       "      <th>0</th>\n",
       "      <td>TL9008453</td>\n",
       "      <td>00-RE001</td>\n",
       "      <td>LOCAL</td>\n",
       "      <td>Single Mount</td>\n",
       "      <td>20</td>\n",
       "      <td>TK</td>\n",
       "      <td>EMPTY</td>\n",
       "      <td>CHIEN</td>\n",
       "      <td>JI DRUM</td>\n",
       "      <td>1 SERAYA AVE</td>\n",
       "      <td>...</td>\n",
       "      <td>2007-06-07</td>\n",
       "      <td>2021-02-23</td>\n",
       "      <td>53 yy:07 mm</td>\n",
       "      <td>CHINESE</td>\n",
       "      <td>MALE</td>\n",
       "      <td>0.0</td>\n",
       "      <td>2021-01-07</td>\n",
       "      <td>CHIEN</td>\n",
       "      <td>CHIEN LI</td>\n",
       "      <td>16</td>\n",
       "    </tr>\n",
       "    <tr>\n",
       "      <th>1</th>\n",
       "      <td>TL9008453</td>\n",
       "      <td>00-RE001</td>\n",
       "      <td>LOCAL</td>\n",
       "      <td>Single Mount</td>\n",
       "      <td>20</td>\n",
       "      <td>TK</td>\n",
       "      <td>EMPTY</td>\n",
       "      <td>CHIEN</td>\n",
       "      <td>JI DRUM</td>\n",
       "      <td>1 SERAYA AVE</td>\n",
       "      <td>...</td>\n",
       "      <td>2007-06-07</td>\n",
       "      <td>2021-02-23</td>\n",
       "      <td>53 yy:07 mm</td>\n",
       "      <td>CHINESE</td>\n",
       "      <td>MALE</td>\n",
       "      <td>0.0</td>\n",
       "      <td>2021-01-07</td>\n",
       "      <td>CHIEN</td>\n",
       "      <td>CHIEN LI</td>\n",
       "      <td>16</td>\n",
       "    </tr>\n",
       "    <tr>\n",
       "      <th>2</th>\n",
       "      <td>TL9009105</td>\n",
       "      <td>00-RE001</td>\n",
       "      <td>LOCAL</td>\n",
       "      <td>Single Mount</td>\n",
       "      <td>20</td>\n",
       "      <td>TK</td>\n",
       "      <td>EMPTY</td>\n",
       "      <td>CHIEN</td>\n",
       "      <td>JI DRUM</td>\n",
       "      <td>1 SERAYA AVE</td>\n",
       "      <td>...</td>\n",
       "      <td>2007-06-07</td>\n",
       "      <td>2021-02-23</td>\n",
       "      <td>53 yy:07 mm</td>\n",
       "      <td>CHINESE</td>\n",
       "      <td>MALE</td>\n",
       "      <td>0.0</td>\n",
       "      <td>2021-01-27</td>\n",
       "      <td>CHIEN</td>\n",
       "      <td>CHIEN LI</td>\n",
       "      <td>6</td>\n",
       "    </tr>\n",
       "    <tr>\n",
       "      <th>3</th>\n",
       "      <td>TL9009105</td>\n",
       "      <td>00-RE001</td>\n",
       "      <td>LOCAL</td>\n",
       "      <td>Single Mount</td>\n",
       "      <td>20</td>\n",
       "      <td>TK</td>\n",
       "      <td>EMPTY</td>\n",
       "      <td>CHIEN</td>\n",
       "      <td>JI DRUM</td>\n",
       "      <td>1 SERAYA AVE</td>\n",
       "      <td>...</td>\n",
       "      <td>2007-06-07</td>\n",
       "      <td>2021-02-23</td>\n",
       "      <td>53 yy:07 mm</td>\n",
       "      <td>CHINESE</td>\n",
       "      <td>MALE</td>\n",
       "      <td>0.0</td>\n",
       "      <td>2021-01-27</td>\n",
       "      <td>CHIEN</td>\n",
       "      <td>CHIEN LI</td>\n",
       "      <td>6</td>\n",
       "    </tr>\n",
       "    <tr>\n",
       "      <th>4</th>\n",
       "      <td>TL9008550</td>\n",
       "      <td>00-RE001</td>\n",
       "      <td>LOCAL</td>\n",
       "      <td>Single Mount</td>\n",
       "      <td>20</td>\n",
       "      <td>TK</td>\n",
       "      <td>EMPTY</td>\n",
       "      <td>CHIEN</td>\n",
       "      <td>JI DRUM</td>\n",
       "      <td>1 SERAYA AVE</td>\n",
       "      <td>...</td>\n",
       "      <td>2007-06-07</td>\n",
       "      <td>2021-02-23</td>\n",
       "      <td>53 yy:07 mm</td>\n",
       "      <td>CHINESE</td>\n",
       "      <td>MALE</td>\n",
       "      <td>0.0</td>\n",
       "      <td>2021-01-11</td>\n",
       "      <td>CHIEN</td>\n",
       "      <td>CHIEN LI</td>\n",
       "      <td>13</td>\n",
       "    </tr>\n",
       "    <tr>\n",
       "      <th>...</th>\n",
       "      <td>...</td>\n",
       "      <td>...</td>\n",
       "      <td>...</td>\n",
       "      <td>...</td>\n",
       "      <td>...</td>\n",
       "      <td>...</td>\n",
       "      <td>...</td>\n",
       "      <td>...</td>\n",
       "      <td>...</td>\n",
       "      <td>...</td>\n",
       "      <td>...</td>\n",
       "      <td>...</td>\n",
       "      <td>...</td>\n",
       "      <td>...</td>\n",
       "      <td>...</td>\n",
       "      <td>...</td>\n",
       "      <td>...</td>\n",
       "      <td>...</td>\n",
       "      <td>...</td>\n",
       "      <td>...</td>\n",
       "      <td>...</td>\n",
       "    </tr>\n",
       "    <tr>\n",
       "      <th>1222388</th>\n",
       "      <td>XI7007610</td>\n",
       "      <td>00-RE114</td>\n",
       "      <td>IMPORT</td>\n",
       "      <td>Single Mount</td>\n",
       "      <td>20</td>\n",
       "      <td>GP</td>\n",
       "      <td>EMPTY</td>\n",
       "      <td>XINHUA</td>\n",
       "      <td>PTC ISL (G)</td>\n",
       "      <td>CWT47JLNBUROH</td>\n",
       "      <td>...</td>\n",
       "      <td>2012-08-24</td>\n",
       "      <td>NaN</td>\n",
       "      <td>37 yy:05 mm</td>\n",
       "      <td>MALAY</td>\n",
       "      <td>MALE</td>\n",
       "      <td>1.0</td>\n",
       "      <td>2023-12-13</td>\n",
       "      <td>XINHUA</td>\n",
       "      <td>Team 1</td>\n",
       "      <td>8</td>\n",
       "    </tr>\n",
       "    <tr>\n",
       "      <th>1222389</th>\n",
       "      <td>XI7007622</td>\n",
       "      <td>00-RE114</td>\n",
       "      <td>IMPORT</td>\n",
       "      <td>Single Mount</td>\n",
       "      <td>20</td>\n",
       "      <td>GP</td>\n",
       "      <td>LOADED</td>\n",
       "      <td>XINHUA</td>\n",
       "      <td>PSA/PPT</td>\n",
       "      <td>PTC ISL (G)</td>\n",
       "      <td>...</td>\n",
       "      <td>2007-12-01</td>\n",
       "      <td>NaN</td>\n",
       "      <td>55 yy:04 mm</td>\n",
       "      <td>CHINESE</td>\n",
       "      <td>MALE</td>\n",
       "      <td>1.0</td>\n",
       "      <td>2023-12-21</td>\n",
       "      <td>XINHUA</td>\n",
       "      <td>Team 1</td>\n",
       "      <td>8</td>\n",
       "    </tr>\n",
       "    <tr>\n",
       "      <th>1222390</th>\n",
       "      <td>XI7007622</td>\n",
       "      <td>00-RE114</td>\n",
       "      <td>IMPORT</td>\n",
       "      <td>Double Mount</td>\n",
       "      <td>20</td>\n",
       "      <td>GP</td>\n",
       "      <td>EMPTY</td>\n",
       "      <td>XINHUA</td>\n",
       "      <td>PTC ISL (G)</td>\n",
       "      <td>WINGSENG</td>\n",
       "      <td>...</td>\n",
       "      <td>2017-08-14</td>\n",
       "      <td>NaN</td>\n",
       "      <td>31 yy:10 mm</td>\n",
       "      <td>MALAY</td>\n",
       "      <td>MALE</td>\n",
       "      <td>1.0</td>\n",
       "      <td>2023-12-26</td>\n",
       "      <td>XINHUA</td>\n",
       "      <td>Team 1</td>\n",
       "      <td>7</td>\n",
       "    </tr>\n",
       "    <tr>\n",
       "      <th>1222391</th>\n",
       "      <td>XI7007620</td>\n",
       "      <td>00-RE114</td>\n",
       "      <td>IMPORT</td>\n",
       "      <td>Single Mount</td>\n",
       "      <td>20</td>\n",
       "      <td>TK</td>\n",
       "      <td>LOADED</td>\n",
       "      <td>XINHUA</td>\n",
       "      <td>PSA/BT/KT</td>\n",
       "      <td>2 SERAYA P</td>\n",
       "      <td>...</td>\n",
       "      <td>2015-11-02</td>\n",
       "      <td>NaN</td>\n",
       "      <td>40 yy:09 mm</td>\n",
       "      <td>CHINESE</td>\n",
       "      <td>MALE</td>\n",
       "      <td>1.0</td>\n",
       "      <td>2023-12-15</td>\n",
       "      <td>XINHUA</td>\n",
       "      <td>Team 1</td>\n",
       "      <td>8</td>\n",
       "    </tr>\n",
       "    <tr>\n",
       "      <th>1222392</th>\n",
       "      <td>XI7007620</td>\n",
       "      <td>00-RE114</td>\n",
       "      <td>IMPORT</td>\n",
       "      <td>Single Mount</td>\n",
       "      <td>20</td>\n",
       "      <td>TK</td>\n",
       "      <td>EMPTY</td>\n",
       "      <td>XINHUA</td>\n",
       "      <td>2 SERAYA P</td>\n",
       "      <td>31 GUL CRE</td>\n",
       "      <td>...</td>\n",
       "      <td>2007-12-01</td>\n",
       "      <td>NaN</td>\n",
       "      <td>55 yy:04 mm</td>\n",
       "      <td>CHINESE</td>\n",
       "      <td>MALE</td>\n",
       "      <td>1.0</td>\n",
       "      <td>2023-12-20</td>\n",
       "      <td>XINHUA</td>\n",
       "      <td>Team 1</td>\n",
       "      <td>9</td>\n",
       "    </tr>\n",
       "  </tbody>\n",
       "</table>\n",
       "<p>1222393 rows × 29 columns</p>\n",
       "</div>"
      ],
      "text/plain": [
       "        OrderNumber    CUSTID JOBTYPE    TypeOfTrip  CNTRSIZE CNTRTYPE  \\\n",
       "0         TL9008453  00-RE001   LOCAL  Single Mount        20       TK   \n",
       "1         TL9008453  00-RE001   LOCAL  Single Mount        20       TK   \n",
       "2         TL9009105  00-RE001   LOCAL  Single Mount        20       TK   \n",
       "3         TL9009105  00-RE001   LOCAL  Single Mount        20       TK   \n",
       "4         TL9008550  00-RE001   LOCAL  Single Mount        20       TK   \n",
       "...             ...       ...     ...           ...       ...      ...   \n",
       "1222388   XI7007610  00-RE114  IMPORT  Single Mount        20       GP   \n",
       "1222389   XI7007622  00-RE114  IMPORT  Single Mount        20       GP   \n",
       "1222390   XI7007622  00-RE114  IMPORT  Double Mount        20       GP   \n",
       "1222391   XI7007620  00-RE114  IMPORT  Single Mount        20       TK   \n",
       "1222392   XI7007620  00-RE114  IMPORT  Single Mount        20       TK   \n",
       "\n",
       "        LOAD_STATUS_CONT Department   FROMLOCSTR       TOLOCSTR  ...  \\\n",
       "0                  EMPTY      CHIEN      JI DRUM   1 SERAYA AVE  ...   \n",
       "1                  EMPTY      CHIEN      JI DRUM   1 SERAYA AVE  ...   \n",
       "2                  EMPTY      CHIEN      JI DRUM   1 SERAYA AVE  ...   \n",
       "3                  EMPTY      CHIEN      JI DRUM   1 SERAYA AVE  ...   \n",
       "4                  EMPTY      CHIEN      JI DRUM   1 SERAYA AVE  ...   \n",
       "...                  ...        ...          ...            ...  ...   \n",
       "1222388            EMPTY     XINHUA  PTC ISL (G)  CWT47JLNBUROH  ...   \n",
       "1222389           LOADED     XINHUA      PSA/PPT    PTC ISL (G)  ...   \n",
       "1222390            EMPTY     XINHUA  PTC ISL (G)       WINGSENG  ...   \n",
       "1222391           LOADED     XINHUA    PSA/BT/KT     2 SERAYA P  ...   \n",
       "1222392            EMPTY     XINHUA   2 SERAYA P     31 GUL CRE  ...   \n",
       "\n",
       "        JOINED DATE RESIGNED DATE          AGE     RACE  GENDER  ACTIVE  \\\n",
       "0        2007-06-07    2021-02-23  53 yy:07 mm  CHINESE    MALE     0.0   \n",
       "1        2007-06-07    2021-02-23  53 yy:07 mm  CHINESE    MALE     0.0   \n",
       "2        2007-06-07    2021-02-23  53 yy:07 mm  CHINESE    MALE     0.0   \n",
       "3        2007-06-07    2021-02-23  53 yy:07 mm  CHINESE    MALE     0.0   \n",
       "4        2007-06-07    2021-02-23  53 yy:07 mm  CHINESE    MALE     0.0   \n",
       "...             ...           ...          ...      ...     ...     ...   \n",
       "1222388  2012-08-24           NaN  37 yy:05 mm    MALAY    MALE     1.0   \n",
       "1222389  2007-12-01           NaN  55 yy:04 mm  CHINESE    MALE     1.0   \n",
       "1222390  2017-08-14           NaN  31 yy:10 mm    MALAY    MALE     1.0   \n",
       "1222391  2015-11-02           NaN  40 yy:09 mm  CHINESE    MALE     1.0   \n",
       "1222392  2007-12-01           NaN  55 yy:04 mm  CHINESE    MALE     1.0   \n",
       "\n",
       "              Date  TOWHDDEPT      Team Status_y  \n",
       "0       2021-01-07      CHIEN  CHIEN LI       16  \n",
       "1       2021-01-07      CHIEN  CHIEN LI       16  \n",
       "2       2021-01-27      CHIEN  CHIEN LI        6  \n",
       "3       2021-01-27      CHIEN  CHIEN LI        6  \n",
       "4       2021-01-11      CHIEN  CHIEN LI       13  \n",
       "...            ...        ...       ...      ...  \n",
       "1222388 2023-12-13     XINHUA    Team 1        8  \n",
       "1222389 2023-12-21     XINHUA    Team 1        8  \n",
       "1222390 2023-12-26     XINHUA    Team 1        7  \n",
       "1222391 2023-12-15     XINHUA    Team 1        8  \n",
       "1222392 2023-12-20     XINHUA    Team 1        9  \n",
       "\n",
       "[1222393 rows x 29 columns]"
      ]
     },
     "execution_count": 27,
     "metadata": {},
     "output_type": "execute_result"
    }
   ],
   "source": [
    "merged_total = merged_total.drop(['key_0', 'key_1', 'PrimeMoverId_y', 'Status_x'], axis=1)\n",
    "\n",
    "merged_total.head(-10)"
   ]
  },
  {
   "cell_type": "markdown",
   "metadata": {},
   "source": [
    "# Cleaning Merged Sheet"
   ]
  },
  {
   "cell_type": "markdown",
   "metadata": {},
   "source": [
    "## Drop rows where FROM and TO locations are identical"
   ]
  },
  {
   "cell_type": "code",
   "execution_count": 28,
   "metadata": {
    "execution": {
     "iopub.execute_input": "2024-04-16T08:08:18.135903Z",
     "iopub.status.busy": "2024-04-16T08:08:18.134576Z",
     "iopub.status.idle": "2024-04-16T08:08:19.570332Z",
     "shell.execute_reply": "2024-04-16T08:08:19.570332Z"
    }
   },
   "outputs": [
    {
     "data": {
      "text/html": [
       "<div>\n",
       "<style scoped>\n",
       "    .dataframe tbody tr th:only-of-type {\n",
       "        vertical-align: middle;\n",
       "    }\n",
       "\n",
       "    .dataframe tbody tr th {\n",
       "        vertical-align: top;\n",
       "    }\n",
       "\n",
       "    .dataframe thead th {\n",
       "        text-align: right;\n",
       "    }\n",
       "</style>\n",
       "<table border=\"1\" class=\"dataframe\">\n",
       "  <thead>\n",
       "    <tr style=\"text-align: right;\">\n",
       "      <th></th>\n",
       "      <th>OrderNumber</th>\n",
       "      <th>CUSTID</th>\n",
       "      <th>JOBTYPE</th>\n",
       "      <th>TypeOfTrip</th>\n",
       "      <th>CNTRSIZE</th>\n",
       "      <th>CNTRTYPE</th>\n",
       "      <th>LOAD_STATUS_CONT</th>\n",
       "      <th>Department</th>\n",
       "      <th>FROMLOCSTR</th>\n",
       "      <th>TOLOCSTR</th>\n",
       "      <th>...</th>\n",
       "      <th>JOINED DATE</th>\n",
       "      <th>RESIGNED DATE</th>\n",
       "      <th>AGE</th>\n",
       "      <th>RACE</th>\n",
       "      <th>GENDER</th>\n",
       "      <th>ACTIVE</th>\n",
       "      <th>Date</th>\n",
       "      <th>TOWHDDEPT</th>\n",
       "      <th>Team</th>\n",
       "      <th>Status_y</th>\n",
       "    </tr>\n",
       "  </thead>\n",
       "  <tbody>\n",
       "    <tr>\n",
       "      <th>0</th>\n",
       "      <td>TL9008453</td>\n",
       "      <td>00-RE001</td>\n",
       "      <td>LOCAL</td>\n",
       "      <td>Single Mount</td>\n",
       "      <td>20</td>\n",
       "      <td>TK</td>\n",
       "      <td>EMPTY</td>\n",
       "      <td>CHIEN</td>\n",
       "      <td>JI DRUM</td>\n",
       "      <td>1 SERAYA AVE</td>\n",
       "      <td>...</td>\n",
       "      <td>2007-06-07</td>\n",
       "      <td>2021-02-23</td>\n",
       "      <td>53 yy:07 mm</td>\n",
       "      <td>CHINESE</td>\n",
       "      <td>MALE</td>\n",
       "      <td>0.0</td>\n",
       "      <td>2021-01-07</td>\n",
       "      <td>CHIEN</td>\n",
       "      <td>CHIEN LI</td>\n",
       "      <td>16</td>\n",
       "    </tr>\n",
       "    <tr>\n",
       "      <th>1</th>\n",
       "      <td>TL9008453</td>\n",
       "      <td>00-RE001</td>\n",
       "      <td>LOCAL</td>\n",
       "      <td>Single Mount</td>\n",
       "      <td>20</td>\n",
       "      <td>TK</td>\n",
       "      <td>EMPTY</td>\n",
       "      <td>CHIEN</td>\n",
       "      <td>JI DRUM</td>\n",
       "      <td>1 SERAYA AVE</td>\n",
       "      <td>...</td>\n",
       "      <td>2007-06-07</td>\n",
       "      <td>2021-02-23</td>\n",
       "      <td>53 yy:07 mm</td>\n",
       "      <td>CHINESE</td>\n",
       "      <td>MALE</td>\n",
       "      <td>0.0</td>\n",
       "      <td>2021-01-07</td>\n",
       "      <td>CHIEN</td>\n",
       "      <td>CHIEN LI</td>\n",
       "      <td>16</td>\n",
       "    </tr>\n",
       "    <tr>\n",
       "      <th>2</th>\n",
       "      <td>TL9009105</td>\n",
       "      <td>00-RE001</td>\n",
       "      <td>LOCAL</td>\n",
       "      <td>Single Mount</td>\n",
       "      <td>20</td>\n",
       "      <td>TK</td>\n",
       "      <td>EMPTY</td>\n",
       "      <td>CHIEN</td>\n",
       "      <td>JI DRUM</td>\n",
       "      <td>1 SERAYA AVE</td>\n",
       "      <td>...</td>\n",
       "      <td>2007-06-07</td>\n",
       "      <td>2021-02-23</td>\n",
       "      <td>53 yy:07 mm</td>\n",
       "      <td>CHINESE</td>\n",
       "      <td>MALE</td>\n",
       "      <td>0.0</td>\n",
       "      <td>2021-01-27</td>\n",
       "      <td>CHIEN</td>\n",
       "      <td>CHIEN LI</td>\n",
       "      <td>6</td>\n",
       "    </tr>\n",
       "    <tr>\n",
       "      <th>3</th>\n",
       "      <td>TL9009105</td>\n",
       "      <td>00-RE001</td>\n",
       "      <td>LOCAL</td>\n",
       "      <td>Single Mount</td>\n",
       "      <td>20</td>\n",
       "      <td>TK</td>\n",
       "      <td>EMPTY</td>\n",
       "      <td>CHIEN</td>\n",
       "      <td>JI DRUM</td>\n",
       "      <td>1 SERAYA AVE</td>\n",
       "      <td>...</td>\n",
       "      <td>2007-06-07</td>\n",
       "      <td>2021-02-23</td>\n",
       "      <td>53 yy:07 mm</td>\n",
       "      <td>CHINESE</td>\n",
       "      <td>MALE</td>\n",
       "      <td>0.0</td>\n",
       "      <td>2021-01-27</td>\n",
       "      <td>CHIEN</td>\n",
       "      <td>CHIEN LI</td>\n",
       "      <td>6</td>\n",
       "    </tr>\n",
       "    <tr>\n",
       "      <th>4</th>\n",
       "      <td>TL9008550</td>\n",
       "      <td>00-RE001</td>\n",
       "      <td>LOCAL</td>\n",
       "      <td>Single Mount</td>\n",
       "      <td>20</td>\n",
       "      <td>TK</td>\n",
       "      <td>EMPTY</td>\n",
       "      <td>CHIEN</td>\n",
       "      <td>JI DRUM</td>\n",
       "      <td>1 SERAYA AVE</td>\n",
       "      <td>...</td>\n",
       "      <td>2007-06-07</td>\n",
       "      <td>2021-02-23</td>\n",
       "      <td>53 yy:07 mm</td>\n",
       "      <td>CHINESE</td>\n",
       "      <td>MALE</td>\n",
       "      <td>0.0</td>\n",
       "      <td>2021-01-11</td>\n",
       "      <td>CHIEN</td>\n",
       "      <td>CHIEN LI</td>\n",
       "      <td>13</td>\n",
       "    </tr>\n",
       "    <tr>\n",
       "      <th>...</th>\n",
       "      <td>...</td>\n",
       "      <td>...</td>\n",
       "      <td>...</td>\n",
       "      <td>...</td>\n",
       "      <td>...</td>\n",
       "      <td>...</td>\n",
       "      <td>...</td>\n",
       "      <td>...</td>\n",
       "      <td>...</td>\n",
       "      <td>...</td>\n",
       "      <td>...</td>\n",
       "      <td>...</td>\n",
       "      <td>...</td>\n",
       "      <td>...</td>\n",
       "      <td>...</td>\n",
       "      <td>...</td>\n",
       "      <td>...</td>\n",
       "      <td>...</td>\n",
       "      <td>...</td>\n",
       "      <td>...</td>\n",
       "      <td>...</td>\n",
       "    </tr>\n",
       "    <tr>\n",
       "      <th>1222388</th>\n",
       "      <td>XI7007610</td>\n",
       "      <td>00-RE114</td>\n",
       "      <td>IMPORT</td>\n",
       "      <td>Single Mount</td>\n",
       "      <td>20</td>\n",
       "      <td>GP</td>\n",
       "      <td>EMPTY</td>\n",
       "      <td>XINHUA</td>\n",
       "      <td>PTC ISL (G)</td>\n",
       "      <td>CWT47JLNBUROH</td>\n",
       "      <td>...</td>\n",
       "      <td>2012-08-24</td>\n",
       "      <td>NaN</td>\n",
       "      <td>37 yy:05 mm</td>\n",
       "      <td>MALAY</td>\n",
       "      <td>MALE</td>\n",
       "      <td>1.0</td>\n",
       "      <td>2023-12-13</td>\n",
       "      <td>XINHUA</td>\n",
       "      <td>Team 1</td>\n",
       "      <td>8</td>\n",
       "    </tr>\n",
       "    <tr>\n",
       "      <th>1222389</th>\n",
       "      <td>XI7007622</td>\n",
       "      <td>00-RE114</td>\n",
       "      <td>IMPORT</td>\n",
       "      <td>Single Mount</td>\n",
       "      <td>20</td>\n",
       "      <td>GP</td>\n",
       "      <td>LOADED</td>\n",
       "      <td>XINHUA</td>\n",
       "      <td>PSA/PPT</td>\n",
       "      <td>PTC ISL (G)</td>\n",
       "      <td>...</td>\n",
       "      <td>2007-12-01</td>\n",
       "      <td>NaN</td>\n",
       "      <td>55 yy:04 mm</td>\n",
       "      <td>CHINESE</td>\n",
       "      <td>MALE</td>\n",
       "      <td>1.0</td>\n",
       "      <td>2023-12-21</td>\n",
       "      <td>XINHUA</td>\n",
       "      <td>Team 1</td>\n",
       "      <td>8</td>\n",
       "    </tr>\n",
       "    <tr>\n",
       "      <th>1222390</th>\n",
       "      <td>XI7007622</td>\n",
       "      <td>00-RE114</td>\n",
       "      <td>IMPORT</td>\n",
       "      <td>Double Mount</td>\n",
       "      <td>20</td>\n",
       "      <td>GP</td>\n",
       "      <td>EMPTY</td>\n",
       "      <td>XINHUA</td>\n",
       "      <td>PTC ISL (G)</td>\n",
       "      <td>WINGSENG</td>\n",
       "      <td>...</td>\n",
       "      <td>2017-08-14</td>\n",
       "      <td>NaN</td>\n",
       "      <td>31 yy:10 mm</td>\n",
       "      <td>MALAY</td>\n",
       "      <td>MALE</td>\n",
       "      <td>1.0</td>\n",
       "      <td>2023-12-26</td>\n",
       "      <td>XINHUA</td>\n",
       "      <td>Team 1</td>\n",
       "      <td>7</td>\n",
       "    </tr>\n",
       "    <tr>\n",
       "      <th>1222391</th>\n",
       "      <td>XI7007620</td>\n",
       "      <td>00-RE114</td>\n",
       "      <td>IMPORT</td>\n",
       "      <td>Single Mount</td>\n",
       "      <td>20</td>\n",
       "      <td>TK</td>\n",
       "      <td>LOADED</td>\n",
       "      <td>XINHUA</td>\n",
       "      <td>PSA/BT/KT</td>\n",
       "      <td>2 SERAYA P</td>\n",
       "      <td>...</td>\n",
       "      <td>2015-11-02</td>\n",
       "      <td>NaN</td>\n",
       "      <td>40 yy:09 mm</td>\n",
       "      <td>CHINESE</td>\n",
       "      <td>MALE</td>\n",
       "      <td>1.0</td>\n",
       "      <td>2023-12-15</td>\n",
       "      <td>XINHUA</td>\n",
       "      <td>Team 1</td>\n",
       "      <td>8</td>\n",
       "    </tr>\n",
       "    <tr>\n",
       "      <th>1222392</th>\n",
       "      <td>XI7007620</td>\n",
       "      <td>00-RE114</td>\n",
       "      <td>IMPORT</td>\n",
       "      <td>Single Mount</td>\n",
       "      <td>20</td>\n",
       "      <td>TK</td>\n",
       "      <td>EMPTY</td>\n",
       "      <td>XINHUA</td>\n",
       "      <td>2 SERAYA P</td>\n",
       "      <td>31 GUL CRE</td>\n",
       "      <td>...</td>\n",
       "      <td>2007-12-01</td>\n",
       "      <td>NaN</td>\n",
       "      <td>55 yy:04 mm</td>\n",
       "      <td>CHINESE</td>\n",
       "      <td>MALE</td>\n",
       "      <td>1.0</td>\n",
       "      <td>2023-12-20</td>\n",
       "      <td>XINHUA</td>\n",
       "      <td>Team 1</td>\n",
       "      <td>9</td>\n",
       "    </tr>\n",
       "  </tbody>\n",
       "</table>\n",
       "<p>1222322 rows × 29 columns</p>\n",
       "</div>"
      ],
      "text/plain": [
       "        OrderNumber    CUSTID JOBTYPE    TypeOfTrip  CNTRSIZE CNTRTYPE  \\\n",
       "0         TL9008453  00-RE001   LOCAL  Single Mount        20       TK   \n",
       "1         TL9008453  00-RE001   LOCAL  Single Mount        20       TK   \n",
       "2         TL9009105  00-RE001   LOCAL  Single Mount        20       TK   \n",
       "3         TL9009105  00-RE001   LOCAL  Single Mount        20       TK   \n",
       "4         TL9008550  00-RE001   LOCAL  Single Mount        20       TK   \n",
       "...             ...       ...     ...           ...       ...      ...   \n",
       "1222388   XI7007610  00-RE114  IMPORT  Single Mount        20       GP   \n",
       "1222389   XI7007622  00-RE114  IMPORT  Single Mount        20       GP   \n",
       "1222390   XI7007622  00-RE114  IMPORT  Double Mount        20       GP   \n",
       "1222391   XI7007620  00-RE114  IMPORT  Single Mount        20       TK   \n",
       "1222392   XI7007620  00-RE114  IMPORT  Single Mount        20       TK   \n",
       "\n",
       "        LOAD_STATUS_CONT Department   FROMLOCSTR       TOLOCSTR  ...  \\\n",
       "0                  EMPTY      CHIEN      JI DRUM   1 SERAYA AVE  ...   \n",
       "1                  EMPTY      CHIEN      JI DRUM   1 SERAYA AVE  ...   \n",
       "2                  EMPTY      CHIEN      JI DRUM   1 SERAYA AVE  ...   \n",
       "3                  EMPTY      CHIEN      JI DRUM   1 SERAYA AVE  ...   \n",
       "4                  EMPTY      CHIEN      JI DRUM   1 SERAYA AVE  ...   \n",
       "...                  ...        ...          ...            ...  ...   \n",
       "1222388            EMPTY     XINHUA  PTC ISL (G)  CWT47JLNBUROH  ...   \n",
       "1222389           LOADED     XINHUA      PSA/PPT    PTC ISL (G)  ...   \n",
       "1222390            EMPTY     XINHUA  PTC ISL (G)       WINGSENG  ...   \n",
       "1222391           LOADED     XINHUA    PSA/BT/KT     2 SERAYA P  ...   \n",
       "1222392            EMPTY     XINHUA   2 SERAYA P     31 GUL CRE  ...   \n",
       "\n",
       "        JOINED DATE RESIGNED DATE          AGE     RACE  GENDER  ACTIVE  \\\n",
       "0        2007-06-07    2021-02-23  53 yy:07 mm  CHINESE    MALE     0.0   \n",
       "1        2007-06-07    2021-02-23  53 yy:07 mm  CHINESE    MALE     0.0   \n",
       "2        2007-06-07    2021-02-23  53 yy:07 mm  CHINESE    MALE     0.0   \n",
       "3        2007-06-07    2021-02-23  53 yy:07 mm  CHINESE    MALE     0.0   \n",
       "4        2007-06-07    2021-02-23  53 yy:07 mm  CHINESE    MALE     0.0   \n",
       "...             ...           ...          ...      ...     ...     ...   \n",
       "1222388  2012-08-24           NaN  37 yy:05 mm    MALAY    MALE     1.0   \n",
       "1222389  2007-12-01           NaN  55 yy:04 mm  CHINESE    MALE     1.0   \n",
       "1222390  2017-08-14           NaN  31 yy:10 mm    MALAY    MALE     1.0   \n",
       "1222391  2015-11-02           NaN  40 yy:09 mm  CHINESE    MALE     1.0   \n",
       "1222392  2007-12-01           NaN  55 yy:04 mm  CHINESE    MALE     1.0   \n",
       "\n",
       "              Date  TOWHDDEPT      Team Status_y  \n",
       "0       2021-01-07      CHIEN  CHIEN LI       16  \n",
       "1       2021-01-07      CHIEN  CHIEN LI       16  \n",
       "2       2021-01-27      CHIEN  CHIEN LI        6  \n",
       "3       2021-01-27      CHIEN  CHIEN LI        6  \n",
       "4       2021-01-11      CHIEN  CHIEN LI       13  \n",
       "...            ...        ...       ...      ...  \n",
       "1222388 2023-12-13     XINHUA    Team 1        8  \n",
       "1222389 2023-12-21     XINHUA    Team 1        8  \n",
       "1222390 2023-12-26     XINHUA    Team 1        7  \n",
       "1222391 2023-12-15     XINHUA    Team 1        8  \n",
       "1222392 2023-12-20     XINHUA    Team 1        9  \n",
       "\n",
       "[1222322 rows x 29 columns]"
      ]
     },
     "execution_count": 28,
     "metadata": {},
     "output_type": "execute_result"
    }
   ],
   "source": [
    "# boolean indexing to drop rows where 'FROMLOCSTR' is equal to 'TOLOCSTR'\n",
    "merged_total = merged_total[merged_total['FROMLOCSTR'] != merged_total['TOLOCSTR']]\n",
    "\n",
    "merged_total.head(-10)"
   ]
  },
  {
   "cell_type": "markdown",
   "metadata": {},
   "source": [
    "## Removed Nontrucking Entries"
   ]
  },
  {
   "cell_type": "code",
   "execution_count": 29,
   "metadata": {
    "execution": {
     "iopub.execute_input": "2024-04-16T08:08:19.574320Z",
     "iopub.status.busy": "2024-04-16T08:08:19.574320Z",
     "iopub.status.idle": "2024-04-16T08:08:21.073211Z",
     "shell.execute_reply": "2024-04-16T08:08:21.073211Z"
    }
   },
   "outputs": [
    {
     "data": {
      "text/html": [
       "<div>\n",
       "<style scoped>\n",
       "    .dataframe tbody tr th:only-of-type {\n",
       "        vertical-align: middle;\n",
       "    }\n",
       "\n",
       "    .dataframe tbody tr th {\n",
       "        vertical-align: top;\n",
       "    }\n",
       "\n",
       "    .dataframe thead th {\n",
       "        text-align: right;\n",
       "    }\n",
       "</style>\n",
       "<table border=\"1\" class=\"dataframe\">\n",
       "  <thead>\n",
       "    <tr style=\"text-align: right;\">\n",
       "      <th></th>\n",
       "      <th>OrderNumber</th>\n",
       "      <th>CUSTID</th>\n",
       "      <th>JOBTYPE</th>\n",
       "      <th>TypeOfTrip</th>\n",
       "      <th>CNTRSIZE</th>\n",
       "      <th>CNTRTYPE</th>\n",
       "      <th>LOAD_STATUS_CONT</th>\n",
       "      <th>Department</th>\n",
       "      <th>FROMLOCSTR</th>\n",
       "      <th>TOLOCSTR</th>\n",
       "      <th>...</th>\n",
       "      <th>JOINED DATE</th>\n",
       "      <th>RESIGNED DATE</th>\n",
       "      <th>AGE</th>\n",
       "      <th>RACE</th>\n",
       "      <th>GENDER</th>\n",
       "      <th>ACTIVE</th>\n",
       "      <th>Date</th>\n",
       "      <th>TOWHDDEPT</th>\n",
       "      <th>Team</th>\n",
       "      <th>Status_y</th>\n",
       "    </tr>\n",
       "  </thead>\n",
       "  <tbody>\n",
       "    <tr>\n",
       "      <th>0</th>\n",
       "      <td>TL9008453</td>\n",
       "      <td>00-RE001</td>\n",
       "      <td>LOCAL</td>\n",
       "      <td>Single Mount</td>\n",
       "      <td>20</td>\n",
       "      <td>TK</td>\n",
       "      <td>EMPTY</td>\n",
       "      <td>CHIEN</td>\n",
       "      <td>JI DRUM</td>\n",
       "      <td>1 SERAYA AVE</td>\n",
       "      <td>...</td>\n",
       "      <td>2007-06-07</td>\n",
       "      <td>2021-02-23</td>\n",
       "      <td>53 yy:07 mm</td>\n",
       "      <td>CHINESE</td>\n",
       "      <td>MALE</td>\n",
       "      <td>0.0</td>\n",
       "      <td>2021-01-07</td>\n",
       "      <td>CHIEN</td>\n",
       "      <td>CHIEN LI</td>\n",
       "      <td>16</td>\n",
       "    </tr>\n",
       "    <tr>\n",
       "      <th>1</th>\n",
       "      <td>TL9008453</td>\n",
       "      <td>00-RE001</td>\n",
       "      <td>LOCAL</td>\n",
       "      <td>Single Mount</td>\n",
       "      <td>20</td>\n",
       "      <td>TK</td>\n",
       "      <td>EMPTY</td>\n",
       "      <td>CHIEN</td>\n",
       "      <td>JI DRUM</td>\n",
       "      <td>1 SERAYA AVE</td>\n",
       "      <td>...</td>\n",
       "      <td>2007-06-07</td>\n",
       "      <td>2021-02-23</td>\n",
       "      <td>53 yy:07 mm</td>\n",
       "      <td>CHINESE</td>\n",
       "      <td>MALE</td>\n",
       "      <td>0.0</td>\n",
       "      <td>2021-01-07</td>\n",
       "      <td>CHIEN</td>\n",
       "      <td>CHIEN LI</td>\n",
       "      <td>16</td>\n",
       "    </tr>\n",
       "    <tr>\n",
       "      <th>2</th>\n",
       "      <td>TL9009105</td>\n",
       "      <td>00-RE001</td>\n",
       "      <td>LOCAL</td>\n",
       "      <td>Single Mount</td>\n",
       "      <td>20</td>\n",
       "      <td>TK</td>\n",
       "      <td>EMPTY</td>\n",
       "      <td>CHIEN</td>\n",
       "      <td>JI DRUM</td>\n",
       "      <td>1 SERAYA AVE</td>\n",
       "      <td>...</td>\n",
       "      <td>2007-06-07</td>\n",
       "      <td>2021-02-23</td>\n",
       "      <td>53 yy:07 mm</td>\n",
       "      <td>CHINESE</td>\n",
       "      <td>MALE</td>\n",
       "      <td>0.0</td>\n",
       "      <td>2021-01-27</td>\n",
       "      <td>CHIEN</td>\n",
       "      <td>CHIEN LI</td>\n",
       "      <td>6</td>\n",
       "    </tr>\n",
       "    <tr>\n",
       "      <th>3</th>\n",
       "      <td>TL9009105</td>\n",
       "      <td>00-RE001</td>\n",
       "      <td>LOCAL</td>\n",
       "      <td>Single Mount</td>\n",
       "      <td>20</td>\n",
       "      <td>TK</td>\n",
       "      <td>EMPTY</td>\n",
       "      <td>CHIEN</td>\n",
       "      <td>JI DRUM</td>\n",
       "      <td>1 SERAYA AVE</td>\n",
       "      <td>...</td>\n",
       "      <td>2007-06-07</td>\n",
       "      <td>2021-02-23</td>\n",
       "      <td>53 yy:07 mm</td>\n",
       "      <td>CHINESE</td>\n",
       "      <td>MALE</td>\n",
       "      <td>0.0</td>\n",
       "      <td>2021-01-27</td>\n",
       "      <td>CHIEN</td>\n",
       "      <td>CHIEN LI</td>\n",
       "      <td>6</td>\n",
       "    </tr>\n",
       "    <tr>\n",
       "      <th>4</th>\n",
       "      <td>TL9008550</td>\n",
       "      <td>00-RE001</td>\n",
       "      <td>LOCAL</td>\n",
       "      <td>Single Mount</td>\n",
       "      <td>20</td>\n",
       "      <td>TK</td>\n",
       "      <td>EMPTY</td>\n",
       "      <td>CHIEN</td>\n",
       "      <td>JI DRUM</td>\n",
       "      <td>1 SERAYA AVE</td>\n",
       "      <td>...</td>\n",
       "      <td>2007-06-07</td>\n",
       "      <td>2021-02-23</td>\n",
       "      <td>53 yy:07 mm</td>\n",
       "      <td>CHINESE</td>\n",
       "      <td>MALE</td>\n",
       "      <td>0.0</td>\n",
       "      <td>2021-01-11</td>\n",
       "      <td>CHIEN</td>\n",
       "      <td>CHIEN LI</td>\n",
       "      <td>13</td>\n",
       "    </tr>\n",
       "    <tr>\n",
       "      <th>...</th>\n",
       "      <td>...</td>\n",
       "      <td>...</td>\n",
       "      <td>...</td>\n",
       "      <td>...</td>\n",
       "      <td>...</td>\n",
       "      <td>...</td>\n",
       "      <td>...</td>\n",
       "      <td>...</td>\n",
       "      <td>...</td>\n",
       "      <td>...</td>\n",
       "      <td>...</td>\n",
       "      <td>...</td>\n",
       "      <td>...</td>\n",
       "      <td>...</td>\n",
       "      <td>...</td>\n",
       "      <td>...</td>\n",
       "      <td>...</td>\n",
       "      <td>...</td>\n",
       "      <td>...</td>\n",
       "      <td>...</td>\n",
       "      <td>...</td>\n",
       "    </tr>\n",
       "    <tr>\n",
       "      <th>1222388</th>\n",
       "      <td>XI7007610</td>\n",
       "      <td>00-RE114</td>\n",
       "      <td>IMPORT</td>\n",
       "      <td>Single Mount</td>\n",
       "      <td>20</td>\n",
       "      <td>GP</td>\n",
       "      <td>EMPTY</td>\n",
       "      <td>XINHUA</td>\n",
       "      <td>PTC ISL (G)</td>\n",
       "      <td>CWT47JLNBUROH</td>\n",
       "      <td>...</td>\n",
       "      <td>2012-08-24</td>\n",
       "      <td>NaN</td>\n",
       "      <td>37 yy:05 mm</td>\n",
       "      <td>MALAY</td>\n",
       "      <td>MALE</td>\n",
       "      <td>1.0</td>\n",
       "      <td>2023-12-13</td>\n",
       "      <td>XINHUA</td>\n",
       "      <td>Team 1</td>\n",
       "      <td>8</td>\n",
       "    </tr>\n",
       "    <tr>\n",
       "      <th>1222389</th>\n",
       "      <td>XI7007622</td>\n",
       "      <td>00-RE114</td>\n",
       "      <td>IMPORT</td>\n",
       "      <td>Single Mount</td>\n",
       "      <td>20</td>\n",
       "      <td>GP</td>\n",
       "      <td>LOADED</td>\n",
       "      <td>XINHUA</td>\n",
       "      <td>PSA/PPT</td>\n",
       "      <td>PTC ISL (G)</td>\n",
       "      <td>...</td>\n",
       "      <td>2007-12-01</td>\n",
       "      <td>NaN</td>\n",
       "      <td>55 yy:04 mm</td>\n",
       "      <td>CHINESE</td>\n",
       "      <td>MALE</td>\n",
       "      <td>1.0</td>\n",
       "      <td>2023-12-21</td>\n",
       "      <td>XINHUA</td>\n",
       "      <td>Team 1</td>\n",
       "      <td>8</td>\n",
       "    </tr>\n",
       "    <tr>\n",
       "      <th>1222390</th>\n",
       "      <td>XI7007622</td>\n",
       "      <td>00-RE114</td>\n",
       "      <td>IMPORT</td>\n",
       "      <td>Double Mount</td>\n",
       "      <td>20</td>\n",
       "      <td>GP</td>\n",
       "      <td>EMPTY</td>\n",
       "      <td>XINHUA</td>\n",
       "      <td>PTC ISL (G)</td>\n",
       "      <td>WINGSENG</td>\n",
       "      <td>...</td>\n",
       "      <td>2017-08-14</td>\n",
       "      <td>NaN</td>\n",
       "      <td>31 yy:10 mm</td>\n",
       "      <td>MALAY</td>\n",
       "      <td>MALE</td>\n",
       "      <td>1.0</td>\n",
       "      <td>2023-12-26</td>\n",
       "      <td>XINHUA</td>\n",
       "      <td>Team 1</td>\n",
       "      <td>7</td>\n",
       "    </tr>\n",
       "    <tr>\n",
       "      <th>1222391</th>\n",
       "      <td>XI7007620</td>\n",
       "      <td>00-RE114</td>\n",
       "      <td>IMPORT</td>\n",
       "      <td>Single Mount</td>\n",
       "      <td>20</td>\n",
       "      <td>TK</td>\n",
       "      <td>LOADED</td>\n",
       "      <td>XINHUA</td>\n",
       "      <td>PSA/BT/KT</td>\n",
       "      <td>2 SERAYA P</td>\n",
       "      <td>...</td>\n",
       "      <td>2015-11-02</td>\n",
       "      <td>NaN</td>\n",
       "      <td>40 yy:09 mm</td>\n",
       "      <td>CHINESE</td>\n",
       "      <td>MALE</td>\n",
       "      <td>1.0</td>\n",
       "      <td>2023-12-15</td>\n",
       "      <td>XINHUA</td>\n",
       "      <td>Team 1</td>\n",
       "      <td>8</td>\n",
       "    </tr>\n",
       "    <tr>\n",
       "      <th>1222392</th>\n",
       "      <td>XI7007620</td>\n",
       "      <td>00-RE114</td>\n",
       "      <td>IMPORT</td>\n",
       "      <td>Single Mount</td>\n",
       "      <td>20</td>\n",
       "      <td>TK</td>\n",
       "      <td>EMPTY</td>\n",
       "      <td>XINHUA</td>\n",
       "      <td>2 SERAYA P</td>\n",
       "      <td>31 GUL CRE</td>\n",
       "      <td>...</td>\n",
       "      <td>2007-12-01</td>\n",
       "      <td>NaN</td>\n",
       "      <td>55 yy:04 mm</td>\n",
       "      <td>CHINESE</td>\n",
       "      <td>MALE</td>\n",
       "      <td>1.0</td>\n",
       "      <td>2023-12-20</td>\n",
       "      <td>XINHUA</td>\n",
       "      <td>Team 1</td>\n",
       "      <td>9</td>\n",
       "    </tr>\n",
       "  </tbody>\n",
       "</table>\n",
       "<p>1222322 rows × 29 columns</p>\n",
       "</div>"
      ],
      "text/plain": [
       "        OrderNumber    CUSTID JOBTYPE    TypeOfTrip  CNTRSIZE CNTRTYPE  \\\n",
       "0         TL9008453  00-RE001   LOCAL  Single Mount        20       TK   \n",
       "1         TL9008453  00-RE001   LOCAL  Single Mount        20       TK   \n",
       "2         TL9009105  00-RE001   LOCAL  Single Mount        20       TK   \n",
       "3         TL9009105  00-RE001   LOCAL  Single Mount        20       TK   \n",
       "4         TL9008550  00-RE001   LOCAL  Single Mount        20       TK   \n",
       "...             ...       ...     ...           ...       ...      ...   \n",
       "1222388   XI7007610  00-RE114  IMPORT  Single Mount        20       GP   \n",
       "1222389   XI7007622  00-RE114  IMPORT  Single Mount        20       GP   \n",
       "1222390   XI7007622  00-RE114  IMPORT  Double Mount        20       GP   \n",
       "1222391   XI7007620  00-RE114  IMPORT  Single Mount        20       TK   \n",
       "1222392   XI7007620  00-RE114  IMPORT  Single Mount        20       TK   \n",
       "\n",
       "        LOAD_STATUS_CONT Department   FROMLOCSTR       TOLOCSTR  ...  \\\n",
       "0                  EMPTY      CHIEN      JI DRUM   1 SERAYA AVE  ...   \n",
       "1                  EMPTY      CHIEN      JI DRUM   1 SERAYA AVE  ...   \n",
       "2                  EMPTY      CHIEN      JI DRUM   1 SERAYA AVE  ...   \n",
       "3                  EMPTY      CHIEN      JI DRUM   1 SERAYA AVE  ...   \n",
       "4                  EMPTY      CHIEN      JI DRUM   1 SERAYA AVE  ...   \n",
       "...                  ...        ...          ...            ...  ...   \n",
       "1222388            EMPTY     XINHUA  PTC ISL (G)  CWT47JLNBUROH  ...   \n",
       "1222389           LOADED     XINHUA      PSA/PPT    PTC ISL (G)  ...   \n",
       "1222390            EMPTY     XINHUA  PTC ISL (G)       WINGSENG  ...   \n",
       "1222391           LOADED     XINHUA    PSA/BT/KT     2 SERAYA P  ...   \n",
       "1222392            EMPTY     XINHUA   2 SERAYA P     31 GUL CRE  ...   \n",
       "\n",
       "        JOINED DATE RESIGNED DATE          AGE     RACE  GENDER  ACTIVE  \\\n",
       "0        2007-06-07    2021-02-23  53 yy:07 mm  CHINESE    MALE     0.0   \n",
       "1        2007-06-07    2021-02-23  53 yy:07 mm  CHINESE    MALE     0.0   \n",
       "2        2007-06-07    2021-02-23  53 yy:07 mm  CHINESE    MALE     0.0   \n",
       "3        2007-06-07    2021-02-23  53 yy:07 mm  CHINESE    MALE     0.0   \n",
       "4        2007-06-07    2021-02-23  53 yy:07 mm  CHINESE    MALE     0.0   \n",
       "...             ...           ...          ...      ...     ...     ...   \n",
       "1222388  2012-08-24           NaN  37 yy:05 mm    MALAY    MALE     1.0   \n",
       "1222389  2007-12-01           NaN  55 yy:04 mm  CHINESE    MALE     1.0   \n",
       "1222390  2017-08-14           NaN  31 yy:10 mm    MALAY    MALE     1.0   \n",
       "1222391  2015-11-02           NaN  40 yy:09 mm  CHINESE    MALE     1.0   \n",
       "1222392  2007-12-01           NaN  55 yy:04 mm  CHINESE    MALE     1.0   \n",
       "\n",
       "              Date  TOWHDDEPT      Team Status_y  \n",
       "0       2021-01-07      CHIEN  CHIEN LI       16  \n",
       "1       2021-01-07      CHIEN  CHIEN LI       16  \n",
       "2       2021-01-27      CHIEN  CHIEN LI        6  \n",
       "3       2021-01-27      CHIEN  CHIEN LI        6  \n",
       "4       2021-01-11      CHIEN  CHIEN LI       13  \n",
       "...            ...        ...       ...      ...  \n",
       "1222388 2023-12-13     XINHUA    Team 1        8  \n",
       "1222389 2023-12-21     XINHUA    Team 1        8  \n",
       "1222390 2023-12-26     XINHUA    Team 1        7  \n",
       "1222391 2023-12-15     XINHUA    Team 1        8  \n",
       "1222392 2023-12-20     XINHUA    Team 1        9  \n",
       "\n",
       "[1222322 rows x 29 columns]"
      ]
     },
     "execution_count": 29,
     "metadata": {},
     "output_type": "execute_result"
    }
   ],
   "source": [
    "merged_total= merged_total[merged_total['JOBTYPE'] != 'NONTRUCKING']\n",
    "\n",
    "merged_total.head(-10)"
   ]
  },
  {
   "cell_type": "markdown",
   "metadata": {},
   "source": [
    "## Status Type Conversion to Integer"
   ]
  },
  {
   "cell_type": "code",
   "execution_count": 30,
   "metadata": {
    "execution": {
     "iopub.execute_input": "2024-04-16T08:08:21.076208Z",
     "iopub.status.busy": "2024-04-16T08:08:21.076208Z",
     "iopub.status.idle": "2024-04-16T08:08:22.673691Z",
     "shell.execute_reply": "2024-04-16T08:08:22.673691Z"
    }
   },
   "outputs": [
    {
     "data": {
      "text/html": [
       "<div>\n",
       "<style scoped>\n",
       "    .dataframe tbody tr th:only-of-type {\n",
       "        vertical-align: middle;\n",
       "    }\n",
       "\n",
       "    .dataframe tbody tr th {\n",
       "        vertical-align: top;\n",
       "    }\n",
       "\n",
       "    .dataframe thead th {\n",
       "        text-align: right;\n",
       "    }\n",
       "</style>\n",
       "<table border=\"1\" class=\"dataframe\">\n",
       "  <thead>\n",
       "    <tr style=\"text-align: right;\">\n",
       "      <th></th>\n",
       "      <th>OrderNumber</th>\n",
       "      <th>CUSTID</th>\n",
       "      <th>JOBTYPE</th>\n",
       "      <th>TypeOfTrip</th>\n",
       "      <th>CNTRSIZE</th>\n",
       "      <th>CNTRTYPE</th>\n",
       "      <th>LOAD_STATUS_CONT</th>\n",
       "      <th>Department</th>\n",
       "      <th>FROMLOCSTR</th>\n",
       "      <th>TOLOCSTR</th>\n",
       "      <th>...</th>\n",
       "      <th>JOINED DATE</th>\n",
       "      <th>RESIGNED DATE</th>\n",
       "      <th>AGE</th>\n",
       "      <th>RACE</th>\n",
       "      <th>GENDER</th>\n",
       "      <th>ACTIVE</th>\n",
       "      <th>Date</th>\n",
       "      <th>TOWHDDEPT</th>\n",
       "      <th>Team</th>\n",
       "      <th>Status_y</th>\n",
       "    </tr>\n",
       "  </thead>\n",
       "  <tbody>\n",
       "    <tr>\n",
       "      <th>0</th>\n",
       "      <td>TL9008453</td>\n",
       "      <td>00-RE001</td>\n",
       "      <td>LOCAL</td>\n",
       "      <td>Single Mount</td>\n",
       "      <td>20</td>\n",
       "      <td>TK</td>\n",
       "      <td>EMPTY</td>\n",
       "      <td>CHIEN</td>\n",
       "      <td>JI DRUM</td>\n",
       "      <td>1 SERAYA AVE</td>\n",
       "      <td>...</td>\n",
       "      <td>2007-06-07</td>\n",
       "      <td>2021-02-23</td>\n",
       "      <td>53 yy:07 mm</td>\n",
       "      <td>CHINESE</td>\n",
       "      <td>MALE</td>\n",
       "      <td>0.0</td>\n",
       "      <td>2021-01-07</td>\n",
       "      <td>CHIEN</td>\n",
       "      <td>CHIEN LI</td>\n",
       "      <td>16.0</td>\n",
       "    </tr>\n",
       "    <tr>\n",
       "      <th>1</th>\n",
       "      <td>TL9008453</td>\n",
       "      <td>00-RE001</td>\n",
       "      <td>LOCAL</td>\n",
       "      <td>Single Mount</td>\n",
       "      <td>20</td>\n",
       "      <td>TK</td>\n",
       "      <td>EMPTY</td>\n",
       "      <td>CHIEN</td>\n",
       "      <td>JI DRUM</td>\n",
       "      <td>1 SERAYA AVE</td>\n",
       "      <td>...</td>\n",
       "      <td>2007-06-07</td>\n",
       "      <td>2021-02-23</td>\n",
       "      <td>53 yy:07 mm</td>\n",
       "      <td>CHINESE</td>\n",
       "      <td>MALE</td>\n",
       "      <td>0.0</td>\n",
       "      <td>2021-01-07</td>\n",
       "      <td>CHIEN</td>\n",
       "      <td>CHIEN LI</td>\n",
       "      <td>16.0</td>\n",
       "    </tr>\n",
       "    <tr>\n",
       "      <th>2</th>\n",
       "      <td>TL9009105</td>\n",
       "      <td>00-RE001</td>\n",
       "      <td>LOCAL</td>\n",
       "      <td>Single Mount</td>\n",
       "      <td>20</td>\n",
       "      <td>TK</td>\n",
       "      <td>EMPTY</td>\n",
       "      <td>CHIEN</td>\n",
       "      <td>JI DRUM</td>\n",
       "      <td>1 SERAYA AVE</td>\n",
       "      <td>...</td>\n",
       "      <td>2007-06-07</td>\n",
       "      <td>2021-02-23</td>\n",
       "      <td>53 yy:07 mm</td>\n",
       "      <td>CHINESE</td>\n",
       "      <td>MALE</td>\n",
       "      <td>0.0</td>\n",
       "      <td>2021-01-27</td>\n",
       "      <td>CHIEN</td>\n",
       "      <td>CHIEN LI</td>\n",
       "      <td>6.0</td>\n",
       "    </tr>\n",
       "    <tr>\n",
       "      <th>3</th>\n",
       "      <td>TL9009105</td>\n",
       "      <td>00-RE001</td>\n",
       "      <td>LOCAL</td>\n",
       "      <td>Single Mount</td>\n",
       "      <td>20</td>\n",
       "      <td>TK</td>\n",
       "      <td>EMPTY</td>\n",
       "      <td>CHIEN</td>\n",
       "      <td>JI DRUM</td>\n",
       "      <td>1 SERAYA AVE</td>\n",
       "      <td>...</td>\n",
       "      <td>2007-06-07</td>\n",
       "      <td>2021-02-23</td>\n",
       "      <td>53 yy:07 mm</td>\n",
       "      <td>CHINESE</td>\n",
       "      <td>MALE</td>\n",
       "      <td>0.0</td>\n",
       "      <td>2021-01-27</td>\n",
       "      <td>CHIEN</td>\n",
       "      <td>CHIEN LI</td>\n",
       "      <td>6.0</td>\n",
       "    </tr>\n",
       "    <tr>\n",
       "      <th>4</th>\n",
       "      <td>TL9008550</td>\n",
       "      <td>00-RE001</td>\n",
       "      <td>LOCAL</td>\n",
       "      <td>Single Mount</td>\n",
       "      <td>20</td>\n",
       "      <td>TK</td>\n",
       "      <td>EMPTY</td>\n",
       "      <td>CHIEN</td>\n",
       "      <td>JI DRUM</td>\n",
       "      <td>1 SERAYA AVE</td>\n",
       "      <td>...</td>\n",
       "      <td>2007-06-07</td>\n",
       "      <td>2021-02-23</td>\n",
       "      <td>53 yy:07 mm</td>\n",
       "      <td>CHINESE</td>\n",
       "      <td>MALE</td>\n",
       "      <td>0.0</td>\n",
       "      <td>2021-01-11</td>\n",
       "      <td>CHIEN</td>\n",
       "      <td>CHIEN LI</td>\n",
       "      <td>13.0</td>\n",
       "    </tr>\n",
       "    <tr>\n",
       "      <th>...</th>\n",
       "      <td>...</td>\n",
       "      <td>...</td>\n",
       "      <td>...</td>\n",
       "      <td>...</td>\n",
       "      <td>...</td>\n",
       "      <td>...</td>\n",
       "      <td>...</td>\n",
       "      <td>...</td>\n",
       "      <td>...</td>\n",
       "      <td>...</td>\n",
       "      <td>...</td>\n",
       "      <td>...</td>\n",
       "      <td>...</td>\n",
       "      <td>...</td>\n",
       "      <td>...</td>\n",
       "      <td>...</td>\n",
       "      <td>...</td>\n",
       "      <td>...</td>\n",
       "      <td>...</td>\n",
       "      <td>...</td>\n",
       "      <td>...</td>\n",
       "    </tr>\n",
       "    <tr>\n",
       "      <th>1222388</th>\n",
       "      <td>XI7007610</td>\n",
       "      <td>00-RE114</td>\n",
       "      <td>IMPORT</td>\n",
       "      <td>Single Mount</td>\n",
       "      <td>20</td>\n",
       "      <td>GP</td>\n",
       "      <td>EMPTY</td>\n",
       "      <td>XINHUA</td>\n",
       "      <td>PTC ISL (G)</td>\n",
       "      <td>CWT47JLNBUROH</td>\n",
       "      <td>...</td>\n",
       "      <td>2012-08-24</td>\n",
       "      <td>NaN</td>\n",
       "      <td>37 yy:05 mm</td>\n",
       "      <td>MALAY</td>\n",
       "      <td>MALE</td>\n",
       "      <td>1.0</td>\n",
       "      <td>2023-12-13</td>\n",
       "      <td>XINHUA</td>\n",
       "      <td>Team 1</td>\n",
       "      <td>8.0</td>\n",
       "    </tr>\n",
       "    <tr>\n",
       "      <th>1222389</th>\n",
       "      <td>XI7007622</td>\n",
       "      <td>00-RE114</td>\n",
       "      <td>IMPORT</td>\n",
       "      <td>Single Mount</td>\n",
       "      <td>20</td>\n",
       "      <td>GP</td>\n",
       "      <td>LOADED</td>\n",
       "      <td>XINHUA</td>\n",
       "      <td>PSA/PPT</td>\n",
       "      <td>PTC ISL (G)</td>\n",
       "      <td>...</td>\n",
       "      <td>2007-12-01</td>\n",
       "      <td>NaN</td>\n",
       "      <td>55 yy:04 mm</td>\n",
       "      <td>CHINESE</td>\n",
       "      <td>MALE</td>\n",
       "      <td>1.0</td>\n",
       "      <td>2023-12-21</td>\n",
       "      <td>XINHUA</td>\n",
       "      <td>Team 1</td>\n",
       "      <td>8.0</td>\n",
       "    </tr>\n",
       "    <tr>\n",
       "      <th>1222390</th>\n",
       "      <td>XI7007622</td>\n",
       "      <td>00-RE114</td>\n",
       "      <td>IMPORT</td>\n",
       "      <td>Double Mount</td>\n",
       "      <td>20</td>\n",
       "      <td>GP</td>\n",
       "      <td>EMPTY</td>\n",
       "      <td>XINHUA</td>\n",
       "      <td>PTC ISL (G)</td>\n",
       "      <td>WINGSENG</td>\n",
       "      <td>...</td>\n",
       "      <td>2017-08-14</td>\n",
       "      <td>NaN</td>\n",
       "      <td>31 yy:10 mm</td>\n",
       "      <td>MALAY</td>\n",
       "      <td>MALE</td>\n",
       "      <td>1.0</td>\n",
       "      <td>2023-12-26</td>\n",
       "      <td>XINHUA</td>\n",
       "      <td>Team 1</td>\n",
       "      <td>7.0</td>\n",
       "    </tr>\n",
       "    <tr>\n",
       "      <th>1222391</th>\n",
       "      <td>XI7007620</td>\n",
       "      <td>00-RE114</td>\n",
       "      <td>IMPORT</td>\n",
       "      <td>Single Mount</td>\n",
       "      <td>20</td>\n",
       "      <td>TK</td>\n",
       "      <td>LOADED</td>\n",
       "      <td>XINHUA</td>\n",
       "      <td>PSA/BT/KT</td>\n",
       "      <td>2 SERAYA P</td>\n",
       "      <td>...</td>\n",
       "      <td>2015-11-02</td>\n",
       "      <td>NaN</td>\n",
       "      <td>40 yy:09 mm</td>\n",
       "      <td>CHINESE</td>\n",
       "      <td>MALE</td>\n",
       "      <td>1.0</td>\n",
       "      <td>2023-12-15</td>\n",
       "      <td>XINHUA</td>\n",
       "      <td>Team 1</td>\n",
       "      <td>8.0</td>\n",
       "    </tr>\n",
       "    <tr>\n",
       "      <th>1222392</th>\n",
       "      <td>XI7007620</td>\n",
       "      <td>00-RE114</td>\n",
       "      <td>IMPORT</td>\n",
       "      <td>Single Mount</td>\n",
       "      <td>20</td>\n",
       "      <td>TK</td>\n",
       "      <td>EMPTY</td>\n",
       "      <td>XINHUA</td>\n",
       "      <td>2 SERAYA P</td>\n",
       "      <td>31 GUL CRE</td>\n",
       "      <td>...</td>\n",
       "      <td>2007-12-01</td>\n",
       "      <td>NaN</td>\n",
       "      <td>55 yy:04 mm</td>\n",
       "      <td>CHINESE</td>\n",
       "      <td>MALE</td>\n",
       "      <td>1.0</td>\n",
       "      <td>2023-12-20</td>\n",
       "      <td>XINHUA</td>\n",
       "      <td>Team 1</td>\n",
       "      <td>9.0</td>\n",
       "    </tr>\n",
       "  </tbody>\n",
       "</table>\n",
       "<p>1222322 rows × 29 columns</p>\n",
       "</div>"
      ],
      "text/plain": [
       "        OrderNumber    CUSTID JOBTYPE    TypeOfTrip  CNTRSIZE CNTRTYPE  \\\n",
       "0         TL9008453  00-RE001   LOCAL  Single Mount        20       TK   \n",
       "1         TL9008453  00-RE001   LOCAL  Single Mount        20       TK   \n",
       "2         TL9009105  00-RE001   LOCAL  Single Mount        20       TK   \n",
       "3         TL9009105  00-RE001   LOCAL  Single Mount        20       TK   \n",
       "4         TL9008550  00-RE001   LOCAL  Single Mount        20       TK   \n",
       "...             ...       ...     ...           ...       ...      ...   \n",
       "1222388   XI7007610  00-RE114  IMPORT  Single Mount        20       GP   \n",
       "1222389   XI7007622  00-RE114  IMPORT  Single Mount        20       GP   \n",
       "1222390   XI7007622  00-RE114  IMPORT  Double Mount        20       GP   \n",
       "1222391   XI7007620  00-RE114  IMPORT  Single Mount        20       TK   \n",
       "1222392   XI7007620  00-RE114  IMPORT  Single Mount        20       TK   \n",
       "\n",
       "        LOAD_STATUS_CONT Department   FROMLOCSTR       TOLOCSTR  ...  \\\n",
       "0                  EMPTY      CHIEN      JI DRUM   1 SERAYA AVE  ...   \n",
       "1                  EMPTY      CHIEN      JI DRUM   1 SERAYA AVE  ...   \n",
       "2                  EMPTY      CHIEN      JI DRUM   1 SERAYA AVE  ...   \n",
       "3                  EMPTY      CHIEN      JI DRUM   1 SERAYA AVE  ...   \n",
       "4                  EMPTY      CHIEN      JI DRUM   1 SERAYA AVE  ...   \n",
       "...                  ...        ...          ...            ...  ...   \n",
       "1222388            EMPTY     XINHUA  PTC ISL (G)  CWT47JLNBUROH  ...   \n",
       "1222389           LOADED     XINHUA      PSA/PPT    PTC ISL (G)  ...   \n",
       "1222390            EMPTY     XINHUA  PTC ISL (G)       WINGSENG  ...   \n",
       "1222391           LOADED     XINHUA    PSA/BT/KT     2 SERAYA P  ...   \n",
       "1222392            EMPTY     XINHUA   2 SERAYA P     31 GUL CRE  ...   \n",
       "\n",
       "        JOINED DATE RESIGNED DATE          AGE     RACE  GENDER  ACTIVE  \\\n",
       "0        2007-06-07    2021-02-23  53 yy:07 mm  CHINESE    MALE     0.0   \n",
       "1        2007-06-07    2021-02-23  53 yy:07 mm  CHINESE    MALE     0.0   \n",
       "2        2007-06-07    2021-02-23  53 yy:07 mm  CHINESE    MALE     0.0   \n",
       "3        2007-06-07    2021-02-23  53 yy:07 mm  CHINESE    MALE     0.0   \n",
       "4        2007-06-07    2021-02-23  53 yy:07 mm  CHINESE    MALE     0.0   \n",
       "...             ...           ...          ...      ...     ...     ...   \n",
       "1222388  2012-08-24           NaN  37 yy:05 mm    MALAY    MALE     1.0   \n",
       "1222389  2007-12-01           NaN  55 yy:04 mm  CHINESE    MALE     1.0   \n",
       "1222390  2017-08-14           NaN  31 yy:10 mm    MALAY    MALE     1.0   \n",
       "1222391  2015-11-02           NaN  40 yy:09 mm  CHINESE    MALE     1.0   \n",
       "1222392  2007-12-01           NaN  55 yy:04 mm  CHINESE    MALE     1.0   \n",
       "\n",
       "              Date  TOWHDDEPT      Team Status_y  \n",
       "0       2021-01-07      CHIEN  CHIEN LI     16.0  \n",
       "1       2021-01-07      CHIEN  CHIEN LI     16.0  \n",
       "2       2021-01-27      CHIEN  CHIEN LI      6.0  \n",
       "3       2021-01-27      CHIEN  CHIEN LI      6.0  \n",
       "4       2021-01-11      CHIEN  CHIEN LI     13.0  \n",
       "...            ...        ...       ...      ...  \n",
       "1222388 2023-12-13     XINHUA    Team 1      8.0  \n",
       "1222389 2023-12-21     XINHUA    Team 1      8.0  \n",
       "1222390 2023-12-26     XINHUA    Team 1      7.0  \n",
       "1222391 2023-12-15     XINHUA    Team 1      8.0  \n",
       "1222392 2023-12-20     XINHUA    Team 1      9.0  \n",
       "\n",
       "[1222322 rows x 29 columns]"
      ]
     },
     "execution_count": 30,
     "metadata": {},
     "output_type": "execute_result"
    }
   ],
   "source": [
    "merged_total.loc[:, 'Status_y'] = pd.to_numeric(merged_total['Status_y'], errors='coerce')\n",
    "merged_total.loc[:, 'Status_y'].astype('Int64')\n",
    "\n",
    "merged_total.head(-10)"
   ]
  },
  {
   "cell_type": "markdown",
   "metadata": {},
   "source": [
    "## Dropping Irrelevant PrimeMover IDs from merged sheet"
   ]
  },
  {
   "cell_type": "code",
   "execution_count": 31,
   "metadata": {
    "execution": {
     "iopub.execute_input": "2024-04-16T08:08:22.677468Z",
     "iopub.status.busy": "2024-04-16T08:08:22.676467Z",
     "iopub.status.idle": "2024-04-16T08:08:22.942381Z",
     "shell.execute_reply": "2024-04-16T08:08:22.942381Z"
    }
   },
   "outputs": [],
   "source": [
    "# removing prime movers in list \n",
    "\n",
    "removed_pm = [194, 228, 229, 262, 348, 350, 351, 371, 373, 375, 377, 388, 389, 391, 400, 401, 402, 408, 409, 410, 411, 412, 415, 416, 417, 475, 477, 486, 487]\n",
    "\n",
    "merged_total = merged_total[~merged_total['PrimeMoverId_x'].isin(removed_pm)]"
   ]
  },
  {
   "cell_type": "markdown",
   "metadata": {},
   "source": [
    "## Dropping Duplicate Rows"
   ]
  },
  {
   "cell_type": "code",
   "execution_count": 32,
   "metadata": {
    "execution": {
     "iopub.execute_input": "2024-04-16T08:08:22.945373Z",
     "iopub.status.busy": "2024-04-16T08:08:22.945373Z",
     "iopub.status.idle": "2024-04-16T08:08:27.359657Z",
     "shell.execute_reply": "2024-04-16T08:08:27.358660Z"
    }
   },
   "outputs": [
    {
     "data": {
      "text/html": [
       "<div>\n",
       "<style scoped>\n",
       "    .dataframe tbody tr th:only-of-type {\n",
       "        vertical-align: middle;\n",
       "    }\n",
       "\n",
       "    .dataframe tbody tr th {\n",
       "        vertical-align: top;\n",
       "    }\n",
       "\n",
       "    .dataframe thead th {\n",
       "        text-align: right;\n",
       "    }\n",
       "</style>\n",
       "<table border=\"1\" class=\"dataframe\">\n",
       "  <thead>\n",
       "    <tr style=\"text-align: right;\">\n",
       "      <th></th>\n",
       "      <th>OrderNumber</th>\n",
       "      <th>CUSTID</th>\n",
       "      <th>JOBTYPE</th>\n",
       "      <th>TypeOfTrip</th>\n",
       "      <th>CNTRSIZE</th>\n",
       "      <th>CNTRTYPE</th>\n",
       "      <th>LOAD_STATUS_CONT</th>\n",
       "      <th>Department</th>\n",
       "      <th>FROMLOCSTR</th>\n",
       "      <th>TOLOCSTR</th>\n",
       "      <th>...</th>\n",
       "      <th>JOINED DATE</th>\n",
       "      <th>RESIGNED DATE</th>\n",
       "      <th>AGE</th>\n",
       "      <th>RACE</th>\n",
       "      <th>GENDER</th>\n",
       "      <th>ACTIVE</th>\n",
       "      <th>Date</th>\n",
       "      <th>TOWHDDEPT</th>\n",
       "      <th>Team</th>\n",
       "      <th>Status_y</th>\n",
       "    </tr>\n",
       "  </thead>\n",
       "  <tbody>\n",
       "    <tr>\n",
       "      <th>0</th>\n",
       "      <td>TL9008453</td>\n",
       "      <td>00-RE001</td>\n",
       "      <td>LOCAL</td>\n",
       "      <td>Single Mount</td>\n",
       "      <td>20</td>\n",
       "      <td>TK</td>\n",
       "      <td>EMPTY</td>\n",
       "      <td>CHIEN</td>\n",
       "      <td>JI DRUM</td>\n",
       "      <td>1 SERAYA AVE</td>\n",
       "      <td>...</td>\n",
       "      <td>2007-06-07</td>\n",
       "      <td>2021-02-23</td>\n",
       "      <td>53 yy:07 mm</td>\n",
       "      <td>CHINESE</td>\n",
       "      <td>MALE</td>\n",
       "      <td>0.0</td>\n",
       "      <td>2021-01-07</td>\n",
       "      <td>CHIEN</td>\n",
       "      <td>CHIEN LI</td>\n",
       "      <td>16.0</td>\n",
       "    </tr>\n",
       "    <tr>\n",
       "      <th>1</th>\n",
       "      <td>TL9008453</td>\n",
       "      <td>00-RE001</td>\n",
       "      <td>LOCAL</td>\n",
       "      <td>Single Mount</td>\n",
       "      <td>20</td>\n",
       "      <td>TK</td>\n",
       "      <td>EMPTY</td>\n",
       "      <td>CHIEN</td>\n",
       "      <td>JI DRUM</td>\n",
       "      <td>1 SERAYA AVE</td>\n",
       "      <td>...</td>\n",
       "      <td>2007-06-07</td>\n",
       "      <td>2021-02-23</td>\n",
       "      <td>53 yy:07 mm</td>\n",
       "      <td>CHINESE</td>\n",
       "      <td>MALE</td>\n",
       "      <td>0.0</td>\n",
       "      <td>2021-01-07</td>\n",
       "      <td>CHIEN</td>\n",
       "      <td>CHIEN LI</td>\n",
       "      <td>16.0</td>\n",
       "    </tr>\n",
       "    <tr>\n",
       "      <th>2</th>\n",
       "      <td>TL9009105</td>\n",
       "      <td>00-RE001</td>\n",
       "      <td>LOCAL</td>\n",
       "      <td>Single Mount</td>\n",
       "      <td>20</td>\n",
       "      <td>TK</td>\n",
       "      <td>EMPTY</td>\n",
       "      <td>CHIEN</td>\n",
       "      <td>JI DRUM</td>\n",
       "      <td>1 SERAYA AVE</td>\n",
       "      <td>...</td>\n",
       "      <td>2007-06-07</td>\n",
       "      <td>2021-02-23</td>\n",
       "      <td>53 yy:07 mm</td>\n",
       "      <td>CHINESE</td>\n",
       "      <td>MALE</td>\n",
       "      <td>0.0</td>\n",
       "      <td>2021-01-27</td>\n",
       "      <td>CHIEN</td>\n",
       "      <td>CHIEN LI</td>\n",
       "      <td>6.0</td>\n",
       "    </tr>\n",
       "    <tr>\n",
       "      <th>3</th>\n",
       "      <td>TL9009105</td>\n",
       "      <td>00-RE001</td>\n",
       "      <td>LOCAL</td>\n",
       "      <td>Single Mount</td>\n",
       "      <td>20</td>\n",
       "      <td>TK</td>\n",
       "      <td>EMPTY</td>\n",
       "      <td>CHIEN</td>\n",
       "      <td>JI DRUM</td>\n",
       "      <td>1 SERAYA AVE</td>\n",
       "      <td>...</td>\n",
       "      <td>2007-06-07</td>\n",
       "      <td>2021-02-23</td>\n",
       "      <td>53 yy:07 mm</td>\n",
       "      <td>CHINESE</td>\n",
       "      <td>MALE</td>\n",
       "      <td>0.0</td>\n",
       "      <td>2021-01-27</td>\n",
       "      <td>CHIEN</td>\n",
       "      <td>CHIEN LI</td>\n",
       "      <td>6.0</td>\n",
       "    </tr>\n",
       "    <tr>\n",
       "      <th>4</th>\n",
       "      <td>TL9008550</td>\n",
       "      <td>00-RE001</td>\n",
       "      <td>LOCAL</td>\n",
       "      <td>Single Mount</td>\n",
       "      <td>20</td>\n",
       "      <td>TK</td>\n",
       "      <td>EMPTY</td>\n",
       "      <td>CHIEN</td>\n",
       "      <td>JI DRUM</td>\n",
       "      <td>1 SERAYA AVE</td>\n",
       "      <td>...</td>\n",
       "      <td>2007-06-07</td>\n",
       "      <td>2021-02-23</td>\n",
       "      <td>53 yy:07 mm</td>\n",
       "      <td>CHINESE</td>\n",
       "      <td>MALE</td>\n",
       "      <td>0.0</td>\n",
       "      <td>2021-01-11</td>\n",
       "      <td>CHIEN</td>\n",
       "      <td>CHIEN LI</td>\n",
       "      <td>13.0</td>\n",
       "    </tr>\n",
       "    <tr>\n",
       "      <th>...</th>\n",
       "      <td>...</td>\n",
       "      <td>...</td>\n",
       "      <td>...</td>\n",
       "      <td>...</td>\n",
       "      <td>...</td>\n",
       "      <td>...</td>\n",
       "      <td>...</td>\n",
       "      <td>...</td>\n",
       "      <td>...</td>\n",
       "      <td>...</td>\n",
       "      <td>...</td>\n",
       "      <td>...</td>\n",
       "      <td>...</td>\n",
       "      <td>...</td>\n",
       "      <td>...</td>\n",
       "      <td>...</td>\n",
       "      <td>...</td>\n",
       "      <td>...</td>\n",
       "      <td>...</td>\n",
       "      <td>...</td>\n",
       "      <td>...</td>\n",
       "    </tr>\n",
       "    <tr>\n",
       "      <th>1222397</th>\n",
       "      <td>TE8037442</td>\n",
       "      <td>00-RA186</td>\n",
       "      <td>EXPORT</td>\n",
       "      <td>Single Mount</td>\n",
       "      <td>20</td>\n",
       "      <td>GP</td>\n",
       "      <td>EMPTY</td>\n",
       "      <td>MAIN</td>\n",
       "      <td>PTC48(G)</td>\n",
       "      <td>42PANDAN1</td>\n",
       "      <td>...</td>\n",
       "      <td>2008-03-17</td>\n",
       "      <td>NaN</td>\n",
       "      <td>51 yy:04 mm</td>\n",
       "      <td>CHINESE</td>\n",
       "      <td>MALE</td>\n",
       "      <td>1.0</td>\n",
       "      <td>2023-12-06</td>\n",
       "      <td>MAIN</td>\n",
       "      <td>FCL</td>\n",
       "      <td>34.0</td>\n",
       "    </tr>\n",
       "    <tr>\n",
       "      <th>1222398</th>\n",
       "      <td>TL9050450</td>\n",
       "      <td>00-RA186</td>\n",
       "      <td>LOCAL</td>\n",
       "      <td>Single Mount</td>\n",
       "      <td>20</td>\n",
       "      <td>TK</td>\n",
       "      <td>LOADED</td>\n",
       "      <td>CHIEN</td>\n",
       "      <td>COGENT TANK 15</td>\n",
       "      <td>48DRUMMING</td>\n",
       "      <td>...</td>\n",
       "      <td>2004-06-25</td>\n",
       "      <td>NaN</td>\n",
       "      <td>68 yy:03 mm</td>\n",
       "      <td>CHINESE</td>\n",
       "      <td>MALE</td>\n",
       "      <td>1.0</td>\n",
       "      <td>2023-12-04</td>\n",
       "      <td>CHIEN</td>\n",
       "      <td>CHIEN LI</td>\n",
       "      <td>8.0</td>\n",
       "    </tr>\n",
       "    <tr>\n",
       "      <th>1222399</th>\n",
       "      <td>TL9050450</td>\n",
       "      <td>00-RA186</td>\n",
       "      <td>LOCAL</td>\n",
       "      <td>Single Mount</td>\n",
       "      <td>20</td>\n",
       "      <td>TK</td>\n",
       "      <td>EMPTY</td>\n",
       "      <td>CHIEN</td>\n",
       "      <td>48DRUMMING</td>\n",
       "      <td>STOLT NEL</td>\n",
       "      <td>...</td>\n",
       "      <td>2008-08-22</td>\n",
       "      <td>2023-05-10</td>\n",
       "      <td>39 yy:01 mm</td>\n",
       "      <td>CHINESE</td>\n",
       "      <td>MALE</td>\n",
       "      <td>0.0</td>\n",
       "      <td>2023-12-06</td>\n",
       "      <td>CHIEN</td>\n",
       "      <td>CHIEN LI</td>\n",
       "      <td>21.0</td>\n",
       "    </tr>\n",
       "    <tr>\n",
       "      <th>1222401</th>\n",
       "      <td>TE8037521</td>\n",
       "      <td>00-RA186</td>\n",
       "      <td>EXPORT</td>\n",
       "      <td>Single Mount</td>\n",
       "      <td>20</td>\n",
       "      <td>GP</td>\n",
       "      <td>LOADED</td>\n",
       "      <td>MAIN</td>\n",
       "      <td>42PANDAN1</td>\n",
       "      <td>PSA/PPT</td>\n",
       "      <td>...</td>\n",
       "      <td>2000-11-20</td>\n",
       "      <td>2022-10-02</td>\n",
       "      <td>58 yy:11 mm</td>\n",
       "      <td>CHINESE</td>\n",
       "      <td>MALE</td>\n",
       "      <td>0.0</td>\n",
       "      <td>2023-12-13</td>\n",
       "      <td>MAIN</td>\n",
       "      <td>FCL</td>\n",
       "      <td>8.0</td>\n",
       "    </tr>\n",
       "    <tr>\n",
       "      <th>1222402</th>\n",
       "      <td>XE7047519</td>\n",
       "      <td>00-RP036</td>\n",
       "      <td>EXPORT</td>\n",
       "      <td>Single Mount</td>\n",
       "      <td>40</td>\n",
       "      <td>HC</td>\n",
       "      <td>EMPTY</td>\n",
       "      <td>XINHUA</td>\n",
       "      <td>CONT CONN</td>\n",
       "      <td>PTC MER-GROUND</td>\n",
       "      <td>...</td>\n",
       "      <td>NaN</td>\n",
       "      <td>NaN</td>\n",
       "      <td>NaN</td>\n",
       "      <td>NaN</td>\n",
       "      <td>NaN</td>\n",
       "      <td>NaN</td>\n",
       "      <td>NaT</td>\n",
       "      <td>NaN</td>\n",
       "      <td>NaN</td>\n",
       "      <td>NaN</td>\n",
       "    </tr>\n",
       "  </tbody>\n",
       "</table>\n",
       "<p>1081784 rows × 29 columns</p>\n",
       "</div>"
      ],
      "text/plain": [
       "        OrderNumber    CUSTID JOBTYPE    TypeOfTrip  CNTRSIZE CNTRTYPE  \\\n",
       "0         TL9008453  00-RE001   LOCAL  Single Mount        20       TK   \n",
       "1         TL9008453  00-RE001   LOCAL  Single Mount        20       TK   \n",
       "2         TL9009105  00-RE001   LOCAL  Single Mount        20       TK   \n",
       "3         TL9009105  00-RE001   LOCAL  Single Mount        20       TK   \n",
       "4         TL9008550  00-RE001   LOCAL  Single Mount        20       TK   \n",
       "...             ...       ...     ...           ...       ...      ...   \n",
       "1222397   TE8037442  00-RA186  EXPORT  Single Mount        20       GP   \n",
       "1222398   TL9050450  00-RA186   LOCAL  Single Mount        20       TK   \n",
       "1222399   TL9050450  00-RA186   LOCAL  Single Mount        20       TK   \n",
       "1222401   TE8037521  00-RA186  EXPORT  Single Mount        20       GP   \n",
       "1222402   XE7047519  00-RP036  EXPORT  Single Mount        40       HC   \n",
       "\n",
       "        LOAD_STATUS_CONT Department      FROMLOCSTR        TOLOCSTR  ...  \\\n",
       "0                  EMPTY      CHIEN         JI DRUM    1 SERAYA AVE  ...   \n",
       "1                  EMPTY      CHIEN         JI DRUM    1 SERAYA AVE  ...   \n",
       "2                  EMPTY      CHIEN         JI DRUM    1 SERAYA AVE  ...   \n",
       "3                  EMPTY      CHIEN         JI DRUM    1 SERAYA AVE  ...   \n",
       "4                  EMPTY      CHIEN         JI DRUM    1 SERAYA AVE  ...   \n",
       "...                  ...        ...             ...             ...  ...   \n",
       "1222397            EMPTY       MAIN        PTC48(G)       42PANDAN1  ...   \n",
       "1222398           LOADED      CHIEN  COGENT TANK 15      48DRUMMING  ...   \n",
       "1222399            EMPTY      CHIEN      48DRUMMING       STOLT NEL  ...   \n",
       "1222401           LOADED       MAIN       42PANDAN1         PSA/PPT  ...   \n",
       "1222402            EMPTY     XINHUA       CONT CONN  PTC MER-GROUND  ...   \n",
       "\n",
       "        JOINED DATE RESIGNED DATE          AGE     RACE  GENDER  ACTIVE  \\\n",
       "0        2007-06-07    2021-02-23  53 yy:07 mm  CHINESE    MALE     0.0   \n",
       "1        2007-06-07    2021-02-23  53 yy:07 mm  CHINESE    MALE     0.0   \n",
       "2        2007-06-07    2021-02-23  53 yy:07 mm  CHINESE    MALE     0.0   \n",
       "3        2007-06-07    2021-02-23  53 yy:07 mm  CHINESE    MALE     0.0   \n",
       "4        2007-06-07    2021-02-23  53 yy:07 mm  CHINESE    MALE     0.0   \n",
       "...             ...           ...          ...      ...     ...     ...   \n",
       "1222397  2008-03-17           NaN  51 yy:04 mm  CHINESE    MALE     1.0   \n",
       "1222398  2004-06-25           NaN  68 yy:03 mm  CHINESE    MALE     1.0   \n",
       "1222399  2008-08-22    2023-05-10  39 yy:01 mm  CHINESE    MALE     0.0   \n",
       "1222401  2000-11-20    2022-10-02  58 yy:11 mm  CHINESE    MALE     0.0   \n",
       "1222402         NaN           NaN          NaN      NaN     NaN     NaN   \n",
       "\n",
       "              Date  TOWHDDEPT      Team Status_y  \n",
       "0       2021-01-07      CHIEN  CHIEN LI     16.0  \n",
       "1       2021-01-07      CHIEN  CHIEN LI     16.0  \n",
       "2       2021-01-27      CHIEN  CHIEN LI      6.0  \n",
       "3       2021-01-27      CHIEN  CHIEN LI      6.0  \n",
       "4       2021-01-11      CHIEN  CHIEN LI     13.0  \n",
       "...            ...        ...       ...      ...  \n",
       "1222397 2023-12-06       MAIN       FCL     34.0  \n",
       "1222398 2023-12-04      CHIEN  CHIEN LI      8.0  \n",
       "1222399 2023-12-06      CHIEN  CHIEN LI     21.0  \n",
       "1222401 2023-12-13       MAIN       FCL      8.0  \n",
       "1222402        NaT        NaN       NaN      NaN  \n",
       "\n",
       "[1081784 rows x 29 columns]"
      ]
     },
     "execution_count": 32,
     "metadata": {},
     "output_type": "execute_result"
    }
   ],
   "source": [
    "# merged_total= merged_total.drop_duplicates(keep='first', ignore_index=True)\n",
    "merged_total = merged_total[~((merged_total.duplicated(keep='first')) & (merged_total['TypeOfTrip'].isin(['Double Mount'])))]\n",
    "\n",
    "merged_total"
   ]
  },
  {
   "cell_type": "markdown",
   "metadata": {},
   "source": [
    "# Feature Engineering"
   ]
  },
  {
   "cell_type": "markdown",
   "metadata": {},
   "source": [
    "## Creating TripDuration Feature"
   ]
  },
  {
   "cell_type": "code",
   "execution_count": 33,
   "metadata": {
    "execution": {
     "iopub.execute_input": "2024-04-16T08:08:27.363658Z",
     "iopub.status.busy": "2024-04-16T08:08:27.363658Z",
     "iopub.status.idle": "2024-04-16T08:08:28.317094Z",
     "shell.execute_reply": "2024-04-16T08:08:28.317094Z"
    }
   },
   "outputs": [
    {
     "data": {
      "text/html": [
       "<div>\n",
       "<style scoped>\n",
       "    .dataframe tbody tr th:only-of-type {\n",
       "        vertical-align: middle;\n",
       "    }\n",
       "\n",
       "    .dataframe tbody tr th {\n",
       "        vertical-align: top;\n",
       "    }\n",
       "\n",
       "    .dataframe thead th {\n",
       "        text-align: right;\n",
       "    }\n",
       "</style>\n",
       "<table border=\"1\" class=\"dataframe\">\n",
       "  <thead>\n",
       "    <tr style=\"text-align: right;\">\n",
       "      <th></th>\n",
       "      <th>OrderNumber</th>\n",
       "      <th>CUSTID</th>\n",
       "      <th>JOBTYPE</th>\n",
       "      <th>TypeOfTrip</th>\n",
       "      <th>CNTRSIZE</th>\n",
       "      <th>CNTRTYPE</th>\n",
       "      <th>LOAD_STATUS_CONT</th>\n",
       "      <th>Department</th>\n",
       "      <th>FROMLOCSTR</th>\n",
       "      <th>TOLOCSTR</th>\n",
       "      <th>...</th>\n",
       "      <th>JOINED DATE</th>\n",
       "      <th>RESIGNED DATE</th>\n",
       "      <th>AGE</th>\n",
       "      <th>RACE</th>\n",
       "      <th>GENDER</th>\n",
       "      <th>ACTIVE</th>\n",
       "      <th>Date</th>\n",
       "      <th>TOWHDDEPT</th>\n",
       "      <th>Team</th>\n",
       "      <th>Status_y</th>\n",
       "    </tr>\n",
       "  </thead>\n",
       "  <tbody>\n",
       "    <tr>\n",
       "      <th>0</th>\n",
       "      <td>TL9008453</td>\n",
       "      <td>00-RE001</td>\n",
       "      <td>LOCAL</td>\n",
       "      <td>Single Mount</td>\n",
       "      <td>20</td>\n",
       "      <td>TK</td>\n",
       "      <td>EMPTY</td>\n",
       "      <td>CHIEN</td>\n",
       "      <td>JI DRUM</td>\n",
       "      <td>1 SERAYA AVE</td>\n",
       "      <td>...</td>\n",
       "      <td>2007-06-07</td>\n",
       "      <td>2021-02-23</td>\n",
       "      <td>53 yy:07 mm</td>\n",
       "      <td>CHINESE</td>\n",
       "      <td>MALE</td>\n",
       "      <td>0.0</td>\n",
       "      <td>2021-01-07</td>\n",
       "      <td>CHIEN</td>\n",
       "      <td>CHIEN LI</td>\n",
       "      <td>16.0</td>\n",
       "    </tr>\n",
       "    <tr>\n",
       "      <th>1</th>\n",
       "      <td>TL9008453</td>\n",
       "      <td>00-RE001</td>\n",
       "      <td>LOCAL</td>\n",
       "      <td>Single Mount</td>\n",
       "      <td>20</td>\n",
       "      <td>TK</td>\n",
       "      <td>EMPTY</td>\n",
       "      <td>CHIEN</td>\n",
       "      <td>JI DRUM</td>\n",
       "      <td>1 SERAYA AVE</td>\n",
       "      <td>...</td>\n",
       "      <td>2007-06-07</td>\n",
       "      <td>2021-02-23</td>\n",
       "      <td>53 yy:07 mm</td>\n",
       "      <td>CHINESE</td>\n",
       "      <td>MALE</td>\n",
       "      <td>0.0</td>\n",
       "      <td>2021-01-07</td>\n",
       "      <td>CHIEN</td>\n",
       "      <td>CHIEN LI</td>\n",
       "      <td>16.0</td>\n",
       "    </tr>\n",
       "    <tr>\n",
       "      <th>2</th>\n",
       "      <td>TL9009105</td>\n",
       "      <td>00-RE001</td>\n",
       "      <td>LOCAL</td>\n",
       "      <td>Single Mount</td>\n",
       "      <td>20</td>\n",
       "      <td>TK</td>\n",
       "      <td>EMPTY</td>\n",
       "      <td>CHIEN</td>\n",
       "      <td>JI DRUM</td>\n",
       "      <td>1 SERAYA AVE</td>\n",
       "      <td>...</td>\n",
       "      <td>2007-06-07</td>\n",
       "      <td>2021-02-23</td>\n",
       "      <td>53 yy:07 mm</td>\n",
       "      <td>CHINESE</td>\n",
       "      <td>MALE</td>\n",
       "      <td>0.0</td>\n",
       "      <td>2021-01-27</td>\n",
       "      <td>CHIEN</td>\n",
       "      <td>CHIEN LI</td>\n",
       "      <td>6.0</td>\n",
       "    </tr>\n",
       "    <tr>\n",
       "      <th>3</th>\n",
       "      <td>TL9009105</td>\n",
       "      <td>00-RE001</td>\n",
       "      <td>LOCAL</td>\n",
       "      <td>Single Mount</td>\n",
       "      <td>20</td>\n",
       "      <td>TK</td>\n",
       "      <td>EMPTY</td>\n",
       "      <td>CHIEN</td>\n",
       "      <td>JI DRUM</td>\n",
       "      <td>1 SERAYA AVE</td>\n",
       "      <td>...</td>\n",
       "      <td>2007-06-07</td>\n",
       "      <td>2021-02-23</td>\n",
       "      <td>53 yy:07 mm</td>\n",
       "      <td>CHINESE</td>\n",
       "      <td>MALE</td>\n",
       "      <td>0.0</td>\n",
       "      <td>2021-01-27</td>\n",
       "      <td>CHIEN</td>\n",
       "      <td>CHIEN LI</td>\n",
       "      <td>6.0</td>\n",
       "    </tr>\n",
       "    <tr>\n",
       "      <th>4</th>\n",
       "      <td>TL9008550</td>\n",
       "      <td>00-RE001</td>\n",
       "      <td>LOCAL</td>\n",
       "      <td>Single Mount</td>\n",
       "      <td>20</td>\n",
       "      <td>TK</td>\n",
       "      <td>EMPTY</td>\n",
       "      <td>CHIEN</td>\n",
       "      <td>JI DRUM</td>\n",
       "      <td>1 SERAYA AVE</td>\n",
       "      <td>...</td>\n",
       "      <td>2007-06-07</td>\n",
       "      <td>2021-02-23</td>\n",
       "      <td>53 yy:07 mm</td>\n",
       "      <td>CHINESE</td>\n",
       "      <td>MALE</td>\n",
       "      <td>0.0</td>\n",
       "      <td>2021-01-11</td>\n",
       "      <td>CHIEN</td>\n",
       "      <td>CHIEN LI</td>\n",
       "      <td>13.0</td>\n",
       "    </tr>\n",
       "    <tr>\n",
       "      <th>...</th>\n",
       "      <td>...</td>\n",
       "      <td>...</td>\n",
       "      <td>...</td>\n",
       "      <td>...</td>\n",
       "      <td>...</td>\n",
       "      <td>...</td>\n",
       "      <td>...</td>\n",
       "      <td>...</td>\n",
       "      <td>...</td>\n",
       "      <td>...</td>\n",
       "      <td>...</td>\n",
       "      <td>...</td>\n",
       "      <td>...</td>\n",
       "      <td>...</td>\n",
       "      <td>...</td>\n",
       "      <td>...</td>\n",
       "      <td>...</td>\n",
       "      <td>...</td>\n",
       "      <td>...</td>\n",
       "      <td>...</td>\n",
       "      <td>...</td>\n",
       "    </tr>\n",
       "    <tr>\n",
       "      <th>1222385</th>\n",
       "      <td>XI7007593</td>\n",
       "      <td>00-RE114</td>\n",
       "      <td>IMPORT</td>\n",
       "      <td>Single Mount</td>\n",
       "      <td>20</td>\n",
       "      <td>GP</td>\n",
       "      <td>EMPTY</td>\n",
       "      <td>XINHUA</td>\n",
       "      <td>31GUL CR</td>\n",
       "      <td>14 PENJ RD</td>\n",
       "      <td>...</td>\n",
       "      <td>2007-12-01</td>\n",
       "      <td>NaN</td>\n",
       "      <td>55 yy:04 mm</td>\n",
       "      <td>CHINESE</td>\n",
       "      <td>MALE</td>\n",
       "      <td>1.0</td>\n",
       "      <td>2023-12-12</td>\n",
       "      <td>XINHUA</td>\n",
       "      <td>Team 1</td>\n",
       "      <td>13.0</td>\n",
       "    </tr>\n",
       "    <tr>\n",
       "      <th>1222386</th>\n",
       "      <td>XI7007593</td>\n",
       "      <td>00-RE114</td>\n",
       "      <td>IMPORT</td>\n",
       "      <td>Single Mount</td>\n",
       "      <td>20</td>\n",
       "      <td>GP</td>\n",
       "      <td>EMPTY</td>\n",
       "      <td>XINHUA</td>\n",
       "      <td>14 PENJ RD</td>\n",
       "      <td>EKY2</td>\n",
       "      <td>...</td>\n",
       "      <td>2007-12-01</td>\n",
       "      <td>NaN</td>\n",
       "      <td>55 yy:04 mm</td>\n",
       "      <td>CHINESE</td>\n",
       "      <td>MALE</td>\n",
       "      <td>1.0</td>\n",
       "      <td>2023-12-12</td>\n",
       "      <td>XINHUA</td>\n",
       "      <td>Team 1</td>\n",
       "      <td>13.0</td>\n",
       "    </tr>\n",
       "    <tr>\n",
       "      <th>1222387</th>\n",
       "      <td>XI7007610</td>\n",
       "      <td>00-RE114</td>\n",
       "      <td>IMPORT</td>\n",
       "      <td>Single Mount</td>\n",
       "      <td>20</td>\n",
       "      <td>GP</td>\n",
       "      <td>LOADED</td>\n",
       "      <td>XINHUA</td>\n",
       "      <td>PSA/PPT</td>\n",
       "      <td>PTC ISL (G)</td>\n",
       "      <td>...</td>\n",
       "      <td>2014-11-01</td>\n",
       "      <td>NaN</td>\n",
       "      <td>55 yy:01 mm</td>\n",
       "      <td>MALAY</td>\n",
       "      <td>MALE</td>\n",
       "      <td>1.0</td>\n",
       "      <td>2023-12-12</td>\n",
       "      <td>XINHUA</td>\n",
       "      <td>Team 1</td>\n",
       "      <td>9.0</td>\n",
       "    </tr>\n",
       "    <tr>\n",
       "      <th>1222388</th>\n",
       "      <td>XI7007610</td>\n",
       "      <td>00-RE114</td>\n",
       "      <td>IMPORT</td>\n",
       "      <td>Single Mount</td>\n",
       "      <td>20</td>\n",
       "      <td>GP</td>\n",
       "      <td>EMPTY</td>\n",
       "      <td>XINHUA</td>\n",
       "      <td>PTC ISL (G)</td>\n",
       "      <td>CWT47JLNBUROH</td>\n",
       "      <td>...</td>\n",
       "      <td>2012-08-24</td>\n",
       "      <td>NaN</td>\n",
       "      <td>37 yy:05 mm</td>\n",
       "      <td>MALAY</td>\n",
       "      <td>MALE</td>\n",
       "      <td>1.0</td>\n",
       "      <td>2023-12-13</td>\n",
       "      <td>XINHUA</td>\n",
       "      <td>Team 1</td>\n",
       "      <td>8.0</td>\n",
       "    </tr>\n",
       "    <tr>\n",
       "      <th>1222389</th>\n",
       "      <td>XI7007622</td>\n",
       "      <td>00-RE114</td>\n",
       "      <td>IMPORT</td>\n",
       "      <td>Single Mount</td>\n",
       "      <td>20</td>\n",
       "      <td>GP</td>\n",
       "      <td>LOADED</td>\n",
       "      <td>XINHUA</td>\n",
       "      <td>PSA/PPT</td>\n",
       "      <td>PTC ISL (G)</td>\n",
       "      <td>...</td>\n",
       "      <td>2007-12-01</td>\n",
       "      <td>NaN</td>\n",
       "      <td>55 yy:04 mm</td>\n",
       "      <td>CHINESE</td>\n",
       "      <td>MALE</td>\n",
       "      <td>1.0</td>\n",
       "      <td>2023-12-21</td>\n",
       "      <td>XINHUA</td>\n",
       "      <td>Team 1</td>\n",
       "      <td>8.0</td>\n",
       "    </tr>\n",
       "  </tbody>\n",
       "</table>\n",
       "<p>1081774 rows × 29 columns</p>\n",
       "</div>"
      ],
      "text/plain": [
       "        OrderNumber    CUSTID JOBTYPE    TypeOfTrip  CNTRSIZE CNTRTYPE  \\\n",
       "0         TL9008453  00-RE001   LOCAL  Single Mount        20       TK   \n",
       "1         TL9008453  00-RE001   LOCAL  Single Mount        20       TK   \n",
       "2         TL9009105  00-RE001   LOCAL  Single Mount        20       TK   \n",
       "3         TL9009105  00-RE001   LOCAL  Single Mount        20       TK   \n",
       "4         TL9008550  00-RE001   LOCAL  Single Mount        20       TK   \n",
       "...             ...       ...     ...           ...       ...      ...   \n",
       "1222385   XI7007593  00-RE114  IMPORT  Single Mount        20       GP   \n",
       "1222386   XI7007593  00-RE114  IMPORT  Single Mount        20       GP   \n",
       "1222387   XI7007610  00-RE114  IMPORT  Single Mount        20       GP   \n",
       "1222388   XI7007610  00-RE114  IMPORT  Single Mount        20       GP   \n",
       "1222389   XI7007622  00-RE114  IMPORT  Single Mount        20       GP   \n",
       "\n",
       "        LOAD_STATUS_CONT Department   FROMLOCSTR       TOLOCSTR  ...  \\\n",
       "0                  EMPTY      CHIEN      JI DRUM   1 SERAYA AVE  ...   \n",
       "1                  EMPTY      CHIEN      JI DRUM   1 SERAYA AVE  ...   \n",
       "2                  EMPTY      CHIEN      JI DRUM   1 SERAYA AVE  ...   \n",
       "3                  EMPTY      CHIEN      JI DRUM   1 SERAYA AVE  ...   \n",
       "4                  EMPTY      CHIEN      JI DRUM   1 SERAYA AVE  ...   \n",
       "...                  ...        ...          ...            ...  ...   \n",
       "1222385            EMPTY     XINHUA     31GUL CR     14 PENJ RD  ...   \n",
       "1222386            EMPTY     XINHUA   14 PENJ RD           EKY2  ...   \n",
       "1222387           LOADED     XINHUA      PSA/PPT    PTC ISL (G)  ...   \n",
       "1222388            EMPTY     XINHUA  PTC ISL (G)  CWT47JLNBUROH  ...   \n",
       "1222389           LOADED     XINHUA      PSA/PPT    PTC ISL (G)  ...   \n",
       "\n",
       "        JOINED DATE RESIGNED DATE          AGE     RACE  GENDER  ACTIVE  \\\n",
       "0        2007-06-07    2021-02-23  53 yy:07 mm  CHINESE    MALE     0.0   \n",
       "1        2007-06-07    2021-02-23  53 yy:07 mm  CHINESE    MALE     0.0   \n",
       "2        2007-06-07    2021-02-23  53 yy:07 mm  CHINESE    MALE     0.0   \n",
       "3        2007-06-07    2021-02-23  53 yy:07 mm  CHINESE    MALE     0.0   \n",
       "4        2007-06-07    2021-02-23  53 yy:07 mm  CHINESE    MALE     0.0   \n",
       "...             ...           ...          ...      ...     ...     ...   \n",
       "1222385  2007-12-01           NaN  55 yy:04 mm  CHINESE    MALE     1.0   \n",
       "1222386  2007-12-01           NaN  55 yy:04 mm  CHINESE    MALE     1.0   \n",
       "1222387  2014-11-01           NaN  55 yy:01 mm    MALAY    MALE     1.0   \n",
       "1222388  2012-08-24           NaN  37 yy:05 mm    MALAY    MALE     1.0   \n",
       "1222389  2007-12-01           NaN  55 yy:04 mm  CHINESE    MALE     1.0   \n",
       "\n",
       "              Date  TOWHDDEPT      Team Status_y  \n",
       "0       2021-01-07      CHIEN  CHIEN LI     16.0  \n",
       "1       2021-01-07      CHIEN  CHIEN LI     16.0  \n",
       "2       2021-01-27      CHIEN  CHIEN LI      6.0  \n",
       "3       2021-01-27      CHIEN  CHIEN LI      6.0  \n",
       "4       2021-01-11      CHIEN  CHIEN LI     13.0  \n",
       "...            ...        ...       ...      ...  \n",
       "1222385 2023-12-12     XINHUA    Team 1     13.0  \n",
       "1222386 2023-12-12     XINHUA    Team 1     13.0  \n",
       "1222387 2023-12-12     XINHUA    Team 1      9.0  \n",
       "1222388 2023-12-13     XINHUA    Team 1      8.0  \n",
       "1222389 2023-12-21     XINHUA    Team 1      8.0  \n",
       "\n",
       "[1081774 rows x 29 columns]"
      ]
     },
     "execution_count": 33,
     "metadata": {},
     "output_type": "execute_result"
    }
   ],
   "source": [
    "# Calculate duration of each trip\n",
    "merged_total['TripDuration'] = (merged_total['ENDTM'] - merged_total['STARTTM']).dt.total_seconds() / 3600  # Convert seconds to hours\n",
    "\n",
    "# Display the DataFrame with the new column\n",
    "merged_total.head(-10)"
   ]
  },
  {
   "cell_type": "markdown",
   "metadata": {},
   "source": [
    "## Cleaning Age Feature"
   ]
  },
  {
   "cell_type": "code",
   "execution_count": 34,
   "metadata": {
    "execution": {
     "iopub.execute_input": "2024-04-16T08:08:28.322096Z",
     "iopub.status.busy": "2024-04-16T08:08:28.321092Z",
     "iopub.status.idle": "2024-04-16T08:08:34.209403Z",
     "shell.execute_reply": "2024-04-16T08:08:34.209403Z"
    }
   },
   "outputs": [],
   "source": [
    "# Extract ages in the format \"53 yy:07mm\"\n",
    "merged_total.loc[:, 'years'] = merged_total['AGE'].str.extract(r'(\\d+) yy').astype(float)\n",
    "merged_total.loc[:, 'months'] = merged_total['AGE'].str.extract(r':(\\d+) mm').astype(float)\n",
    "\n",
    "# Extract ages in the format \"41\" and convert to float\n",
    "merged_total.loc[:, 'single_age'] = merged_total['AGE'].str.extract(r'^(\\d+)$').astype(float)\n",
    "\n",
    "# Combine 'years' and 'months' into a single numerical value, rounded to 2 decimal places\n",
    "merged_total.loc[:, 'AGE_Years'] = round(merged_total['years'] + merged_total['months'] / 12, 2)\n",
    "\n",
    "# Fill NaN values in 'AGE_Years' column with values from 'single_age' column\n",
    "merged_total['AGE_Years'] = merged_total['AGE_Years'].fillna(merged_total['single_age'])\n",
    "\n",
    "# Drop intermediate columns 'years', 'months', 'AGE', and 'single_age'\n",
    "merged_total.drop(['years', 'months', 'AGE', 'single_age'], axis=1, inplace=True)"
   ]
  },
  {
   "cell_type": "markdown",
   "metadata": {},
   "source": [
    "## Creating Seniority Feature"
   ]
  },
  {
   "cell_type": "code",
   "execution_count": 35,
   "metadata": {
    "execution": {
     "iopub.execute_input": "2024-04-16T08:08:34.213393Z",
     "iopub.status.busy": "2024-04-16T08:08:34.212393Z",
     "iopub.status.idle": "2024-04-16T08:08:35.164706Z",
     "shell.execute_reply": "2024-04-16T08:08:35.164706Z"
    }
   },
   "outputs": [
    {
     "data": {
      "text/html": [
       "<div>\n",
       "<style scoped>\n",
       "    .dataframe tbody tr th:only-of-type {\n",
       "        vertical-align: middle;\n",
       "    }\n",
       "\n",
       "    .dataframe tbody tr th {\n",
       "        vertical-align: top;\n",
       "    }\n",
       "\n",
       "    .dataframe thead th {\n",
       "        text-align: right;\n",
       "    }\n",
       "</style>\n",
       "<table border=\"1\" class=\"dataframe\">\n",
       "  <thead>\n",
       "    <tr style=\"text-align: right;\">\n",
       "      <th></th>\n",
       "      <th>OrderNumber</th>\n",
       "      <th>CUSTID</th>\n",
       "      <th>JOBTYPE</th>\n",
       "      <th>TypeOfTrip</th>\n",
       "      <th>CNTRSIZE</th>\n",
       "      <th>CNTRTYPE</th>\n",
       "      <th>LOAD_STATUS_CONT</th>\n",
       "      <th>Department</th>\n",
       "      <th>FROMLOCSTR</th>\n",
       "      <th>TOLOCSTR</th>\n",
       "      <th>...</th>\n",
       "      <th>RESIGNED DATE</th>\n",
       "      <th>RACE</th>\n",
       "      <th>GENDER</th>\n",
       "      <th>ACTIVE</th>\n",
       "      <th>Date</th>\n",
       "      <th>TOWHDDEPT</th>\n",
       "      <th>Team</th>\n",
       "      <th>Status_y</th>\n",
       "      <th>AGE_Years</th>\n",
       "      <th>Seniority</th>\n",
       "    </tr>\n",
       "  </thead>\n",
       "  <tbody>\n",
       "    <tr>\n",
       "      <th>0</th>\n",
       "      <td>TL9008453</td>\n",
       "      <td>00-RE001</td>\n",
       "      <td>LOCAL</td>\n",
       "      <td>Single Mount</td>\n",
       "      <td>20</td>\n",
       "      <td>TK</td>\n",
       "      <td>EMPTY</td>\n",
       "      <td>CHIEN</td>\n",
       "      <td>JI DRUM</td>\n",
       "      <td>1 SERAYA AVE</td>\n",
       "      <td>...</td>\n",
       "      <td>2021-02-23</td>\n",
       "      <td>CHINESE</td>\n",
       "      <td>MALE</td>\n",
       "      <td>0.0</td>\n",
       "      <td>2021-01-07</td>\n",
       "      <td>CHIEN</td>\n",
       "      <td>CHIEN LI</td>\n",
       "      <td>16.0</td>\n",
       "      <td>53.58</td>\n",
       "      <td>13.72</td>\n",
       "    </tr>\n",
       "    <tr>\n",
       "      <th>1</th>\n",
       "      <td>TL9008453</td>\n",
       "      <td>00-RE001</td>\n",
       "      <td>LOCAL</td>\n",
       "      <td>Single Mount</td>\n",
       "      <td>20</td>\n",
       "      <td>TK</td>\n",
       "      <td>EMPTY</td>\n",
       "      <td>CHIEN</td>\n",
       "      <td>JI DRUM</td>\n",
       "      <td>1 SERAYA AVE</td>\n",
       "      <td>...</td>\n",
       "      <td>2021-02-23</td>\n",
       "      <td>CHINESE</td>\n",
       "      <td>MALE</td>\n",
       "      <td>0.0</td>\n",
       "      <td>2021-01-07</td>\n",
       "      <td>CHIEN</td>\n",
       "      <td>CHIEN LI</td>\n",
       "      <td>16.0</td>\n",
       "      <td>53.58</td>\n",
       "      <td>13.72</td>\n",
       "    </tr>\n",
       "    <tr>\n",
       "      <th>2</th>\n",
       "      <td>TL9009105</td>\n",
       "      <td>00-RE001</td>\n",
       "      <td>LOCAL</td>\n",
       "      <td>Single Mount</td>\n",
       "      <td>20</td>\n",
       "      <td>TK</td>\n",
       "      <td>EMPTY</td>\n",
       "      <td>CHIEN</td>\n",
       "      <td>JI DRUM</td>\n",
       "      <td>1 SERAYA AVE</td>\n",
       "      <td>...</td>\n",
       "      <td>2021-02-23</td>\n",
       "      <td>CHINESE</td>\n",
       "      <td>MALE</td>\n",
       "      <td>0.0</td>\n",
       "      <td>2021-01-27</td>\n",
       "      <td>CHIEN</td>\n",
       "      <td>CHIEN LI</td>\n",
       "      <td>6.0</td>\n",
       "      <td>53.58</td>\n",
       "      <td>13.72</td>\n",
       "    </tr>\n",
       "    <tr>\n",
       "      <th>3</th>\n",
       "      <td>TL9009105</td>\n",
       "      <td>00-RE001</td>\n",
       "      <td>LOCAL</td>\n",
       "      <td>Single Mount</td>\n",
       "      <td>20</td>\n",
       "      <td>TK</td>\n",
       "      <td>EMPTY</td>\n",
       "      <td>CHIEN</td>\n",
       "      <td>JI DRUM</td>\n",
       "      <td>1 SERAYA AVE</td>\n",
       "      <td>...</td>\n",
       "      <td>2021-02-23</td>\n",
       "      <td>CHINESE</td>\n",
       "      <td>MALE</td>\n",
       "      <td>0.0</td>\n",
       "      <td>2021-01-27</td>\n",
       "      <td>CHIEN</td>\n",
       "      <td>CHIEN LI</td>\n",
       "      <td>6.0</td>\n",
       "      <td>53.58</td>\n",
       "      <td>13.72</td>\n",
       "    </tr>\n",
       "    <tr>\n",
       "      <th>4</th>\n",
       "      <td>TL9008550</td>\n",
       "      <td>00-RE001</td>\n",
       "      <td>LOCAL</td>\n",
       "      <td>Single Mount</td>\n",
       "      <td>20</td>\n",
       "      <td>TK</td>\n",
       "      <td>EMPTY</td>\n",
       "      <td>CHIEN</td>\n",
       "      <td>JI DRUM</td>\n",
       "      <td>1 SERAYA AVE</td>\n",
       "      <td>...</td>\n",
       "      <td>2021-02-23</td>\n",
       "      <td>CHINESE</td>\n",
       "      <td>MALE</td>\n",
       "      <td>0.0</td>\n",
       "      <td>2021-01-11</td>\n",
       "      <td>CHIEN</td>\n",
       "      <td>CHIEN LI</td>\n",
       "      <td>13.0</td>\n",
       "      <td>53.58</td>\n",
       "      <td>13.72</td>\n",
       "    </tr>\n",
       "    <tr>\n",
       "      <th>...</th>\n",
       "      <td>...</td>\n",
       "      <td>...</td>\n",
       "      <td>...</td>\n",
       "      <td>...</td>\n",
       "      <td>...</td>\n",
       "      <td>...</td>\n",
       "      <td>...</td>\n",
       "      <td>...</td>\n",
       "      <td>...</td>\n",
       "      <td>...</td>\n",
       "      <td>...</td>\n",
       "      <td>...</td>\n",
       "      <td>...</td>\n",
       "      <td>...</td>\n",
       "      <td>...</td>\n",
       "      <td>...</td>\n",
       "      <td>...</td>\n",
       "      <td>...</td>\n",
       "      <td>...</td>\n",
       "      <td>...</td>\n",
       "      <td>...</td>\n",
       "    </tr>\n",
       "    <tr>\n",
       "      <th>1222385</th>\n",
       "      <td>XI7007593</td>\n",
       "      <td>00-RE114</td>\n",
       "      <td>IMPORT</td>\n",
       "      <td>Single Mount</td>\n",
       "      <td>20</td>\n",
       "      <td>GP</td>\n",
       "      <td>EMPTY</td>\n",
       "      <td>XINHUA</td>\n",
       "      <td>31GUL CR</td>\n",
       "      <td>14 PENJ RD</td>\n",
       "      <td>...</td>\n",
       "      <td>2023-12-31</td>\n",
       "      <td>CHINESE</td>\n",
       "      <td>MALE</td>\n",
       "      <td>1.0</td>\n",
       "      <td>2023-12-12</td>\n",
       "      <td>XINHUA</td>\n",
       "      <td>Team 1</td>\n",
       "      <td>13.0</td>\n",
       "      <td>55.33</td>\n",
       "      <td>16.08</td>\n",
       "    </tr>\n",
       "    <tr>\n",
       "      <th>1222386</th>\n",
       "      <td>XI7007593</td>\n",
       "      <td>00-RE114</td>\n",
       "      <td>IMPORT</td>\n",
       "      <td>Single Mount</td>\n",
       "      <td>20</td>\n",
       "      <td>GP</td>\n",
       "      <td>EMPTY</td>\n",
       "      <td>XINHUA</td>\n",
       "      <td>14 PENJ RD</td>\n",
       "      <td>EKY2</td>\n",
       "      <td>...</td>\n",
       "      <td>2023-12-31</td>\n",
       "      <td>CHINESE</td>\n",
       "      <td>MALE</td>\n",
       "      <td>1.0</td>\n",
       "      <td>2023-12-12</td>\n",
       "      <td>XINHUA</td>\n",
       "      <td>Team 1</td>\n",
       "      <td>13.0</td>\n",
       "      <td>55.33</td>\n",
       "      <td>16.08</td>\n",
       "    </tr>\n",
       "    <tr>\n",
       "      <th>1222387</th>\n",
       "      <td>XI7007610</td>\n",
       "      <td>00-RE114</td>\n",
       "      <td>IMPORT</td>\n",
       "      <td>Single Mount</td>\n",
       "      <td>20</td>\n",
       "      <td>GP</td>\n",
       "      <td>LOADED</td>\n",
       "      <td>XINHUA</td>\n",
       "      <td>PSA/PPT</td>\n",
       "      <td>PTC ISL (G)</td>\n",
       "      <td>...</td>\n",
       "      <td>2023-12-31</td>\n",
       "      <td>MALAY</td>\n",
       "      <td>MALE</td>\n",
       "      <td>1.0</td>\n",
       "      <td>2023-12-12</td>\n",
       "      <td>XINHUA</td>\n",
       "      <td>Team 1</td>\n",
       "      <td>9.0</td>\n",
       "      <td>55.08</td>\n",
       "      <td>9.16</td>\n",
       "    </tr>\n",
       "    <tr>\n",
       "      <th>1222388</th>\n",
       "      <td>XI7007610</td>\n",
       "      <td>00-RE114</td>\n",
       "      <td>IMPORT</td>\n",
       "      <td>Single Mount</td>\n",
       "      <td>20</td>\n",
       "      <td>GP</td>\n",
       "      <td>EMPTY</td>\n",
       "      <td>XINHUA</td>\n",
       "      <td>PTC ISL (G)</td>\n",
       "      <td>CWT47JLNBUROH</td>\n",
       "      <td>...</td>\n",
       "      <td>2023-12-31</td>\n",
       "      <td>MALAY</td>\n",
       "      <td>MALE</td>\n",
       "      <td>1.0</td>\n",
       "      <td>2023-12-13</td>\n",
       "      <td>XINHUA</td>\n",
       "      <td>Team 1</td>\n",
       "      <td>8.0</td>\n",
       "      <td>37.42</td>\n",
       "      <td>11.35</td>\n",
       "    </tr>\n",
       "    <tr>\n",
       "      <th>1222389</th>\n",
       "      <td>XI7007622</td>\n",
       "      <td>00-RE114</td>\n",
       "      <td>IMPORT</td>\n",
       "      <td>Single Mount</td>\n",
       "      <td>20</td>\n",
       "      <td>GP</td>\n",
       "      <td>LOADED</td>\n",
       "      <td>XINHUA</td>\n",
       "      <td>PSA/PPT</td>\n",
       "      <td>PTC ISL (G)</td>\n",
       "      <td>...</td>\n",
       "      <td>2023-12-31</td>\n",
       "      <td>CHINESE</td>\n",
       "      <td>MALE</td>\n",
       "      <td>1.0</td>\n",
       "      <td>2023-12-21</td>\n",
       "      <td>XINHUA</td>\n",
       "      <td>Team 1</td>\n",
       "      <td>8.0</td>\n",
       "      <td>55.33</td>\n",
       "      <td>16.08</td>\n",
       "    </tr>\n",
       "  </tbody>\n",
       "</table>\n",
       "<p>1081774 rows × 30 columns</p>\n",
       "</div>"
      ],
      "text/plain": [
       "        OrderNumber    CUSTID JOBTYPE    TypeOfTrip  CNTRSIZE CNTRTYPE  \\\n",
       "0         TL9008453  00-RE001   LOCAL  Single Mount        20       TK   \n",
       "1         TL9008453  00-RE001   LOCAL  Single Mount        20       TK   \n",
       "2         TL9009105  00-RE001   LOCAL  Single Mount        20       TK   \n",
       "3         TL9009105  00-RE001   LOCAL  Single Mount        20       TK   \n",
       "4         TL9008550  00-RE001   LOCAL  Single Mount        20       TK   \n",
       "...             ...       ...     ...           ...       ...      ...   \n",
       "1222385   XI7007593  00-RE114  IMPORT  Single Mount        20       GP   \n",
       "1222386   XI7007593  00-RE114  IMPORT  Single Mount        20       GP   \n",
       "1222387   XI7007610  00-RE114  IMPORT  Single Mount        20       GP   \n",
       "1222388   XI7007610  00-RE114  IMPORT  Single Mount        20       GP   \n",
       "1222389   XI7007622  00-RE114  IMPORT  Single Mount        20       GP   \n",
       "\n",
       "        LOAD_STATUS_CONT Department   FROMLOCSTR       TOLOCSTR  ...  \\\n",
       "0                  EMPTY      CHIEN      JI DRUM   1 SERAYA AVE  ...   \n",
       "1                  EMPTY      CHIEN      JI DRUM   1 SERAYA AVE  ...   \n",
       "2                  EMPTY      CHIEN      JI DRUM   1 SERAYA AVE  ...   \n",
       "3                  EMPTY      CHIEN      JI DRUM   1 SERAYA AVE  ...   \n",
       "4                  EMPTY      CHIEN      JI DRUM   1 SERAYA AVE  ...   \n",
       "...                  ...        ...          ...            ...  ...   \n",
       "1222385            EMPTY     XINHUA     31GUL CR     14 PENJ RD  ...   \n",
       "1222386            EMPTY     XINHUA   14 PENJ RD           EKY2  ...   \n",
       "1222387           LOADED     XINHUA      PSA/PPT    PTC ISL (G)  ...   \n",
       "1222388            EMPTY     XINHUA  PTC ISL (G)  CWT47JLNBUROH  ...   \n",
       "1222389           LOADED     XINHUA      PSA/PPT    PTC ISL (G)  ...   \n",
       "\n",
       "        RESIGNED DATE     RACE  GENDER ACTIVE       Date  TOWHDDEPT      Team  \\\n",
       "0          2021-02-23  CHINESE    MALE    0.0 2021-01-07      CHIEN  CHIEN LI   \n",
       "1          2021-02-23  CHINESE    MALE    0.0 2021-01-07      CHIEN  CHIEN LI   \n",
       "2          2021-02-23  CHINESE    MALE    0.0 2021-01-27      CHIEN  CHIEN LI   \n",
       "3          2021-02-23  CHINESE    MALE    0.0 2021-01-27      CHIEN  CHIEN LI   \n",
       "4          2021-02-23  CHINESE    MALE    0.0 2021-01-11      CHIEN  CHIEN LI   \n",
       "...               ...      ...     ...    ...        ...        ...       ...   \n",
       "1222385    2023-12-31  CHINESE    MALE    1.0 2023-12-12     XINHUA    Team 1   \n",
       "1222386    2023-12-31  CHINESE    MALE    1.0 2023-12-12     XINHUA    Team 1   \n",
       "1222387    2023-12-31    MALAY    MALE    1.0 2023-12-12     XINHUA    Team 1   \n",
       "1222388    2023-12-31    MALAY    MALE    1.0 2023-12-13     XINHUA    Team 1   \n",
       "1222389    2023-12-31  CHINESE    MALE    1.0 2023-12-21     XINHUA    Team 1   \n",
       "\n",
       "         Status_y AGE_Years Seniority  \n",
       "0            16.0     53.58     13.72  \n",
       "1            16.0     53.58     13.72  \n",
       "2             6.0     53.58     13.72  \n",
       "3             6.0     53.58     13.72  \n",
       "4            13.0     53.58     13.72  \n",
       "...           ...       ...       ...  \n",
       "1222385      13.0     55.33     16.08  \n",
       "1222386      13.0     55.33     16.08  \n",
       "1222387       9.0     55.08      9.16  \n",
       "1222388       8.0     37.42     11.35  \n",
       "1222389       8.0     55.33     16.08  \n",
       "\n",
       "[1081774 rows x 30 columns]"
      ]
     },
     "execution_count": 35,
     "metadata": {},
     "output_type": "execute_result"
    }
   ],
   "source": [
    "# calculate seniority, setting resigned date to 31/12/2023 for those who have not resigned\n",
    "merged_total['JOINED DATE'] = pd.to_datetime(merged_total['JOINED DATE'])\n",
    "merged_total['RESIGNED DATE'] = pd.to_datetime(merged_total['RESIGNED DATE'], errors='coerce')\n",
    "merged_total['RESIGNED DATE'] = merged_total['RESIGNED DATE'].fillna(pd.to_datetime(\"31/12/2023\", format='%d/%m/%Y'))\n",
    "merged_total['Seniority'] = ((merged_total['RESIGNED DATE'] - merged_total['JOINED DATE']).dt.days / 365.25).round(2)\n",
    "\n",
    "# display data\n",
    "merged_total.head(-10)"
   ]
  },
  {
   "cell_type": "markdown",
   "metadata": {},
   "source": [
    "# Renaming and Reorganising Features"
   ]
  },
  {
   "cell_type": "code",
   "execution_count": 36,
   "metadata": {
    "execution": {
     "iopub.execute_input": "2024-04-16T08:08:35.168230Z",
     "iopub.status.busy": "2024-04-16T08:08:35.167704Z",
     "iopub.status.idle": "2024-04-16T08:08:35.661494Z",
     "shell.execute_reply": "2024-04-16T08:08:35.661494Z"
    }
   },
   "outputs": [
    {
     "data": {
      "text/html": [
       "<div>\n",
       "<style scoped>\n",
       "    .dataframe tbody tr th:only-of-type {\n",
       "        vertical-align: middle;\n",
       "    }\n",
       "\n",
       "    .dataframe tbody tr th {\n",
       "        vertical-align: top;\n",
       "    }\n",
       "\n",
       "    .dataframe thead th {\n",
       "        text-align: right;\n",
       "    }\n",
       "</style>\n",
       "<table border=\"1\" class=\"dataframe\">\n",
       "  <thead>\n",
       "    <tr style=\"text-align: right;\">\n",
       "      <th></th>\n",
       "      <th>OrderNumber</th>\n",
       "      <th>CUSTID</th>\n",
       "      <th>JOBTYPE</th>\n",
       "      <th>Department</th>\n",
       "      <th>FROMLOCSTR</th>\n",
       "      <th>TOLOCSTR</th>\n",
       "      <th>STARTTM</th>\n",
       "      <th>ENDTM</th>\n",
       "      <th>TripDuration</th>\n",
       "      <th>CTCOMPLETEDT</th>\n",
       "      <th>DriverId</th>\n",
       "      <th>PrimeMoverId</th>\n",
       "      <th>TrailerId</th>\n",
       "      <th>JOINED DATE</th>\n",
       "      <th>RESIGNED DATE</th>\n",
       "      <th>RACE</th>\n",
       "      <th>Team</th>\n",
       "      <th>Status</th>\n",
       "      <th>AGE_Years</th>\n",
       "      <th>Seniority</th>\n",
       "    </tr>\n",
       "  </thead>\n",
       "  <tbody>\n",
       "    <tr>\n",
       "      <th>0</th>\n",
       "      <td>TL9008453</td>\n",
       "      <td>00-RE001</td>\n",
       "      <td>LOCAL</td>\n",
       "      <td>CHIEN</td>\n",
       "      <td>JI DRUM</td>\n",
       "      <td>1 SERAYA AVE</td>\n",
       "      <td>2021-01-07 08:00:00</td>\n",
       "      <td>2021-01-07 08:30:00</td>\n",
       "      <td>0.5</td>\n",
       "      <td>2021-01-07</td>\n",
       "      <td>2</td>\n",
       "      <td>215</td>\n",
       "      <td>1538.0</td>\n",
       "      <td>2007-06-07</td>\n",
       "      <td>2021-02-23</td>\n",
       "      <td>CHINESE</td>\n",
       "      <td>CHIEN LI</td>\n",
       "      <td>16.0</td>\n",
       "      <td>53.58</td>\n",
       "      <td>13.72</td>\n",
       "    </tr>\n",
       "    <tr>\n",
       "      <th>1</th>\n",
       "      <td>TL9008453</td>\n",
       "      <td>00-RE001</td>\n",
       "      <td>LOCAL</td>\n",
       "      <td>CHIEN</td>\n",
       "      <td>JI DRUM</td>\n",
       "      <td>1 SERAYA AVE</td>\n",
       "      <td>2021-01-07 10:30:00</td>\n",
       "      <td>2021-01-07 11:00:00</td>\n",
       "      <td>0.5</td>\n",
       "      <td>2021-01-07</td>\n",
       "      <td>2</td>\n",
       "      <td>215</td>\n",
       "      <td>972.0</td>\n",
       "      <td>2007-06-07</td>\n",
       "      <td>2021-02-23</td>\n",
       "      <td>CHINESE</td>\n",
       "      <td>CHIEN LI</td>\n",
       "      <td>16.0</td>\n",
       "      <td>53.58</td>\n",
       "      <td>13.72</td>\n",
       "    </tr>\n",
       "    <tr>\n",
       "      <th>2</th>\n",
       "      <td>TL9009105</td>\n",
       "      <td>00-RE001</td>\n",
       "      <td>LOCAL</td>\n",
       "      <td>CHIEN</td>\n",
       "      <td>JI DRUM</td>\n",
       "      <td>1 SERAYA AVE</td>\n",
       "      <td>2021-01-27 08:00:00</td>\n",
       "      <td>2021-01-27 08:30:00</td>\n",
       "      <td>0.5</td>\n",
       "      <td>2021-01-27</td>\n",
       "      <td>2</td>\n",
       "      <td>215</td>\n",
       "      <td>972.0</td>\n",
       "      <td>2007-06-07</td>\n",
       "      <td>2021-02-23</td>\n",
       "      <td>CHINESE</td>\n",
       "      <td>CHIEN LI</td>\n",
       "      <td>6.0</td>\n",
       "      <td>53.58</td>\n",
       "      <td>13.72</td>\n",
       "    </tr>\n",
       "    <tr>\n",
       "      <th>3</th>\n",
       "      <td>TL9009105</td>\n",
       "      <td>00-RE001</td>\n",
       "      <td>LOCAL</td>\n",
       "      <td>CHIEN</td>\n",
       "      <td>JI DRUM</td>\n",
       "      <td>1 SERAYA AVE</td>\n",
       "      <td>2021-01-27 10:30:00</td>\n",
       "      <td>2021-01-27 11:00:00</td>\n",
       "      <td>0.5</td>\n",
       "      <td>2021-01-27</td>\n",
       "      <td>2</td>\n",
       "      <td>215</td>\n",
       "      <td>1538.0</td>\n",
       "      <td>2007-06-07</td>\n",
       "      <td>2021-02-23</td>\n",
       "      <td>CHINESE</td>\n",
       "      <td>CHIEN LI</td>\n",
       "      <td>6.0</td>\n",
       "      <td>53.58</td>\n",
       "      <td>13.72</td>\n",
       "    </tr>\n",
       "    <tr>\n",
       "      <th>4</th>\n",
       "      <td>TL9008550</td>\n",
       "      <td>00-RE001</td>\n",
       "      <td>LOCAL</td>\n",
       "      <td>CHIEN</td>\n",
       "      <td>JI DRUM</td>\n",
       "      <td>1 SERAYA AVE</td>\n",
       "      <td>2021-01-11 08:00:00</td>\n",
       "      <td>2021-01-11 08:30:00</td>\n",
       "      <td>0.5</td>\n",
       "      <td>2021-01-11</td>\n",
       "      <td>2</td>\n",
       "      <td>215</td>\n",
       "      <td>1538.0</td>\n",
       "      <td>2007-06-07</td>\n",
       "      <td>2021-02-23</td>\n",
       "      <td>CHINESE</td>\n",
       "      <td>CHIEN LI</td>\n",
       "      <td>13.0</td>\n",
       "      <td>53.58</td>\n",
       "      <td>13.72</td>\n",
       "    </tr>\n",
       "    <tr>\n",
       "      <th>...</th>\n",
       "      <td>...</td>\n",
       "      <td>...</td>\n",
       "      <td>...</td>\n",
       "      <td>...</td>\n",
       "      <td>...</td>\n",
       "      <td>...</td>\n",
       "      <td>...</td>\n",
       "      <td>...</td>\n",
       "      <td>...</td>\n",
       "      <td>...</td>\n",
       "      <td>...</td>\n",
       "      <td>...</td>\n",
       "      <td>...</td>\n",
       "      <td>...</td>\n",
       "      <td>...</td>\n",
       "      <td>...</td>\n",
       "      <td>...</td>\n",
       "      <td>...</td>\n",
       "      <td>...</td>\n",
       "      <td>...</td>\n",
       "    </tr>\n",
       "    <tr>\n",
       "      <th>1222385</th>\n",
       "      <td>XI7007593</td>\n",
       "      <td>00-RE114</td>\n",
       "      <td>IMPORT</td>\n",
       "      <td>XINHUA</td>\n",
       "      <td>31GUL CR</td>\n",
       "      <td>14 PENJ RD</td>\n",
       "      <td>2023-12-12 08:30:00</td>\n",
       "      <td>2023-12-12 09:30:00</td>\n",
       "      <td>1.0</td>\n",
       "      <td>2023-12-12</td>\n",
       "      <td>169</td>\n",
       "      <td>296</td>\n",
       "      <td>1771.0</td>\n",
       "      <td>2007-12-01</td>\n",
       "      <td>2023-12-31</td>\n",
       "      <td>CHINESE</td>\n",
       "      <td>Team 1</td>\n",
       "      <td>13.0</td>\n",
       "      <td>55.33</td>\n",
       "      <td>16.08</td>\n",
       "    </tr>\n",
       "    <tr>\n",
       "      <th>1222386</th>\n",
       "      <td>XI7007593</td>\n",
       "      <td>00-RE114</td>\n",
       "      <td>IMPORT</td>\n",
       "      <td>XINHUA</td>\n",
       "      <td>14 PENJ RD</td>\n",
       "      <td>EKY2</td>\n",
       "      <td>2023-12-12 09:30:00</td>\n",
       "      <td>2023-12-12 10:00:00</td>\n",
       "      <td>0.5</td>\n",
       "      <td>2023-12-12</td>\n",
       "      <td>169</td>\n",
       "      <td>296</td>\n",
       "      <td>1771.0</td>\n",
       "      <td>2007-12-01</td>\n",
       "      <td>2023-12-31</td>\n",
       "      <td>CHINESE</td>\n",
       "      <td>Team 1</td>\n",
       "      <td>13.0</td>\n",
       "      <td>55.33</td>\n",
       "      <td>16.08</td>\n",
       "    </tr>\n",
       "    <tr>\n",
       "      <th>1222387</th>\n",
       "      <td>XI7007610</td>\n",
       "      <td>00-RE114</td>\n",
       "      <td>IMPORT</td>\n",
       "      <td>XINHUA</td>\n",
       "      <td>PSA/PPT</td>\n",
       "      <td>PTC ISL (G)</td>\n",
       "      <td>2023-12-12 09:00:00</td>\n",
       "      <td>2023-12-12 10:00:00</td>\n",
       "      <td>1.0</td>\n",
       "      <td>2023-12-12</td>\n",
       "      <td>379</td>\n",
       "      <td>338</td>\n",
       "      <td>1499.0</td>\n",
       "      <td>2014-11-01</td>\n",
       "      <td>2023-12-31</td>\n",
       "      <td>MALAY</td>\n",
       "      <td>Team 1</td>\n",
       "      <td>9.0</td>\n",
       "      <td>55.08</td>\n",
       "      <td>9.16</td>\n",
       "    </tr>\n",
       "    <tr>\n",
       "      <th>1222388</th>\n",
       "      <td>XI7007610</td>\n",
       "      <td>00-RE114</td>\n",
       "      <td>IMPORT</td>\n",
       "      <td>XINHUA</td>\n",
       "      <td>PTC ISL (G)</td>\n",
       "      <td>CWT47JLNBUROH</td>\n",
       "      <td>2023-12-13 11:00:00</td>\n",
       "      <td>2023-12-13 12:00:00</td>\n",
       "      <td>1.0</td>\n",
       "      <td>2023-12-13</td>\n",
       "      <td>356</td>\n",
       "      <td>336</td>\n",
       "      <td>1934.0</td>\n",
       "      <td>2012-08-24</td>\n",
       "      <td>2023-12-31</td>\n",
       "      <td>MALAY</td>\n",
       "      <td>Team 1</td>\n",
       "      <td>8.0</td>\n",
       "      <td>37.42</td>\n",
       "      <td>11.35</td>\n",
       "    </tr>\n",
       "    <tr>\n",
       "      <th>1222389</th>\n",
       "      <td>XI7007622</td>\n",
       "      <td>00-RE114</td>\n",
       "      <td>IMPORT</td>\n",
       "      <td>XINHUA</td>\n",
       "      <td>PSA/PPT</td>\n",
       "      <td>PTC ISL (G)</td>\n",
       "      <td>2023-12-21 07:30:00</td>\n",
       "      <td>2023-12-21 08:30:00</td>\n",
       "      <td>1.0</td>\n",
       "      <td>2023-12-21</td>\n",
       "      <td>169</td>\n",
       "      <td>296</td>\n",
       "      <td>1265.0</td>\n",
       "      <td>2007-12-01</td>\n",
       "      <td>2023-12-31</td>\n",
       "      <td>CHINESE</td>\n",
       "      <td>Team 1</td>\n",
       "      <td>8.0</td>\n",
       "      <td>55.33</td>\n",
       "      <td>16.08</td>\n",
       "    </tr>\n",
       "  </tbody>\n",
       "</table>\n",
       "<p>1081774 rows × 20 columns</p>\n",
       "</div>"
      ],
      "text/plain": [
       "        OrderNumber    CUSTID JOBTYPE Department   FROMLOCSTR       TOLOCSTR  \\\n",
       "0         TL9008453  00-RE001   LOCAL      CHIEN      JI DRUM   1 SERAYA AVE   \n",
       "1         TL9008453  00-RE001   LOCAL      CHIEN      JI DRUM   1 SERAYA AVE   \n",
       "2         TL9009105  00-RE001   LOCAL      CHIEN      JI DRUM   1 SERAYA AVE   \n",
       "3         TL9009105  00-RE001   LOCAL      CHIEN      JI DRUM   1 SERAYA AVE   \n",
       "4         TL9008550  00-RE001   LOCAL      CHIEN      JI DRUM   1 SERAYA AVE   \n",
       "...             ...       ...     ...        ...          ...            ...   \n",
       "1222385   XI7007593  00-RE114  IMPORT     XINHUA     31GUL CR     14 PENJ RD   \n",
       "1222386   XI7007593  00-RE114  IMPORT     XINHUA   14 PENJ RD           EKY2   \n",
       "1222387   XI7007610  00-RE114  IMPORT     XINHUA      PSA/PPT    PTC ISL (G)   \n",
       "1222388   XI7007610  00-RE114  IMPORT     XINHUA  PTC ISL (G)  CWT47JLNBUROH   \n",
       "1222389   XI7007622  00-RE114  IMPORT     XINHUA      PSA/PPT    PTC ISL (G)   \n",
       "\n",
       "                    STARTTM               ENDTM  TripDuration CTCOMPLETEDT  \\\n",
       "0       2021-01-07 08:00:00 2021-01-07 08:30:00           0.5   2021-01-07   \n",
       "1       2021-01-07 10:30:00 2021-01-07 11:00:00           0.5   2021-01-07   \n",
       "2       2021-01-27 08:00:00 2021-01-27 08:30:00           0.5   2021-01-27   \n",
       "3       2021-01-27 10:30:00 2021-01-27 11:00:00           0.5   2021-01-27   \n",
       "4       2021-01-11 08:00:00 2021-01-11 08:30:00           0.5   2021-01-11   \n",
       "...                     ...                 ...           ...          ...   \n",
       "1222385 2023-12-12 08:30:00 2023-12-12 09:30:00           1.0   2023-12-12   \n",
       "1222386 2023-12-12 09:30:00 2023-12-12 10:00:00           0.5   2023-12-12   \n",
       "1222387 2023-12-12 09:00:00 2023-12-12 10:00:00           1.0   2023-12-12   \n",
       "1222388 2023-12-13 11:00:00 2023-12-13 12:00:00           1.0   2023-12-13   \n",
       "1222389 2023-12-21 07:30:00 2023-12-21 08:30:00           1.0   2023-12-21   \n",
       "\n",
       "         DriverId  PrimeMoverId  TrailerId JOINED DATE RESIGNED DATE     RACE  \\\n",
       "0               2           215     1538.0  2007-06-07    2021-02-23  CHINESE   \n",
       "1               2           215      972.0  2007-06-07    2021-02-23  CHINESE   \n",
       "2               2           215      972.0  2007-06-07    2021-02-23  CHINESE   \n",
       "3               2           215     1538.0  2007-06-07    2021-02-23  CHINESE   \n",
       "4               2           215     1538.0  2007-06-07    2021-02-23  CHINESE   \n",
       "...           ...           ...        ...         ...           ...      ...   \n",
       "1222385       169           296     1771.0  2007-12-01    2023-12-31  CHINESE   \n",
       "1222386       169           296     1771.0  2007-12-01    2023-12-31  CHINESE   \n",
       "1222387       379           338     1499.0  2014-11-01    2023-12-31    MALAY   \n",
       "1222388       356           336     1934.0  2012-08-24    2023-12-31    MALAY   \n",
       "1222389       169           296     1265.0  2007-12-01    2023-12-31  CHINESE   \n",
       "\n",
       "             Team Status  AGE_Years  Seniority  \n",
       "0        CHIEN LI   16.0      53.58      13.72  \n",
       "1        CHIEN LI   16.0      53.58      13.72  \n",
       "2        CHIEN LI    6.0      53.58      13.72  \n",
       "3        CHIEN LI    6.0      53.58      13.72  \n",
       "4        CHIEN LI   13.0      53.58      13.72  \n",
       "...           ...    ...        ...        ...  \n",
       "1222385    Team 1   13.0      55.33      16.08  \n",
       "1222386    Team 1   13.0      55.33      16.08  \n",
       "1222387    Team 1    9.0      55.08       9.16  \n",
       "1222388    Team 1    8.0      37.42      11.35  \n",
       "1222389    Team 1    8.0      55.33      16.08  \n",
       "\n",
       "[1081774 rows x 20 columns]"
      ]
     },
     "execution_count": 36,
     "metadata": {},
     "output_type": "execute_result"
    }
   ],
   "source": [
    "merged_total_renamed = merged_total.rename(columns={'PrimeMoverId_x': 'PrimeMoverId', 'Status_y': 'Status'})\n",
    "\n",
    "# dropping irrelevant columns\n",
    "final_df = merged_total_renamed.drop(columns=['Date', 'GENDER', 'JOB CODE', 'ACTIVE', 'Driverid', 'TypeOfTrip', 'CNTRSIZE', 'CNTRTYPE', 'LOAD_STATUS_CONT', 'TOWHDDEPT'])\n",
    "\n",
    "# final dataset still has some duplicated rows, possibly due to the left join \n",
    "\n",
    "final_df.head(-10)"
   ]
  },
  {
   "cell_type": "markdown",
   "metadata": {},
   "source": [
    "# ydata-profiling automated EDA"
   ]
  },
  {
   "cell_type": "code",
   "execution_count": 37,
   "metadata": {
    "execution": {
     "iopub.execute_input": "2024-04-16T08:08:35.664487Z",
     "iopub.status.busy": "2024-04-16T08:08:35.663485Z",
     "iopub.status.idle": "2024-04-16T08:09:23.634020Z",
     "shell.execute_reply": "2024-04-16T08:09:23.633480Z"
    }
   },
   "outputs": [
    {
     "name": "stderr",
     "output_type": "stream",
     "text": [
      "\r",
      "Summarize dataset:   0%|                                                  | 0/5 [00:00<?, ?it/s]"
     ]
    },
    {
     "name": "stderr",
     "output_type": "stream",
     "text": [
      "\r",
      "Summarize dataset:   0%|                      | 0/25 [00:08<?, ?it/s, Describe variable:JOBTYPE]"
     ]
    },
    {
     "name": "stderr",
     "output_type": "stream",
     "text": [
      "\r",
      "Summarize dataset:   4%|▌             | 1/25 [00:08<03:34,  8.92s/it, Describe variable:JOBTYPE]"
     ]
    },
    {
     "name": "stderr",
     "output_type": "stream",
     "text": [
      "\r",
      "Summarize dataset:   4%|▍          | 1/25 [00:09<03:34,  8.92s/it, Describe variable:Department]"
     ]
    },
    {
     "name": "stderr",
     "output_type": "stream",
     "text": [
      "\r",
      "Summarize dataset:   8%|▉          | 2/25 [00:09<01:35,  4.16s/it, Describe variable:Department]"
     ]
    },
    {
     "name": "stderr",
     "output_type": "stream",
     "text": [
      "C:\\DBA_Test\\Code\\sutd_eda\\Lib\\site-packages\\ydata_profiling\\model\\pandas\\summary_pandas.py:39: FutureWarning: Downcasting object dtype arrays on .fillna, .ffill, .bfill is deprecated and will change in a future version. Call result.infer_objects(copy=False) instead. To opt-in to the future behavior, set `pd.set_option('future.no_silent_downcasting', True)`\n",
      "  series = series.fillna(np.nan)\n",
      "\r",
      "Summarize dataset:   8%|█            | 2/25 [00:10<01:35,  4.16s/it, Describe variable:DriverId]"
     ]
    },
    {
     "name": "stderr",
     "output_type": "stream",
     "text": [
      "\r",
      "Summarize dataset:  12%|█▌           | 3/25 [00:10<01:00,  2.76s/it, Describe variable:DriverId]"
     ]
    },
    {
     "name": "stderr",
     "output_type": "stream",
     "text": [
      "\r",
      "Summarize dataset:  12%|█        | 3/25 [00:10<01:00,  2.76s/it, Describe variable:PrimeMoverId]"
     ]
    },
    {
     "name": "stderr",
     "output_type": "stream",
     "text": [
      "\r",
      "Summarize dataset:  16%|█▍       | 4/25 [00:11<00:37,  1.76s/it, Describe variable:PrimeMoverId]"
     ]
    },
    {
     "name": "stderr",
     "output_type": "stream",
     "text": [
      "\r",
      "Summarize dataset:  16%|██           | 4/25 [00:11<00:37,  1.76s/it, Describe variable:TOLOCSTR]"
     ]
    },
    {
     "name": "stderr",
     "output_type": "stream",
     "text": [
      "\r",
      "Summarize dataset:  20%|██▌          | 5/25 [00:11<00:25,  1.27s/it, Describe variable:TOLOCSTR]"
     ]
    },
    {
     "name": "stderr",
     "output_type": "stream",
     "text": [
      "\r",
      "Summarize dataset:  20%|█▊       | 5/25 [00:11<00:25,  1.27s/it, Describe variable:TripDuration]"
     ]
    },
    {
     "name": "stderr",
     "output_type": "stream",
     "text": [
      "\r",
      "Summarize dataset:  24%|██▏      | 6/25 [00:11<00:17,  1.08it/s, Describe variable:TripDuration]"
     ]
    },
    {
     "name": "stderr",
     "output_type": "stream",
     "text": [
      "\r",
      "Summarize dataset:  24%|███▌           | 6/25 [00:11<00:17,  1.08it/s, Describe variable:CUSTID]"
     ]
    },
    {
     "name": "stderr",
     "output_type": "stream",
     "text": [
      "\r",
      "Summarize dataset:  28%|████▏          | 7/25 [00:11<00:11,  1.51it/s, Describe variable:CUSTID]"
     ]
    },
    {
     "name": "stderr",
     "output_type": "stream",
     "text": [
      "\r",
      "Summarize dataset:  28%|██▏     | 7/25 [00:11<00:11,  1.51it/s, Describe variable:RESIGNED DATE]"
     ]
    },
    {
     "name": "stderr",
     "output_type": "stream",
     "text": [
      "\r",
      "Summarize dataset:  32%|███▌       | 8/25 [00:11<00:11,  1.51it/s, Describe variable:FROMLOCSTR]"
     ]
    },
    {
     "name": "stderr",
     "output_type": "stream",
     "text": [
      "\r",
      "Summarize dataset:  36%|███▉       | 9/25 [00:12<00:06,  2.62it/s, Describe variable:FROMLOCSTR]"
     ]
    },
    {
     "name": "stderr",
     "output_type": "stream",
     "text": [
      "\r",
      "Summarize dataset:  36%|███▏     | 9/25 [00:12<00:06,  2.62it/s, Describe variable:CTCOMPLETEDT]"
     ]
    },
    {
     "name": "stderr",
     "output_type": "stream",
     "text": [
      "\r",
      "Summarize dataset:  40%|███▏    | 10/25 [00:12<00:05,  2.80it/s, Describe variable:CTCOMPLETEDT]"
     ]
    },
    {
     "name": "stderr",
     "output_type": "stream",
     "text": [
      "\r",
      "Summarize dataset:  40%|████▍      | 10/25 [00:12<00:05,  2.80it/s, Describe variable:TrailerId]"
     ]
    },
    {
     "name": "stderr",
     "output_type": "stream",
     "text": [
      "\r",
      "Summarize dataset:  44%|███████         | 11/25 [00:12<00:05,  2.80it/s, Describe variable:RACE]"
     ]
    },
    {
     "name": "stderr",
     "output_type": "stream",
     "text": [
      "\r",
      "Summarize dataset:  48%|███████▋        | 12/25 [00:12<00:03,  3.59it/s, Describe variable:RACE]"
     ]
    },
    {
     "name": "stderr",
     "output_type": "stream",
     "text": [
      "\r",
      "Summarize dataset:  48%|██████▏      | 12/25 [00:13<00:03,  3.59it/s, Describe variable:STARTTM]"
     ]
    },
    {
     "name": "stderr",
     "output_type": "stream",
     "text": [
      "\r",
      "Summarize dataset:  52%|██████▊      | 13/25 [00:13<00:04,  2.68it/s, Describe variable:STARTTM]"
     ]
    },
    {
     "name": "stderr",
     "output_type": "stream",
     "text": [
      "\r",
      "Summarize dataset:  52%|███████▊       | 13/25 [00:13<00:04,  2.68it/s, Describe variable:ENDTM]"
     ]
    },
    {
     "name": "stderr",
     "output_type": "stream",
     "text": [
      "\r",
      "Summarize dataset:  56%|████████▍      | 14/25 [00:13<00:03,  3.04it/s, Describe variable:ENDTM]"
     ]
    },
    {
     "name": "stderr",
     "output_type": "stream",
     "text": [
      "\r",
      "Summarize dataset:  56%|█████    | 14/25 [00:13<00:03,  3.04it/s, Describe variable:JOINED DATE]"
     ]
    },
    {
     "name": "stderr",
     "output_type": "stream",
     "text": [
      "\r",
      "Summarize dataset:  60%|█████▍   | 15/25 [00:13<00:02,  3.40it/s, Describe variable:JOINED DATE]"
     ]
    },
    {
     "name": "stderr",
     "output_type": "stream",
     "text": [
      "\r",
      "Summarize dataset:  60%|█████▍   | 15/25 [00:13<00:02,  3.40it/s, Describe variable:OrderNumber]"
     ]
    },
    {
     "name": "stderr",
     "output_type": "stream",
     "text": [
      "\r",
      "Summarize dataset:  64%|██████████▏     | 16/25 [00:13<00:02,  3.40it/s, Describe variable:Team]"
     ]
    },
    {
     "name": "stderr",
     "output_type": "stream",
     "text": [
      "\r",
      "Summarize dataset:  68%|█████████▌    | 17/25 [00:13<00:02,  3.40it/s, Describe variable:Status]"
     ]
    },
    {
     "name": "stderr",
     "output_type": "stream",
     "text": [
      "\r",
      "Summarize dataset:  72%|███████▉   | 18/25 [00:13<00:02,  3.40it/s, Describe variable:AGE_Years]"
     ]
    },
    {
     "name": "stderr",
     "output_type": "stream",
     "text": [
      "\r",
      "Summarize dataset:  76%|████████▎  | 19/25 [00:13<00:00,  7.33it/s, Describe variable:AGE_Years]"
     ]
    },
    {
     "name": "stderr",
     "output_type": "stream",
     "text": [
      "\r",
      "Summarize dataset:  76%|████████▎  | 19/25 [00:13<00:00,  7.33it/s, Describe variable:Seniority]"
     ]
    },
    {
     "name": "stderr",
     "output_type": "stream",
     "text": [
      "\r",
      "Summarize dataset:  80%|████████████████    | 20/25 [00:13<00:00,  7.33it/s, Get variable types]"
     ]
    },
    {
     "name": "stderr",
     "output_type": "stream",
     "text": [
      "\r",
      "Summarize dataset:  81%|███████████▎  | 21/26 [00:13<00:00,  7.33it/s, Get dataframe statistics]"
     ]
    },
    {
     "name": "stderr",
     "output_type": "stream",
     "text": [
      "\r",
      "Summarize dataset:  81%|█████████▊  | 22/27 [00:13<00:00,  7.33it/s, Calculate auto correlation]"
     ]
    },
    {
     "name": "stderr",
     "output_type": "stream",
     "text": [
      "C:\\DBA_Test\\Code\\sutd_eda\\Lib\\site-packages\\ydata_profiling\\model\\correlations.py:66: UserWarning: There was an attempt to calculate the auto correlation, but this failed.\n",
      "To hide this warning, disable the calculation\n",
      "(using `df.profile_report(correlations={\"auto\": {\"calculate\": False}})`\n",
      "If this is problematic for your use case, please report this as an issue:\n",
      "https://github.com/ydataai/ydata-profiling/issues\n",
      "(include the error message: 'could not convert string to float: 'CHIEN'')\n",
      "  warnings.warn(\n",
      "\r",
      "Summarize dataset:  85%|██████████▏ | 23/27 [00:17<00:01,  2.15it/s, Calculate auto correlation]"
     ]
    },
    {
     "name": "stderr",
     "output_type": "stream",
     "text": [
      "\r",
      "Summarize dataset:  85%|█████████████████   | 23/27 [00:17<00:01,  2.15it/s, Get scatter matrix]"
     ]
    },
    {
     "name": "stderr",
     "output_type": "stream",
     "text": [
      "\r",
      "Summarize dataset:  30%|█▏  | 23/76 [00:17<00:24,  2.15it/s, scatter TripDuration, TripDuration]"
     ]
    },
    {
     "name": "stderr",
     "output_type": "stream",
     "text": [
      "\r",
      "Summarize dataset:  32%|█▎  | 24/76 [00:17<00:23,  2.23it/s, scatter TripDuration, TripDuration]"
     ]
    },
    {
     "name": "stderr",
     "output_type": "stream",
     "text": [
      "\r",
      "Summarize dataset:  32%|██▌     | 24/76 [00:17<00:23,  2.23it/s, scatter DriverId, TripDuration]"
     ]
    },
    {
     "name": "stderr",
     "output_type": "stream",
     "text": [
      "\r",
      "Summarize dataset:  33%|██▋     | 25/76 [00:17<00:21,  2.39it/s, scatter DriverId, TripDuration]"
     ]
    },
    {
     "name": "stderr",
     "output_type": "stream",
     "text": [
      "\r",
      "Summarize dataset:  33%|█▎  | 25/76 [00:17<00:21,  2.39it/s, scatter PrimeMoverId, TripDuration]"
     ]
    },
    {
     "name": "stderr",
     "output_type": "stream",
     "text": [
      "\r",
      "Summarize dataset:  34%|█▎  | 26/76 [00:18<00:20,  2.50it/s, scatter PrimeMoverId, TripDuration]"
     ]
    },
    {
     "name": "stderr",
     "output_type": "stream",
     "text": [
      "\r",
      "Summarize dataset:  34%|██▍    | 26/76 [00:18<00:20,  2.50it/s, scatter TrailerId, TripDuration]"
     ]
    },
    {
     "name": "stderr",
     "output_type": "stream",
     "text": [
      "\r",
      "Summarize dataset:  36%|██▍    | 27/76 [00:18<00:18,  2.65it/s, scatter TrailerId, TripDuration]"
     ]
    },
    {
     "name": "stderr",
     "output_type": "stream",
     "text": [
      "\r",
      "Summarize dataset:  36%|███▌      | 27/76 [00:18<00:18,  2.65it/s, scatter Status, TripDuration]"
     ]
    },
    {
     "name": "stderr",
     "output_type": "stream",
     "text": [
      "\r",
      "Summarize dataset:  37%|███▋      | 28/76 [00:18<00:17,  2.67it/s, scatter Status, TripDuration]"
     ]
    },
    {
     "name": "stderr",
     "output_type": "stream",
     "text": [
      "\r",
      "Summarize dataset:  37%|██▌    | 28/76 [00:18<00:17,  2.67it/s, scatter AGE_Years, TripDuration]"
     ]
    },
    {
     "name": "stderr",
     "output_type": "stream",
     "text": [
      "\r",
      "Summarize dataset:  38%|██▋    | 29/76 [00:19<00:16,  2.82it/s, scatter AGE_Years, TripDuration]"
     ]
    },
    {
     "name": "stderr",
     "output_type": "stream",
     "text": [
      "\r",
      "Summarize dataset:  38%|██▋    | 29/76 [00:19<00:16,  2.82it/s, scatter Seniority, TripDuration]"
     ]
    },
    {
     "name": "stderr",
     "output_type": "stream",
     "text": [
      "\r",
      "Summarize dataset:  39%|██▊    | 30/76 [00:19<00:15,  3.01it/s, scatter Seniority, TripDuration]"
     ]
    },
    {
     "name": "stderr",
     "output_type": "stream",
     "text": [
      "\r",
      "Summarize dataset:  39%|███▏    | 30/76 [00:19<00:15,  3.01it/s, scatter TripDuration, DriverId]"
     ]
    },
    {
     "name": "stderr",
     "output_type": "stream",
     "text": [
      "\r",
      "Summarize dataset:  41%|███▎    | 31/76 [00:19<00:14,  3.20it/s, scatter TripDuration, DriverId]"
     ]
    },
    {
     "name": "stderr",
     "output_type": "stream",
     "text": [
      "\r",
      "Summarize dataset:  41%|████▉       | 31/76 [00:19<00:14,  3.20it/s, scatter DriverId, DriverId]"
     ]
    },
    {
     "name": "stderr",
     "output_type": "stream",
     "text": [
      "\r",
      "Summarize dataset:  42%|█████       | 32/76 [00:19<00:13,  3.36it/s, scatter DriverId, DriverId]"
     ]
    },
    {
     "name": "stderr",
     "output_type": "stream",
     "text": [
      "\r",
      "Summarize dataset:  42%|███▎    | 32/76 [00:19<00:13,  3.36it/s, scatter PrimeMoverId, DriverId]"
     ]
    },
    {
     "name": "stderr",
     "output_type": "stream",
     "text": [
      "\r",
      "Summarize dataset:  43%|███▍    | 33/76 [00:20<00:12,  3.49it/s, scatter PrimeMoverId, DriverId]"
     ]
    },
    {
     "name": "stderr",
     "output_type": "stream",
     "text": [
      "\r",
      "Summarize dataset:  43%|████▊      | 33/76 [00:20<00:12,  3.49it/s, scatter TrailerId, DriverId]"
     ]
    },
    {
     "name": "stderr",
     "output_type": "stream",
     "text": [
      "\r",
      "Summarize dataset:  45%|████▉      | 34/76 [00:20<00:12,  3.32it/s, scatter TrailerId, DriverId]"
     ]
    },
    {
     "name": "stderr",
     "output_type": "stream",
     "text": [
      "\r",
      "Summarize dataset:  45%|██████▎       | 34/76 [00:20<00:12,  3.32it/s, scatter Status, DriverId]"
     ]
    },
    {
     "name": "stderr",
     "output_type": "stream",
     "text": [
      "\r",
      "Summarize dataset:  46%|██████▍       | 35/76 [00:20<00:13,  3.10it/s, scatter Status, DriverId]"
     ]
    },
    {
     "name": "stderr",
     "output_type": "stream",
     "text": [
      "\r",
      "Summarize dataset:  46%|█████      | 35/76 [00:20<00:13,  3.10it/s, scatter AGE_Years, DriverId]"
     ]
    },
    {
     "name": "stderr",
     "output_type": "stream",
     "text": [
      "\r",
      "Summarize dataset:  47%|█████▏     | 36/76 [00:21<00:12,  3.11it/s, scatter AGE_Years, DriverId]"
     ]
    },
    {
     "name": "stderr",
     "output_type": "stream",
     "text": [
      "\r",
      "Summarize dataset:  47%|█████▏     | 36/76 [00:21<00:12,  3.11it/s, scatter Seniority, DriverId]"
     ]
    },
    {
     "name": "stderr",
     "output_type": "stream",
     "text": [
      "\r",
      "Summarize dataset:  49%|█████▎     | 37/76 [00:21<00:12,  3.11it/s, scatter Seniority, DriverId]"
     ]
    },
    {
     "name": "stderr",
     "output_type": "stream",
     "text": [
      "\r",
      "Summarize dataset:  49%|█▉  | 37/76 [00:21<00:12,  3.11it/s, scatter TripDuration, PrimeMoverId]"
     ]
    },
    {
     "name": "stderr",
     "output_type": "stream",
     "text": [
      "\r",
      "Summarize dataset:  50%|██  | 38/76 [00:21<00:11,  3.32it/s, scatter TripDuration, PrimeMoverId]"
     ]
    },
    {
     "name": "stderr",
     "output_type": "stream",
     "text": [
      "\r",
      "Summarize dataset:  50%|████    | 38/76 [00:21<00:11,  3.32it/s, scatter DriverId, PrimeMoverId]"
     ]
    },
    {
     "name": "stderr",
     "output_type": "stream",
     "text": [
      "\r",
      "Summarize dataset:  51%|████    | 39/76 [00:22<00:10,  3.43it/s, scatter DriverId, PrimeMoverId]"
     ]
    },
    {
     "name": "stderr",
     "output_type": "stream",
     "text": [
      "\r",
      "Summarize dataset:  51%|██  | 39/76 [00:22<00:10,  3.43it/s, scatter PrimeMoverId, PrimeMoverId]"
     ]
    },
    {
     "name": "stderr",
     "output_type": "stream",
     "text": [
      "\r",
      "Summarize dataset:  53%|██  | 40/76 [00:22<00:10,  3.50it/s, scatter PrimeMoverId, PrimeMoverId]"
     ]
    },
    {
     "name": "stderr",
     "output_type": "stream",
     "text": [
      "\r",
      "Summarize dataset:  53%|███▋   | 40/76 [00:22<00:10,  3.50it/s, scatter TrailerId, PrimeMoverId]"
     ]
    },
    {
     "name": "stderr",
     "output_type": "stream",
     "text": [
      "\r",
      "Summarize dataset:  54%|███▊   | 41/76 [00:22<00:10,  3.45it/s, scatter TrailerId, PrimeMoverId]"
     ]
    },
    {
     "name": "stderr",
     "output_type": "stream",
     "text": [
      "\r",
      "Summarize dataset:  54%|█████▍    | 41/76 [00:22<00:10,  3.45it/s, scatter Status, PrimeMoverId]"
     ]
    },
    {
     "name": "stderr",
     "output_type": "stream",
     "text": [
      "\r",
      "Summarize dataset:  55%|█████▌    | 42/76 [00:23<00:10,  3.13it/s, scatter Status, PrimeMoverId]"
     ]
    },
    {
     "name": "stderr",
     "output_type": "stream",
     "text": [
      "\r",
      "Summarize dataset:  55%|███▊   | 42/76 [00:23<00:10,  3.13it/s, scatter AGE_Years, PrimeMoverId]"
     ]
    },
    {
     "name": "stderr",
     "output_type": "stream",
     "text": [
      "\r",
      "Summarize dataset:  57%|███▉   | 43/76 [00:23<00:10,  3.16it/s, scatter AGE_Years, PrimeMoverId]"
     ]
    },
    {
     "name": "stderr",
     "output_type": "stream",
     "text": [
      "\r",
      "Summarize dataset:  57%|███▉   | 43/76 [00:23<00:10,  3.16it/s, scatter Seniority, PrimeMoverId]"
     ]
    },
    {
     "name": "stderr",
     "output_type": "stream",
     "text": [
      "\r",
      "Summarize dataset:  58%|████   | 44/76 [00:23<00:09,  3.27it/s, scatter Seniority, PrimeMoverId]"
     ]
    },
    {
     "name": "stderr",
     "output_type": "stream",
     "text": [
      "\r",
      "Summarize dataset:  58%|████   | 44/76 [00:23<00:09,  3.27it/s, scatter TripDuration, TrailerId]"
     ]
    },
    {
     "name": "stderr",
     "output_type": "stream",
     "text": [
      "\r",
      "Summarize dataset:  59%|████▏  | 45/76 [00:23<00:09,  3.39it/s, scatter TripDuration, TrailerId]"
     ]
    },
    {
     "name": "stderr",
     "output_type": "stream",
     "text": [
      "\r",
      "Summarize dataset:  59%|██████▌    | 45/76 [00:23<00:09,  3.39it/s, scatter DriverId, TrailerId]"
     ]
    },
    {
     "name": "stderr",
     "output_type": "stream",
     "text": [
      "\r",
      "Summarize dataset:  61%|██████▋    | 46/76 [00:24<00:08,  3.37it/s, scatter DriverId, TrailerId]"
     ]
    },
    {
     "name": "stderr",
     "output_type": "stream",
     "text": [
      "\r",
      "Summarize dataset:  61%|████▏  | 46/76 [00:24<00:08,  3.37it/s, scatter PrimeMoverId, TrailerId]"
     ]
    },
    {
     "name": "stderr",
     "output_type": "stream",
     "text": [
      "\r",
      "Summarize dataset:  62%|████▎  | 47/76 [00:24<00:08,  3.39it/s, scatter PrimeMoverId, TrailerId]"
     ]
    },
    {
     "name": "stderr",
     "output_type": "stream",
     "text": [
      "\r",
      "Summarize dataset:  62%|██████▏   | 47/76 [00:24<00:08,  3.39it/s, scatter TrailerId, TrailerId]"
     ]
    },
    {
     "name": "stderr",
     "output_type": "stream",
     "text": [
      "\r",
      "Summarize dataset:  63%|██████▎   | 48/76 [00:24<00:08,  3.42it/s, scatter TrailerId, TrailerId]"
     ]
    },
    {
     "name": "stderr",
     "output_type": "stream",
     "text": [
      "\r",
      "Summarize dataset:  63%|████████▏    | 48/76 [00:24<00:08,  3.42it/s, scatter Status, TrailerId]"
     ]
    },
    {
     "name": "stderr",
     "output_type": "stream",
     "text": [
      "\r",
      "Summarize dataset:  64%|████████▍    | 49/76 [00:25<00:08,  3.06it/s, scatter Status, TrailerId]"
     ]
    },
    {
     "name": "stderr",
     "output_type": "stream",
     "text": [
      "\r",
      "Summarize dataset:  64%|██████▍   | 49/76 [00:25<00:08,  3.06it/s, scatter AGE_Years, TrailerId]"
     ]
    },
    {
     "name": "stderr",
     "output_type": "stream",
     "text": [
      "\r",
      "Summarize dataset:  66%|██████▌   | 50/76 [00:25<00:08,  3.09it/s, scatter AGE_Years, TrailerId]"
     ]
    },
    {
     "name": "stderr",
     "output_type": "stream",
     "text": [
      "\r",
      "Summarize dataset:  66%|██████▌   | 50/76 [00:25<00:08,  3.09it/s, scatter Seniority, TrailerId]"
     ]
    },
    {
     "name": "stderr",
     "output_type": "stream",
     "text": [
      "\r",
      "Summarize dataset:  67%|██████▋   | 51/76 [00:25<00:07,  3.19it/s, scatter Seniority, TrailerId]"
     ]
    },
    {
     "name": "stderr",
     "output_type": "stream",
     "text": [
      "\r",
      "Summarize dataset:  67%|██████▋   | 51/76 [00:25<00:07,  3.19it/s, scatter TripDuration, Status]"
     ]
    },
    {
     "name": "stderr",
     "output_type": "stream",
     "text": [
      "\r",
      "Summarize dataset:  68%|██████▊   | 52/76 [00:26<00:07,  3.03it/s, scatter TripDuration, Status]"
     ]
    },
    {
     "name": "stderr",
     "output_type": "stream",
     "text": [
      "\r",
      "Summarize dataset:  68%|█████████▌    | 52/76 [00:26<00:07,  3.03it/s, scatter DriverId, Status]"
     ]
    },
    {
     "name": "stderr",
     "output_type": "stream",
     "text": [
      "\r",
      "Summarize dataset:  70%|█████████▊    | 53/76 [00:26<00:07,  2.91it/s, scatter DriverId, Status]"
     ]
    },
    {
     "name": "stderr",
     "output_type": "stream",
     "text": [
      "\r",
      "Summarize dataset:  70%|██████▉   | 53/76 [00:26<00:07,  2.91it/s, scatter PrimeMoverId, Status]"
     ]
    },
    {
     "name": "stderr",
     "output_type": "stream",
     "text": [
      "\r",
      "Summarize dataset:  71%|███████   | 54/76 [00:26<00:07,  2.86it/s, scatter PrimeMoverId, Status]"
     ]
    },
    {
     "name": "stderr",
     "output_type": "stream",
     "text": [
      "\r",
      "Summarize dataset:  71%|█████████▏   | 54/76 [00:26<00:07,  2.86it/s, scatter TrailerId, Status]"
     ]
    },
    {
     "name": "stderr",
     "output_type": "stream",
     "text": [
      "\r",
      "Summarize dataset:  72%|█████████▍   | 55/76 [00:27<00:07,  2.64it/s, scatter TrailerId, Status]"
     ]
    },
    {
     "name": "stderr",
     "output_type": "stream",
     "text": [
      "\r",
      "Summarize dataset:  72%|███████████▌    | 55/76 [00:27<00:07,  2.64it/s, scatter Status, Status]"
     ]
    },
    {
     "name": "stderr",
     "output_type": "stream",
     "text": [
      "\r",
      "Summarize dataset:  74%|███████████▊    | 56/76 [00:27<00:07,  2.61it/s, scatter Status, Status]"
     ]
    },
    {
     "name": "stderr",
     "output_type": "stream",
     "text": [
      "\r",
      "Summarize dataset:  74%|█████████▌   | 56/76 [00:27<00:07,  2.61it/s, scatter AGE_Years, Status]"
     ]
    },
    {
     "name": "stderr",
     "output_type": "stream",
     "text": [
      "\r",
      "Summarize dataset:  75%|█████████▊   | 57/76 [00:28<00:07,  2.59it/s, scatter AGE_Years, Status]"
     ]
    },
    {
     "name": "stderr",
     "output_type": "stream",
     "text": [
      "\r",
      "Summarize dataset:  75%|█████████▊   | 57/76 [00:28<00:07,  2.59it/s, scatter Seniority, Status]"
     ]
    },
    {
     "name": "stderr",
     "output_type": "stream",
     "text": [
      "\r",
      "Summarize dataset:  76%|█████████▉   | 58/76 [00:28<00:06,  2.65it/s, scatter Seniority, Status]"
     ]
    },
    {
     "name": "stderr",
     "output_type": "stream",
     "text": [
      "\r",
      "Summarize dataset:  76%|█████▎ | 58/76 [00:28<00:06,  2.65it/s, scatter TripDuration, AGE_Years]"
     ]
    },
    {
     "name": "stderr",
     "output_type": "stream",
     "text": [
      "\r",
      "Summarize dataset:  78%|█████▍ | 59/76 [00:28<00:05,  2.91it/s, scatter TripDuration, AGE_Years]"
     ]
    },
    {
     "name": "stderr",
     "output_type": "stream",
     "text": [
      "\r",
      "Summarize dataset:  78%|████████▌  | 59/76 [00:28<00:05,  2.91it/s, scatter DriverId, AGE_Years]"
     ]
    },
    {
     "name": "stderr",
     "output_type": "stream",
     "text": [
      "\r",
      "Summarize dataset:  79%|████████▋  | 60/76 [00:28<00:05,  3.13it/s, scatter DriverId, AGE_Years]"
     ]
    },
    {
     "name": "stderr",
     "output_type": "stream",
     "text": [
      "\r",
      "Summarize dataset:  79%|█████▌ | 60/76 [00:28<00:05,  3.13it/s, scatter PrimeMoverId, AGE_Years]"
     ]
    },
    {
     "name": "stderr",
     "output_type": "stream",
     "text": [
      "\r",
      "Summarize dataset:  80%|█████▌ | 61/76 [00:29<00:04,  3.23it/s, scatter PrimeMoverId, AGE_Years]"
     ]
    },
    {
     "name": "stderr",
     "output_type": "stream",
     "text": [
      "\r",
      "Summarize dataset:  80%|████████  | 61/76 [00:29<00:04,  3.23it/s, scatter TrailerId, AGE_Years]"
     ]
    },
    {
     "name": "stderr",
     "output_type": "stream",
     "text": [
      "\r",
      "Summarize dataset:  82%|████████▏ | 62/76 [00:29<00:04,  3.25it/s, scatter TrailerId, AGE_Years]"
     ]
    },
    {
     "name": "stderr",
     "output_type": "stream",
     "text": [
      "\r",
      "Summarize dataset:  82%|██████████▌  | 62/76 [00:29<00:04,  3.25it/s, scatter Status, AGE_Years]"
     ]
    },
    {
     "name": "stderr",
     "output_type": "stream",
     "text": [
      "\r",
      "Summarize dataset:  83%|██████████▊  | 63/76 [00:29<00:04,  3.13it/s, scatter Status, AGE_Years]"
     ]
    },
    {
     "name": "stderr",
     "output_type": "stream",
     "text": [
      "\r",
      "Summarize dataset:  83%|████████▎ | 63/76 [00:29<00:04,  3.13it/s, scatter AGE_Years, AGE_Years]"
     ]
    },
    {
     "name": "stderr",
     "output_type": "stream",
     "text": [
      "\r",
      "Summarize dataset:  84%|████████▍ | 64/76 [00:30<00:03,  3.18it/s, scatter AGE_Years, AGE_Years]"
     ]
    },
    {
     "name": "stderr",
     "output_type": "stream",
     "text": [
      "\r",
      "Summarize dataset:  84%|████████▍ | 64/76 [00:30<00:03,  3.18it/s, scatter Seniority, AGE_Years]"
     ]
    },
    {
     "name": "stderr",
     "output_type": "stream",
     "text": [
      "\r",
      "Summarize dataset:  86%|████████▌ | 65/76 [00:30<00:03,  3.33it/s, scatter Seniority, AGE_Years]"
     ]
    },
    {
     "name": "stderr",
     "output_type": "stream",
     "text": [
      "\r",
      "Summarize dataset:  86%|█████▉ | 65/76 [00:30<00:03,  3.33it/s, scatter TripDuration, Seniority]"
     ]
    },
    {
     "name": "stderr",
     "output_type": "stream",
     "text": [
      "\r",
      "Summarize dataset:  87%|██████ | 66/76 [00:30<00:02,  3.47it/s, scatter TripDuration, Seniority]"
     ]
    },
    {
     "name": "stderr",
     "output_type": "stream",
     "text": [
      "\r",
      "Summarize dataset:  87%|█████████▌ | 66/76 [00:30<00:02,  3.47it/s, scatter DriverId, Seniority]"
     ]
    },
    {
     "name": "stderr",
     "output_type": "stream",
     "text": [
      "\r",
      "Summarize dataset:  88%|█████████▋ | 67/76 [00:31<00:02,  3.47it/s, scatter DriverId, Seniority]"
     ]
    },
    {
     "name": "stderr",
     "output_type": "stream",
     "text": [
      "\r",
      "Summarize dataset:  88%|██████▏| 67/76 [00:31<00:02,  3.47it/s, scatter PrimeMoverId, Seniority]"
     ]
    },
    {
     "name": "stderr",
     "output_type": "stream",
     "text": [
      "\r",
      "Summarize dataset:  89%|██████▎| 68/76 [00:31<00:02,  3.56it/s, scatter PrimeMoverId, Seniority]"
     ]
    },
    {
     "name": "stderr",
     "output_type": "stream",
     "text": [
      "\r",
      "Summarize dataset:  89%|████████▉ | 68/76 [00:31<00:02,  3.56it/s, scatter TrailerId, Seniority]"
     ]
    },
    {
     "name": "stderr",
     "output_type": "stream",
     "text": [
      "\r",
      "Summarize dataset:  91%|█████████ | 69/76 [00:31<00:02,  3.39it/s, scatter TrailerId, Seniority]"
     ]
    },
    {
     "name": "stderr",
     "output_type": "stream",
     "text": [
      "\r",
      "Summarize dataset:  91%|███████████▊ | 69/76 [00:31<00:02,  3.39it/s, scatter Status, Seniority]"
     ]
    },
    {
     "name": "stderr",
     "output_type": "stream",
     "text": [
      "\r",
      "Summarize dataset:  92%|███████████▉ | 70/76 [00:31<00:01,  3.22it/s, scatter Status, Seniority]"
     ]
    },
    {
     "name": "stderr",
     "output_type": "stream",
     "text": [
      "\r",
      "Summarize dataset:  92%|█████████▏| 70/76 [00:31<00:01,  3.22it/s, scatter AGE_Years, Seniority]"
     ]
    },
    {
     "name": "stderr",
     "output_type": "stream",
     "text": [
      "\r",
      "Summarize dataset:  93%|█████████▎| 71/76 [00:32<00:01,  3.37it/s, scatter AGE_Years, Seniority]"
     ]
    },
    {
     "name": "stderr",
     "output_type": "stream",
     "text": [
      "\r",
      "Summarize dataset:  93%|█████████▎| 71/76 [00:32<00:01,  3.37it/s, scatter Seniority, Seniority]"
     ]
    },
    {
     "name": "stderr",
     "output_type": "stream",
     "text": [
      "\r",
      "Summarize dataset:  95%|█████████▍| 72/76 [00:32<00:01,  3.44it/s, scatter Seniority, Seniority]"
     ]
    },
    {
     "name": "stderr",
     "output_type": "stream",
     "text": [
      "\r",
      "Summarize dataset:  91%|█████████████████▎ | 72/79 [00:32<00:02,  3.44it/s, Missing diagram bar]"
     ]
    },
    {
     "name": "stderr",
     "output_type": "stream",
     "text": [
      "\r",
      "Summarize dataset:  92%|█████████████████▌ | 73/79 [00:33<00:02,  2.61it/s, Missing diagram bar]"
     ]
    },
    {
     "name": "stderr",
     "output_type": "stream",
     "text": [
      "\r",
      "Summarize dataset:  92%|██████████████▊ | 73/79 [00:33<00:02,  2.61it/s, Missing diagram matrix]"
     ]
    },
    {
     "name": "stderr",
     "output_type": "stream",
     "text": [
      "\r",
      "Summarize dataset:  94%|██████████████▉ | 74/79 [00:36<00:06,  1.24s/it, Missing diagram matrix]"
     ]
    },
    {
     "name": "stderr",
     "output_type": "stream",
     "text": [
      "\r",
      "Summarize dataset:  94%|██████████████ | 74/79 [00:36<00:06,  1.24s/it, Missing diagram heatmap]"
     ]
    },
    {
     "name": "stderr",
     "output_type": "stream",
     "text": [
      "C:\\DBA_Test\\Code\\sutd_eda\\Lib\\site-packages\\seaborn\\matrix.py:260: FutureWarning: Format strings passed to MaskedConstant are ignored, but in future may error or produce different behavior\n",
      "  annotation = (\"{:\" + self.fmt + \"}\").format(val)\n",
      "C:\\DBA_Test\\Code\\sutd_eda\\Lib\\site-packages\\ydata_profiling\\model\\missing.py:78: UserWarning: There was an attempt to generate the Heatmap missing values diagrams, but this failed.\n",
      "To hide this warning, disable the calculation\n",
      "(using `df.profile_report(missing_diagrams={\"Heatmap\": False}`)\n",
      "If this is problematic for your use case, please report this as an issue:\n",
      "https://github.com/ydataai/ydata-profiling/issues\n",
      "(include the error message: 'could not convert string to float: '--'')\n",
      "  warnings.warn(\n",
      "\r",
      "Summarize dataset:  95%|██████████████▏| 75/79 [00:37<00:04,  1.11s/it, Missing diagram heatmap]"
     ]
    },
    {
     "name": "stderr",
     "output_type": "stream",
     "text": [
      "\r",
      "Summarize dataset:  95%|█████████████████████████▋ | 75/79 [00:37<00:04,  1.11s/it, Take sample]"
     ]
    },
    {
     "name": "stderr",
     "output_type": "stream",
     "text": [
      "\r",
      "Summarize dataset:  96%|█████████████████▎| 76/79 [00:37<00:03,  1.11s/it, Detecting duplicates]"
     ]
    },
    {
     "name": "stderr",
     "output_type": "stream",
     "text": [
      "\r",
      "Summarize dataset:  97%|█████████████████▌| 77/79 [00:38<00:01,  1.10it/s, Detecting duplicates]"
     ]
    },
    {
     "name": "stderr",
     "output_type": "stream",
     "text": [
      "\r",
      "Summarize dataset:  97%|███████████████████████████▎| 77/79 [00:38<00:01,  1.10it/s, Get alerts]"
     ]
    },
    {
     "name": "stderr",
     "output_type": "stream",
     "text": [
      "\r",
      "Summarize dataset:  99%|█████████████▊| 78/79 [00:38<00:00,  1.10it/s, Get reproduction details]"
     ]
    },
    {
     "name": "stderr",
     "output_type": "stream",
     "text": [
      "\r",
      "Summarize dataset: 100%|█████████████████████████████| 79/79 [00:38<00:00,  1.10it/s, Completed]"
     ]
    },
    {
     "name": "stderr",
     "output_type": "stream",
     "text": [
      "\r",
      "Summarize dataset: 100%|█████████████████████████████| 79/79 [00:38<00:00,  2.05it/s, Completed]"
     ]
    },
    {
     "name": "stderr",
     "output_type": "stream",
     "text": [
      "\n"
     ]
    },
    {
     "name": "stderr",
     "output_type": "stream",
     "text": [
      "\r",
      "Generate report structure:   0%|                                          | 0/1 [00:00<?, ?it/s]"
     ]
    },
    {
     "name": "stderr",
     "output_type": "stream",
     "text": [
      "\r",
      "Generate report structure: 100%|██████████████████████████████████| 1/1 [00:07<00:00,  7.42s/it]"
     ]
    },
    {
     "name": "stderr",
     "output_type": "stream",
     "text": [
      "\r",
      "Generate report structure: 100%|██████████████████████████████████| 1/1 [00:07<00:00,  7.42s/it]"
     ]
    },
    {
     "name": "stderr",
     "output_type": "stream",
     "text": [
      "\n"
     ]
    },
    {
     "name": "stderr",
     "output_type": "stream",
     "text": [
      "\r",
      "Render HTML:   0%|                                                        | 0/1 [00:00<?, ?it/s]"
     ]
    },
    {
     "name": "stderr",
     "output_type": "stream",
     "text": [
      "\r",
      "Render HTML: 100%|████████████████████████████████████████████████| 1/1 [00:01<00:00,  1.88s/it]"
     ]
    },
    {
     "name": "stderr",
     "output_type": "stream",
     "text": [
      "\r",
      "Render HTML: 100%|████████████████████████████████████████████████| 1/1 [00:01<00:00,  1.88s/it]"
     ]
    },
    {
     "name": "stderr",
     "output_type": "stream",
     "text": [
      "\n"
     ]
    },
    {
     "name": "stderr",
     "output_type": "stream",
     "text": [
      "\r",
      "Export report to file:   0%|                                              | 0/1 [00:00<?, ?it/s]"
     ]
    },
    {
     "name": "stderr",
     "output_type": "stream",
     "text": [
      "\r",
      "Export report to file: 100%|██████████████████████████████████████| 1/1 [00:00<00:00, 48.07it/s]"
     ]
    },
    {
     "name": "stderr",
     "output_type": "stream",
     "text": [
      "\n"
     ]
    }
   ],
   "source": [
    "profile = ProfileReport(final_df, title='Total PowerBI Data Profiling Report')\n",
    "\n",
    "profile.to_file(SAVE_TO_HTML)"
   ]
  },
  {
   "cell_type": "markdown",
   "metadata": {},
   "source": [
    "# Save to CSV File for Power BI Analysis"
   ]
  },
  {
   "cell_type": "code",
   "execution_count": 38,
   "metadata": {
    "execution": {
     "iopub.execute_input": "2024-04-16T08:09:23.638140Z",
     "iopub.status.busy": "2024-04-16T08:09:23.638140Z",
     "iopub.status.idle": "2024-04-16T08:09:37.053746Z",
     "shell.execute_reply": "2024-04-16T08:09:37.053746Z"
    }
   },
   "outputs": [],
   "source": [
    "final_df.to_csv(SAVE_TO_CSV, index=False)"
   ]
  },
  {
   "cell_type": "code",
   "execution_count": null,
   "metadata": {},
   "outputs": [],
   "source": []
  }
 ],
 "metadata": {
  "kernelspec": {
   "display_name": "ydata",
   "language": "python",
   "name": "python3"
  },
  "language_info": {
   "codemirror_mode": {
    "name": "ipython",
    "version": 3
   },
   "file_extension": ".py",
   "mimetype": "text/x-python",
   "name": "python",
   "nbconvert_exporter": "python",
   "pygments_lexer": "ipython3",
   "version": "3.12.1"
  }
 },
 "nbformat": 4,
 "nbformat_minor": 2
}
